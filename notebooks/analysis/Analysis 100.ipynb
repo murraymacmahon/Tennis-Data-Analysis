{
 "cells": [
  {
   "cell_type": "markdown",
   "metadata": {},
   "source": [
    "# Analysis 100"
   ]
  },
  {
   "cell_type": "markdown",
   "metadata": {},
   "source": [
    "## Purpose\n",
    "* This is the first analysis notebook of our project and this is where we will begin to run commands and actions on our cleaned dataframes.\n",
    "* We have three reseach questions that need to be answered for our project and these analysis notebooks is where they must begin.\n",
    "* These questions are:\n",
    "    * How has the game of tennis developed since 1968?\n",
    "    * What factors impact the success of a top player?\n",
    "    * Can we predict the next young Grand Slam winner?\n",
    "* In this notebook we will focus on research question 1 'How has the game of tennis developed since 1968?'"
   ]
  },
  {
   "cell_type": "markdown",
   "metadata": {},
   "source": [
    "## Datasets\n",
    "* These dataframes were created in the Prep notebooks of this project.\n",
    "* atp_main; a dataframe which holds each match (as a row) of the Men's Singles game from 1968-2017.\n",
    "* atp_small; a smaller dataframe which holds each Men's Singles match from 2003-2014. This was created in order to find a corresponding dataframe to wta_dataset which is explained below."
   ]
  },
  {
   "cell_type": "code",
   "execution_count": 1,
   "metadata": {
    "collapsed": true
   },
   "outputs": [],
   "source": [
    "# Importing relevant libraries\n",
    "import os\n",
    "import sys\n",
    "import hashlib\n",
    "import numpy as np\n",
    "import pandas as pd\n",
    "    \n",
    "%matplotlib inline"
   ]
  },
  {
   "cell_type": "code",
   "execution_count": 2,
   "metadata": {},
   "outputs": [
    {
     "name": "stdout",
     "output_type": "stream",
     "text": [
      "Success!\n"
     ]
    }
   ],
   "source": [
    "# Checking if path exists\n",
    "if not os.path.exists(\"../data/atp_main\"):\n",
    "    print(\"Missing project folder\")\n",
    "print(\"Success!\")"
   ]
  },
  {
   "cell_type": "markdown",
   "metadata": {},
   "source": [
    "## Reading the files"
   ]
  },
  {
   "cell_type": "code",
   "execution_count": 3,
   "metadata": {
    "collapsed": true
   },
   "outputs": [],
   "source": [
    "# Open and read dataframes\n",
    "# Additionally for this notebook, we need a time series index for our analysis\n",
    "# As we are comparing data from paticular datas so creating a timeseries makes this easier\n",
    "atp_main = pd.read_csv(\"../data/atp_main\", low_memory = False, index_col = 'tourney_date')"
   ]
  },
  {
   "cell_type": "code",
   "execution_count": 4,
   "metadata": {
    "collapsed": true
   },
   "outputs": [],
   "source": [
    "# Index by date\n",
    "atp_main.index = pd.to_datetime(atp_main.index, format=\"%Y-%m-%d\", errors='coerce')"
   ]
  },
  {
   "cell_type": "code",
   "execution_count": 5,
   "metadata": {
    "collapsed": true
   },
   "outputs": [],
   "source": [
    "atp_small = pd.read_csv(\"../data/atp_small\", low_memory = False)"
   ]
  },
  {
   "cell_type": "markdown",
   "metadata": {},
   "source": [
    "## RQ1: How has the game of tennis developed since 1968?\n",
    "* We have chosen numerous areas to focus on in answering this question, namely;\n",
    "    * Length of matches.\n",
    "    * Each of the 4 tennis surfaces where matches can be played on and their prevalence over the years.\n",
    "    * The Ace - an ace is made in tennis when the server hits his/her serve in such a way that the opponent cannot touch it i.e. it is too fast or at too much of an angle.\n",
    "    * The countries producing the tennis talent."
   ]
  },
  {
   "cell_type": "markdown",
   "metadata": {},
   "source": [
    "#### A view of the length of tennis matches since 1990, on average.\n",
    "<br> \n",
    "We have chosen to investigate from 1990 forward as minutes only began to be recorded from then in our dataset"
   ]
  },
  {
   "cell_type": "markdown",
   "metadata": {},
   "source": [
    "We can see how the game has progressed as the match minutes are getting longer"
   ]
  },
  {
   "cell_type": "code",
   "execution_count": 6,
   "metadata": {},
   "outputs": [
    {
     "data": {
      "text/plain": [
       "match_year\n",
       "1991.0    103.081248\n",
       "1992.0    106.141569\n",
       "1993.0    100.063582\n",
       "1994.0     93.702773\n",
       "1995.0     92.700000\n",
       "1996.0     92.550410\n",
       "1997.0     95.753036\n",
       "1998.0     93.967700\n",
       "1999.0     98.295516\n",
       "2000.0     99.180150\n",
       "2001.0    100.915460\n",
       "2002.0    101.871731\n",
       "2003.0    100.446547\n",
       "2004.0    100.525182\n",
       "2005.0    101.984885\n",
       "2006.0    104.451702\n",
       "2007.0    103.163578\n",
       "2008.0    105.386257\n",
       "2009.0    107.541621\n",
       "2010.0    106.954713\n",
       "2011.0    108.318943\n",
       "2012.0    110.297277\n",
       "2013.0    103.839648\n",
       "2014.0    104.377234\n",
       "2015.0    105.039970\n",
       "2016.0    108.828708\n",
       "2017.0    125.935829\n",
       "Name: minutes, dtype: float64"
      ]
     },
     "execution_count": 6,
     "metadata": {},
     "output_type": "execute_result"
    }
   ],
   "source": [
    "atp_main[atp_main.match_year>1990].groupby(['match_year'])['minutes'].mean()"
   ]
  },
  {
   "cell_type": "markdown",
   "metadata": {},
   "source": [
    "In the 90's we see the average match minutes is 97.6"
   ]
  },
  {
   "cell_type": "code",
   "execution_count": 7,
   "metadata": {},
   "outputs": [
    {
     "data": {
      "text/plain": [
       "97.60476479417494"
      ]
     },
     "execution_count": 7,
     "metadata": {},
     "output_type": "execute_result"
    }
   ],
   "source": [
    "avg_min_90s = atp_main['1990':'2000']['minutes'].mean()\n",
    "avg_min_90s"
   ]
  },
  {
   "cell_type": "code",
   "execution_count": 8,
   "metadata": {},
   "outputs": [
    {
     "data": {
      "text/plain": [
       "105.56791927627"
      ]
     },
     "execution_count": 8,
     "metadata": {},
     "output_type": "execute_result"
    }
   ],
   "source": [
    "avg_min_00s = atp_main['2005':'2015']['minutes'].mean()\n",
    "avg_min_00s"
   ]
  },
  {
   "cell_type": "markdown",
   "metadata": {},
   "source": [
    "* We can see just in difference of 25 years that the average playing times have risen.\n",
    "* A rise by 8 minutes on average! Why is this? \n",
    "    * Introduction of Hawk Eye? "
   ]
  },
  {
   "cell_type": "markdown",
   "metadata": {},
   "source": [
    "#### Hawk-Eye\n",
    "* This technology was introduced in 2005 where players could challenge a line-call. Traditionally, players would accept the call of the umpire on whether the ball was in or out and get on with the game. \n",
    "* The introduction of Hawk-Eye in 2005 meant that players could challenge a call and this was the process; player thinks about challenging, player challenges the call, umpire announces to the crowd that the player has challenged, crowd waits for the big screen to show the reply of the ball, big screen shows whether the ball was in or out, crowd cheers and finally players are ready to get back to the match.\n",
    "*Since the introduction of Hawk-Eye, avergae match lengths in the Men's game have never fallen below 103 minutes. Before Hawk-Eye (1991-2004), 85% of the average length of matches were less than 103 minutes.*"
   ]
  },
  {
   "cell_type": "markdown",
   "metadata": {},
   "source": [
    "##### Average tennis match times by surface"
   ]
  },
  {
   "cell_type": "code",
   "execution_count": 9,
   "metadata": {},
   "outputs": [
    {
     "data": {
      "text/html": [
       "<div>\n",
       "<style>\n",
       "    .dataframe thead tr:only-child th {\n",
       "        text-align: right;\n",
       "    }\n",
       "\n",
       "    .dataframe thead th {\n",
       "        text-align: left;\n",
       "    }\n",
       "\n",
       "    .dataframe tbody tr th {\n",
       "        vertical-align: top;\n",
       "    }\n",
       "</style>\n",
       "<table border=\"1\" class=\"dataframe\">\n",
       "  <thead>\n",
       "    <tr style=\"text-align: right;\">\n",
       "      <th></th>\n",
       "      <th>surface</th>\n",
       "      <th>minutes</th>\n",
       "    </tr>\n",
       "  </thead>\n",
       "  <tbody>\n",
       "    <tr>\n",
       "      <th>0</th>\n",
       "      <td>Carpet</td>\n",
       "      <td>91.649648</td>\n",
       "    </tr>\n",
       "    <tr>\n",
       "      <th>1</th>\n",
       "      <td>Clay</td>\n",
       "      <td>99.009918</td>\n",
       "    </tr>\n",
       "    <tr>\n",
       "      <th>2</th>\n",
       "      <td>Grass</td>\n",
       "      <td>104.926525</td>\n",
       "    </tr>\n",
       "    <tr>\n",
       "      <th>3</th>\n",
       "      <td>Hard</td>\n",
       "      <td>96.983812</td>\n",
       "    </tr>\n",
       "  </tbody>\n",
       "</table>\n",
       "</div>"
      ],
      "text/plain": [
       "  surface     minutes\n",
       "0  Carpet   91.649648\n",
       "1    Clay   99.009918\n",
       "2   Grass  104.926525\n",
       "3    Hard   96.983812"
      ]
     },
     "execution_count": 9,
     "metadata": {},
     "output_type": "execute_result"
    }
   ],
   "source": [
    "# Group this by surface type\n",
    "avg_mins_df = atp_main['1990':'2000'].groupby('surface', as_index=False)['minutes'].mean()\n",
    "avg_mins_df"
   ]
  },
  {
   "cell_type": "code",
   "execution_count": 10,
   "metadata": {},
   "outputs": [
    {
     "data": {
      "text/html": [
       "<div>\n",
       "<style>\n",
       "    .dataframe thead tr:only-child th {\n",
       "        text-align: right;\n",
       "    }\n",
       "\n",
       "    .dataframe thead th {\n",
       "        text-align: left;\n",
       "    }\n",
       "\n",
       "    .dataframe tbody tr th {\n",
       "        vertical-align: top;\n",
       "    }\n",
       "</style>\n",
       "<table border=\"1\" class=\"dataframe\">\n",
       "  <thead>\n",
       "    <tr style=\"text-align: right;\">\n",
       "      <th></th>\n",
       "      <th>surface</th>\n",
       "      <th>minutes</th>\n",
       "    </tr>\n",
       "  </thead>\n",
       "  <tbody>\n",
       "    <tr>\n",
       "      <th>0</th>\n",
       "      <td>Carpet</td>\n",
       "      <td>93.486865</td>\n",
       "    </tr>\n",
       "    <tr>\n",
       "      <th>1</th>\n",
       "      <td>Clay</td>\n",
       "      <td>106.450450</td>\n",
       "    </tr>\n",
       "    <tr>\n",
       "      <th>2</th>\n",
       "      <td>Grass</td>\n",
       "      <td>110.954738</td>\n",
       "    </tr>\n",
       "    <tr>\n",
       "      <th>3</th>\n",
       "      <td>Hard</td>\n",
       "      <td>104.403425</td>\n",
       "    </tr>\n",
       "  </tbody>\n",
       "</table>\n",
       "</div>"
      ],
      "text/plain": [
       "  surface     minutes\n",
       "0  Carpet   93.486865\n",
       "1    Clay  106.450450\n",
       "2   Grass  110.954738\n",
       "3    Hard  104.403425"
      ]
     },
     "execution_count": 10,
     "metadata": {},
     "output_type": "execute_result"
    }
   ],
   "source": [
    "# Group this by surface type\n",
    "avg_mins_df = atp_main['2005':'2015'].groupby('surface', as_index=False)['minutes'].mean()\n",
    "avg_mins_df"
   ]
  },
  {
   "cell_type": "markdown",
   "metadata": {},
   "source": [
    "* Each surface has increased in match minutes over the last 25 years\n",
    "* We can see grass has the longest matches on average followed by clay. Interestingly, grass is actually a faster game as the ball bounces low therefore the players must reach it faster. Clay, on the otherhand, is a slow game for the opposite reason as the ball bounces higher. \n",
    "* It's a surprising result that grass in fact has longer games. "
   ]
  },
  {
   "cell_type": "markdown",
   "metadata": {},
   "source": [
    "#### Longest tennis match in history"
   ]
  },
  {
   "cell_type": "code",
   "execution_count": 11,
   "metadata": {},
   "outputs": [
    {
     "data": {
      "text/html": [
       "<div>\n",
       "<style>\n",
       "    .dataframe thead tr:only-child th {\n",
       "        text-align: right;\n",
       "    }\n",
       "\n",
       "    .dataframe thead th {\n",
       "        text-align: left;\n",
       "    }\n",
       "\n",
       "    .dataframe tbody tr th {\n",
       "        vertical-align: top;\n",
       "    }\n",
       "</style>\n",
       "<table border=\"1\" class=\"dataframe\">\n",
       "  <thead>\n",
       "    <tr style=\"text-align: right;\">\n",
       "      <th></th>\n",
       "      <th>tourney_id</th>\n",
       "      <th>tourney_name</th>\n",
       "      <th>surface</th>\n",
       "      <th>draw_size</th>\n",
       "      <th>tourney_level</th>\n",
       "      <th>match_num</th>\n",
       "      <th>winner_id</th>\n",
       "      <th>winner_seed</th>\n",
       "      <th>winner_entry</th>\n",
       "      <th>winner_name</th>\n",
       "      <th>...</th>\n",
       "      <th>l_ace</th>\n",
       "      <th>l_df</th>\n",
       "      <th>l_svpt</th>\n",
       "      <th>l_1stIn</th>\n",
       "      <th>l_1stWon</th>\n",
       "      <th>l_2ndWon</th>\n",
       "      <th>l_SvGms</th>\n",
       "      <th>l_bpSaved</th>\n",
       "      <th>l_bpFaced</th>\n",
       "      <th>match_year</th>\n",
       "    </tr>\n",
       "    <tr>\n",
       "      <th>tourney_date</th>\n",
       "      <th></th>\n",
       "      <th></th>\n",
       "      <th></th>\n",
       "      <th></th>\n",
       "      <th></th>\n",
       "      <th></th>\n",
       "      <th></th>\n",
       "      <th></th>\n",
       "      <th></th>\n",
       "      <th></th>\n",
       "      <th></th>\n",
       "      <th></th>\n",
       "      <th></th>\n",
       "      <th></th>\n",
       "      <th></th>\n",
       "      <th></th>\n",
       "      <th></th>\n",
       "      <th></th>\n",
       "      <th></th>\n",
       "      <th></th>\n",
       "      <th></th>\n",
       "    </tr>\n",
       "  </thead>\n",
       "  <tbody>\n",
       "    <tr>\n",
       "      <th>2010-06-21</th>\n",
       "      <td>2010-540</td>\n",
       "      <td>Wimbledon</td>\n",
       "      <td>Grass</td>\n",
       "      <td>128</td>\n",
       "      <td>G</td>\n",
       "      <td>60</td>\n",
       "      <td>104545</td>\n",
       "      <td>23</td>\n",
       "      <td>NaN</td>\n",
       "      <td>John Isner</td>\n",
       "      <td>...</td>\n",
       "      <td>103</td>\n",
       "      <td>21</td>\n",
       "      <td>489</td>\n",
       "      <td>328</td>\n",
       "      <td>284</td>\n",
       "      <td>101</td>\n",
       "      <td>91</td>\n",
       "      <td>12</td>\n",
       "      <td>14</td>\n",
       "      <td>2010.0</td>\n",
       "    </tr>\n",
       "    <tr>\n",
       "      <th>2011-06-20</th>\n",
       "      <td>2011-540</td>\n",
       "      <td>Wimbledon</td>\n",
       "      <td>Grass</td>\n",
       "      <td>128</td>\n",
       "      <td>G</td>\n",
       "      <td>42</td>\n",
       "      <td>104545</td>\n",
       "      <td>NaN</td>\n",
       "      <td>NaN</td>\n",
       "      <td>John Isner</td>\n",
       "      <td>...</td>\n",
       "      <td>8</td>\n",
       "      <td>6</td>\n",
       "      <td>104</td>\n",
       "      <td>68</td>\n",
       "      <td>48</td>\n",
       "      <td>21</td>\n",
       "      <td>16</td>\n",
       "      <td>2</td>\n",
       "      <td>5</td>\n",
       "      <td>2011.0</td>\n",
       "    </tr>\n",
       "    <tr>\n",
       "      <th>2012-07-09</th>\n",
       "      <td>2012-315</td>\n",
       "      <td>Newport</td>\n",
       "      <td>Grass</td>\n",
       "      <td>32</td>\n",
       "      <td>A</td>\n",
       "      <td>17</td>\n",
       "      <td>104545</td>\n",
       "      <td>1</td>\n",
       "      <td>NaN</td>\n",
       "      <td>John Isner</td>\n",
       "      <td>...</td>\n",
       "      <td>5</td>\n",
       "      <td>7</td>\n",
       "      <td>70</td>\n",
       "      <td>31</td>\n",
       "      <td>22</td>\n",
       "      <td>20</td>\n",
       "      <td>10</td>\n",
       "      <td>6</td>\n",
       "      <td>8</td>\n",
       "      <td>2012.0</td>\n",
       "    </tr>\n",
       "  </tbody>\n",
       "</table>\n",
       "<p>3 rows × 49 columns</p>\n",
       "</div>"
      ],
      "text/plain": [
       "             tourney_id tourney_name surface draw_size tourney_level  \\\n",
       "tourney_date                                                           \n",
       "2010-06-21     2010-540    Wimbledon   Grass       128             G   \n",
       "2011-06-20     2011-540    Wimbledon   Grass       128             G   \n",
       "2012-07-09     2012-315      Newport   Grass        32             A   \n",
       "\n",
       "             match_num winner_id winner_seed winner_entry winner_name  \\\n",
       "tourney_date                                                            \n",
       "2010-06-21          60    104545          23          NaN  John Isner   \n",
       "2011-06-20          42    104545         NaN          NaN  John Isner   \n",
       "2012-07-09          17    104545           1          NaN  John Isner   \n",
       "\n",
       "                ...     l_ace  l_df l_svpt  l_1stIn l_1stWon l_2ndWon l_SvGms  \\\n",
       "tourney_date    ...                                                             \n",
       "2010-06-21      ...       103    21    489      328      284      101      91   \n",
       "2011-06-20      ...         8     6    104       68       48       21      16   \n",
       "2012-07-09      ...         5     7     70       31       22       20      10   \n",
       "\n",
       "             l_bpSaved l_bpFaced match_year  \n",
       "tourney_date                                 \n",
       "2010-06-21          12        14     2010.0  \n",
       "2011-06-20           2         5     2011.0  \n",
       "2012-07-09           6         8     2012.0  \n",
       "\n",
       "[3 rows x 49 columns]"
      ]
     },
     "execution_count": 11,
     "metadata": {},
     "output_type": "execute_result"
    }
   ],
   "source": [
    "# Finding the longest tennis match in history in our dataframe\n",
    "atp_main.loc[(atp_main['winner_name'] == 'John Isner') & (atp_main['loser_name'] == 'Nicolas Mahut')]"
   ]
  },
  {
   "cell_type": "markdown",
   "metadata": {},
   "source": [
    "* In the table above you can see that the players who contended the longest match in history were drawn to play each other the very next year in Wimbledon again. John Isner won again but in a much quicker fashion.\n",
    "* Interestingly, the longest game ever was played on a grass surface."
   ]
  },
  {
   "cell_type": "code",
   "execution_count": 12,
   "metadata": {},
   "outputs": [
    {
     "data": {
      "text/plain": [
       "tourney_date\n",
       "2010-06-21    6-4 3-6 6-7(7) 7-6(3) 70-68\n",
       "2011-06-20              7-6(4) 6-2 7-6(6)\n",
       "2012-07-09                     6-2 7-6(2)\n",
       "Name: score, dtype: object"
      ]
     },
     "execution_count": 12,
     "metadata": {},
     "output_type": "execute_result"
    }
   ],
   "source": [
    "atp_main['score'].loc[(atp_main['winner_name'] == 'John Isner') & (atp_main['loser_name'] == 'Nicolas Mahut')]"
   ]
  },
  {
   "cell_type": "code",
   "execution_count": 13,
   "metadata": {},
   "outputs": [
    {
     "data": {
      "text/plain": [
       "tourney_date\n",
       "2010-06-21    665.0\n",
       "2011-06-20    123.0\n",
       "2012-07-09     78.0\n",
       "Name: minutes, dtype: float64"
      ]
     },
     "execution_count": 13,
     "metadata": {},
     "output_type": "execute_result"
    }
   ],
   "source": [
    "atp_main['minutes'].loc[(atp_main['winner_name'] == 'John Isner') & (atp_main['loser_name'] == 'Nicolas Mahut')]"
   ]
  },
  {
   "cell_type": "markdown",
   "metadata": {},
   "source": [
    "## Set formats\n",
    "* Each tournament will have either a best of 3 or 5 set match format. Matches with a best of 5 set format can take much longer so this next section will factor this in.\n",
    "* Below we look at all the matches between 1990 and 2015 and comapre the length of matches based on their format.\n",
    "* We can do this by utilising the 'best_of' column in our table where it indicates the format of a match."
   ]
  },
  {
   "cell_type": "code",
   "execution_count": 14,
   "metadata": {},
   "outputs": [
    {
     "data": {
      "text/html": [
       "<div>\n",
       "<style>\n",
       "    .dataframe thead tr:only-child th {\n",
       "        text-align: right;\n",
       "    }\n",
       "\n",
       "    .dataframe thead th {\n",
       "        text-align: left;\n",
       "    }\n",
       "\n",
       "    .dataframe tbody tr th {\n",
       "        vertical-align: top;\n",
       "    }\n",
       "</style>\n",
       "<table border=\"1\" class=\"dataframe\">\n",
       "  <thead>\n",
       "    <tr style=\"text-align: right;\">\n",
       "      <th></th>\n",
       "      <th>best_of</th>\n",
       "      <th>minutes</th>\n",
       "    </tr>\n",
       "  </thead>\n",
       "  <tbody>\n",
       "    <tr>\n",
       "      <th>0</th>\n",
       "      <td>3</td>\n",
       "      <td>92.249637</td>\n",
       "    </tr>\n",
       "    <tr>\n",
       "      <th>1</th>\n",
       "      <td>5</td>\n",
       "      <td>136.740249</td>\n",
       "    </tr>\n",
       "  </tbody>\n",
       "</table>\n",
       "</div>"
      ],
      "text/plain": [
       "  best_of     minutes\n",
       "0       3   92.249637\n",
       "1       5  136.740249"
      ]
     },
     "execution_count": 14,
     "metadata": {},
     "output_type": "execute_result"
    }
   ],
   "source": [
    "best_of_df = atp_main['1990':'2000'].groupby('best_of', as_index=False)['minutes'].mean()\n",
    "best_of_df"
   ]
  },
  {
   "cell_type": "markdown",
   "metadata": {},
   "source": [
    "* From the table above we can see that, on average, matches of a 'best_of' 5 format can be longer. This is to be expected but we now muct focus on how this has changed over the past 2 decades."
   ]
  },
  {
   "cell_type": "code",
   "execution_count": 15,
   "metadata": {},
   "outputs": [
    {
     "data": {
      "text/html": [
       "<div>\n",
       "<style>\n",
       "    .dataframe thead tr:only-child th {\n",
       "        text-align: right;\n",
       "    }\n",
       "\n",
       "    .dataframe thead th {\n",
       "        text-align: left;\n",
       "    }\n",
       "\n",
       "    .dataframe tbody tr th {\n",
       "        vertical-align: top;\n",
       "    }\n",
       "</style>\n",
       "<table border=\"1\" class=\"dataframe\">\n",
       "  <thead>\n",
       "    <tr style=\"text-align: right;\">\n",
       "      <th></th>\n",
       "      <th>best_of</th>\n",
       "      <th>minutes</th>\n",
       "    </tr>\n",
       "  </thead>\n",
       "  <tbody>\n",
       "    <tr>\n",
       "      <th>0</th>\n",
       "      <td>3</td>\n",
       "      <td>94.615799</td>\n",
       "    </tr>\n",
       "    <tr>\n",
       "      <th>1</th>\n",
       "      <td>5</td>\n",
       "      <td>145.097671</td>\n",
       "    </tr>\n",
       "  </tbody>\n",
       "</table>\n",
       "</div>"
      ],
      "text/plain": [
       "  best_of     minutes\n",
       "0       3   94.615799\n",
       "1       5  145.097671"
      ]
     },
     "execution_count": 15,
     "metadata": {},
     "output_type": "execute_result"
    }
   ],
   "source": [
    "best_of_df = atp_main['2000':'2015'].groupby('best_of', as_index=False)['minutes'].mean()\n",
    "best_of_df"
   ]
  },
  {
   "cell_type": "markdown",
   "metadata": {},
   "source": [
    "* We see a small jump in best of 3 matches with less than 2 minutes.\n",
    "* A large 8 minute increase in best of 5 matches."
   ]
  },
  {
   "cell_type": "markdown",
   "metadata": {},
   "source": [
    "* These results are interesting as they show a slight dip in the mid 90s interms of average length of matches and then a steady increase through the 2000s before a big jump in 2017. \n",
    "* In the mid 80s, the tennis scoring system started to change for a variety of reasons. These chagnes would result in shorter matches and was eventually phased-in throughout the sport by the late 80s. If a final, deciding set was required, that set would be played in a tie-break format which is analogous to winning quick-fire points.\n",
    "* A startling trend is the early 2000s versus the late 2010s. Match lengths have increased dramatically here and the following is our reasoning for this."
   ]
  },
  {
   "cell_type": "markdown",
   "metadata": {},
   "source": [
    "## Hard Court Matches"
   ]
  },
  {
   "cell_type": "code",
   "execution_count": 16,
   "metadata": {},
   "outputs": [
    {
     "data": {
      "text/plain": [
       "Hard       63821\n",
       "Clay       59565\n",
       "Carpet     19833\n",
       "Grass      18179\n",
       "surface        1\n",
       "Name: surface, dtype: int64"
      ]
     },
     "execution_count": 16,
     "metadata": {},
     "output_type": "execute_result"
    }
   ],
   "source": [
    "# Hard Court matches make up a significant % of the surface that is played on\n",
    "atp_main['surface'].value_counts()"
   ]
  },
  {
   "cell_type": "markdown",
   "metadata": {},
   "source": [
    "Why Hard Court? Faster speeds = more aces => better entertainment? Perfect way to go onto aces in analysis_200"
   ]
  },
  {
   "cell_type": "markdown",
   "metadata": {},
   "source": [
    "* Has this always been the case?"
   ]
  },
  {
   "cell_type": "code",
   "execution_count": 17,
   "metadata": {},
   "outputs": [
    {
     "data": {
      "text/plain": [
       "Clay      13640\n",
       "Hard       7337\n",
       "Carpet     5373\n",
       "Grass      4842\n",
       "Name: surface, dtype: int64"
      ]
     },
     "execution_count": 17,
     "metadata": {},
     "output_type": "execute_result"
    }
   ],
   "source": [
    "df_1968 = atp_main['1968':'1978']\n",
    "df_1968  = df_1968['surface'].value_counts()\n",
    "df_1968"
   ]
  },
  {
   "cell_type": "code",
   "execution_count": 18,
   "metadata": {},
   "outputs": [
    {
     "data": {
      "text/plain": [
       "Clay      15948\n",
       "Hard      12330\n",
       "Carpet     6958\n",
       "Grass      4992\n",
       "Name: surface, dtype: int64"
      ]
     },
     "execution_count": 18,
     "metadata": {},
     "output_type": "execute_result"
    }
   ],
   "source": [
    "df_1978 = atp_main['1978':'1988']\n",
    "df_1978  = df_1978['surface'].value_counts()\n",
    "df_1978"
   ]
  },
  {
   "cell_type": "code",
   "execution_count": 19,
   "metadata": {},
   "outputs": [
    {
     "data": {
      "text/plain": [
       "Hard      16631\n",
       "Clay      14195\n",
       "Carpet     6507\n",
       "Grass      3372\n",
       "Name: surface, dtype: int64"
      ]
     },
     "execution_count": 19,
     "metadata": {},
     "output_type": "execute_result"
    }
   ],
   "source": [
    "df_1988 = atp_main['1988':'1998']\n",
    "df_1988  = df_1988['surface'].value_counts()\n",
    "df_1988"
   ]
  },
  {
   "cell_type": "code",
   "execution_count": 20,
   "metadata": {},
   "outputs": [
    {
     "data": {
      "text/plain": [
       "Hard      17465\n",
       "Clay      12420\n",
       "Grass      3504\n",
       "Carpet     2701\n",
       "Name: surface, dtype: int64"
      ]
     },
     "execution_count": 20,
     "metadata": {},
     "output_type": "execute_result"
    }
   ],
   "source": [
    "df_1998 = atp_main['1998':'2008']\n",
    "df_1998  = df_1998['surface'].value_counts()\n",
    "df_1998"
   ]
  },
  {
   "cell_type": "code",
   "execution_count": 21,
   "metadata": {},
   "outputs": [
    {
     "data": {
      "text/plain": [
       "Hard      15158\n",
       "Clay       8677\n",
       "Grass      2864\n",
       "Carpet      146\n",
       "Name: surface, dtype: int64"
      ]
     },
     "execution_count": 21,
     "metadata": {},
     "output_type": "execute_result"
    }
   ],
   "source": [
    "df_2008 = atp_main['2008':'2016']\n",
    "df_2008  = df_2008['surface'].value_counts()\n",
    "df_2008"
   ]
  }
 ],
 "metadata": {
  "kernelspec": {
   "display_name": "Python 3",
   "language": "python",
   "name": "python3"
  },
  "language_info": {
   "codemirror_mode": {
    "name": "ipython",
    "version": 3
   },
   "file_extension": ".py",
   "mimetype": "text/x-python",
   "name": "python",
   "nbconvert_exporter": "python",
   "pygments_lexer": "ipython3",
   "version": "3.6.3"
  }
 },
 "nbformat": 4,
 "nbformat_minor": 2
}
