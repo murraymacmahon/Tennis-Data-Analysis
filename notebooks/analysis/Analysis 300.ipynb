{
 "cells": [
  {
   "cell_type": "markdown",
   "metadata": {},
   "source": [
    "# Analysis 300\n",
    "\n",
    "## Purpose\n",
    "In this notebook we will continue our analysis for research question 1 - 'How has the game of tennis developed since 1968?'. \n",
    "Primarily, in this notebook we will focus on nationalities of players and how that has changed from 1968 to now.\n",
    "\n",
    "## Datasets\n",
    "* For this notebook we will just use the atp_main dataset.\n",
    "* We will create 2 resulting dataframes for 2 different decadesmcontaining top 20 countries who produced the most players in that decade and corresponding average population of the country and a calculated normalised value for player production.\n",
    "* We will also create a small dataframe for a case study on the decline of players from Australia."
   ]
  },
  {
   "cell_type": "code",
   "execution_count": 1,
   "metadata": {
    "collapsed": true
   },
   "outputs": [],
   "source": [
    "import os\n",
    "import sys\n",
    "import hashlib\n",
    "import numpy as np\n",
    "import pandas as pd\n",
    "from datetime import datetime\n",
    "    \n",
    "%matplotlib inline"
   ]
  },
  {
   "cell_type": "code",
   "execution_count": 2,
   "metadata": {
    "collapsed": true
   },
   "outputs": [],
   "source": [
    "atp_main = pd.read_csv(\"../data/atp_main\", low_memory = False, index_col = 'tourney_date')"
   ]
  },
  {
   "cell_type": "markdown",
   "metadata": {},
   "source": [
    "Making the atp main dataframe a timeseries"
   ]
  },
  {
   "cell_type": "code",
   "execution_count": 3,
   "metadata": {
    "collapsed": true
   },
   "outputs": [],
   "source": [
    "atp_main.index = pd.to_datetime(atp_main.index, format=\"%Y-%m-%d\", errors='coerce')"
   ]
  },
  {
   "cell_type": "code",
   "execution_count": 4,
   "metadata": {},
   "outputs": [
    {
     "data": {
      "text/html": [
       "<div>\n",
       "<style>\n",
       "    .dataframe thead tr:only-child th {\n",
       "        text-align: right;\n",
       "    }\n",
       "\n",
       "    .dataframe thead th {\n",
       "        text-align: left;\n",
       "    }\n",
       "\n",
       "    .dataframe tbody tr th {\n",
       "        vertical-align: top;\n",
       "    }\n",
       "</style>\n",
       "<table border=\"1\" class=\"dataframe\">\n",
       "  <thead>\n",
       "    <tr style=\"text-align: right;\">\n",
       "      <th></th>\n",
       "      <th>tourney_id</th>\n",
       "      <th>tourney_name</th>\n",
       "      <th>surface</th>\n",
       "      <th>draw_size</th>\n",
       "      <th>tourney_level</th>\n",
       "      <th>match_num</th>\n",
       "      <th>winner_id</th>\n",
       "      <th>winner_seed</th>\n",
       "      <th>winner_entry</th>\n",
       "      <th>winner_name</th>\n",
       "      <th>...</th>\n",
       "      <th>l_ace</th>\n",
       "      <th>l_df</th>\n",
       "      <th>l_svpt</th>\n",
       "      <th>l_1stIn</th>\n",
       "      <th>l_1stWon</th>\n",
       "      <th>l_2ndWon</th>\n",
       "      <th>l_SvGms</th>\n",
       "      <th>l_bpSaved</th>\n",
       "      <th>l_bpFaced</th>\n",
       "      <th>match_year</th>\n",
       "    </tr>\n",
       "    <tr>\n",
       "      <th>tourney_date</th>\n",
       "      <th></th>\n",
       "      <th></th>\n",
       "      <th></th>\n",
       "      <th></th>\n",
       "      <th></th>\n",
       "      <th></th>\n",
       "      <th></th>\n",
       "      <th></th>\n",
       "      <th></th>\n",
       "      <th></th>\n",
       "      <th></th>\n",
       "      <th></th>\n",
       "      <th></th>\n",
       "      <th></th>\n",
       "      <th></th>\n",
       "      <th></th>\n",
       "      <th></th>\n",
       "      <th></th>\n",
       "      <th></th>\n",
       "      <th></th>\n",
       "      <th></th>\n",
       "    </tr>\n",
       "  </thead>\n",
       "  <tbody>\n",
       "    <tr>\n",
       "      <th>1975-05-12</th>\n",
       "      <td>1975-347</td>\n",
       "      <td>Bournemouth</td>\n",
       "      <td>Clay</td>\n",
       "      <td>64</td>\n",
       "      <td>A</td>\n",
       "      <td>1</td>\n",
       "      <td>100282</td>\n",
       "      <td>NaN</td>\n",
       "      <td>NaN</td>\n",
       "      <td>Guillermo Vilas</td>\n",
       "      <td>...</td>\n",
       "      <td>NaN</td>\n",
       "      <td>NaN</td>\n",
       "      <td>NaN</td>\n",
       "      <td>NaN</td>\n",
       "      <td>NaN</td>\n",
       "      <td>NaN</td>\n",
       "      <td>NaN</td>\n",
       "      <td>NaN</td>\n",
       "      <td>NaN</td>\n",
       "      <td>1975.0</td>\n",
       "    </tr>\n",
       "    <tr>\n",
       "      <th>1975-05-12</th>\n",
       "      <td>1975-347</td>\n",
       "      <td>Bournemouth</td>\n",
       "      <td>Clay</td>\n",
       "      <td>64</td>\n",
       "      <td>A</td>\n",
       "      <td>2</td>\n",
       "      <td>100199</td>\n",
       "      <td>NaN</td>\n",
       "      <td>NaN</td>\n",
       "      <td>Patrice Dominguez</td>\n",
       "      <td>...</td>\n",
       "      <td>NaN</td>\n",
       "      <td>NaN</td>\n",
       "      <td>NaN</td>\n",
       "      <td>NaN</td>\n",
       "      <td>NaN</td>\n",
       "      <td>NaN</td>\n",
       "      <td>NaN</td>\n",
       "      <td>NaN</td>\n",
       "      <td>NaN</td>\n",
       "      <td>1975.0</td>\n",
       "    </tr>\n",
       "    <tr>\n",
       "      <th>1975-05-12</th>\n",
       "      <td>1975-347</td>\n",
       "      <td>Bournemouth</td>\n",
       "      <td>Clay</td>\n",
       "      <td>64</td>\n",
       "      <td>A</td>\n",
       "      <td>3</td>\n",
       "      <td>100062</td>\n",
       "      <td>NaN</td>\n",
       "      <td>NaN</td>\n",
       "      <td>Francois Jauffret</td>\n",
       "      <td>...</td>\n",
       "      <td>NaN</td>\n",
       "      <td>NaN</td>\n",
       "      <td>NaN</td>\n",
       "      <td>NaN</td>\n",
       "      <td>NaN</td>\n",
       "      <td>NaN</td>\n",
       "      <td>NaN</td>\n",
       "      <td>NaN</td>\n",
       "      <td>NaN</td>\n",
       "      <td>1975.0</td>\n",
       "    </tr>\n",
       "    <tr>\n",
       "      <th>1975-05-12</th>\n",
       "      <td>1975-347</td>\n",
       "      <td>Bournemouth</td>\n",
       "      <td>Clay</td>\n",
       "      <td>64</td>\n",
       "      <td>A</td>\n",
       "      <td>4</td>\n",
       "      <td>100359</td>\n",
       "      <td>NaN</td>\n",
       "      <td>NaN</td>\n",
       "      <td>Richard Lewis</td>\n",
       "      <td>...</td>\n",
       "      <td>NaN</td>\n",
       "      <td>NaN</td>\n",
       "      <td>NaN</td>\n",
       "      <td>NaN</td>\n",
       "      <td>NaN</td>\n",
       "      <td>NaN</td>\n",
       "      <td>NaN</td>\n",
       "      <td>NaN</td>\n",
       "      <td>NaN</td>\n",
       "      <td>1975.0</td>\n",
       "    </tr>\n",
       "    <tr>\n",
       "      <th>1975-05-12</th>\n",
       "      <td>1975-347</td>\n",
       "      <td>Bournemouth</td>\n",
       "      <td>Clay</td>\n",
       "      <td>64</td>\n",
       "      <td>A</td>\n",
       "      <td>5</td>\n",
       "      <td>109787</td>\n",
       "      <td>NaN</td>\n",
       "      <td>NaN</td>\n",
       "      <td>Cm Robinson</td>\n",
       "      <td>...</td>\n",
       "      <td>NaN</td>\n",
       "      <td>NaN</td>\n",
       "      <td>NaN</td>\n",
       "      <td>NaN</td>\n",
       "      <td>NaN</td>\n",
       "      <td>NaN</td>\n",
       "      <td>NaN</td>\n",
       "      <td>NaN</td>\n",
       "      <td>NaN</td>\n",
       "      <td>1975.0</td>\n",
       "    </tr>\n",
       "  </tbody>\n",
       "</table>\n",
       "<p>5 rows × 49 columns</p>\n",
       "</div>"
      ],
      "text/plain": [
       "             tourney_id tourney_name surface draw_size tourney_level  \\\n",
       "tourney_date                                                           \n",
       "1975-05-12     1975-347  Bournemouth    Clay        64             A   \n",
       "1975-05-12     1975-347  Bournemouth    Clay        64             A   \n",
       "1975-05-12     1975-347  Bournemouth    Clay        64             A   \n",
       "1975-05-12     1975-347  Bournemouth    Clay        64             A   \n",
       "1975-05-12     1975-347  Bournemouth    Clay        64             A   \n",
       "\n",
       "             match_num winner_id winner_seed winner_entry        winner_name  \\\n",
       "tourney_date                                                                   \n",
       "1975-05-12           1    100282         NaN          NaN    Guillermo Vilas   \n",
       "1975-05-12           2    100199         NaN          NaN  Patrice Dominguez   \n",
       "1975-05-12           3    100062         NaN          NaN  Francois Jauffret   \n",
       "1975-05-12           4    100359         NaN          NaN      Richard Lewis   \n",
       "1975-05-12           5    109787         NaN          NaN        Cm Robinson   \n",
       "\n",
       "                ...     l_ace  l_df l_svpt  l_1stIn l_1stWon l_2ndWon l_SvGms  \\\n",
       "tourney_date    ...                                                             \n",
       "1975-05-12      ...       NaN   NaN    NaN      NaN      NaN      NaN     NaN   \n",
       "1975-05-12      ...       NaN   NaN    NaN      NaN      NaN      NaN     NaN   \n",
       "1975-05-12      ...       NaN   NaN    NaN      NaN      NaN      NaN     NaN   \n",
       "1975-05-12      ...       NaN   NaN    NaN      NaN      NaN      NaN     NaN   \n",
       "1975-05-12      ...       NaN   NaN    NaN      NaN      NaN      NaN     NaN   \n",
       "\n",
       "             l_bpSaved l_bpFaced match_year  \n",
       "tourney_date                                 \n",
       "1975-05-12         NaN       NaN     1975.0  \n",
       "1975-05-12         NaN       NaN     1975.0  \n",
       "1975-05-12         NaN       NaN     1975.0  \n",
       "1975-05-12         NaN       NaN     1975.0  \n",
       "1975-05-12         NaN       NaN     1975.0  \n",
       "\n",
       "[5 rows x 49 columns]"
      ]
     },
     "execution_count": 4,
     "metadata": {},
     "output_type": "execute_result"
    }
   ],
   "source": [
    "atp_main['1975'].head(5)"
   ]
  },
  {
   "cell_type": "markdown",
   "metadata": {},
   "source": [
    "## Nationalities of players 1968 - 1978"
   ]
  },
  {
   "cell_type": "code",
   "execution_count": 5,
   "metadata": {},
   "outputs": [
    {
     "data": {
      "text/html": [
       "<div>\n",
       "<style>\n",
       "    .dataframe thead tr:only-child th {\n",
       "        text-align: right;\n",
       "    }\n",
       "\n",
       "    .dataframe thead th {\n",
       "        text-align: left;\n",
       "    }\n",
       "\n",
       "    .dataframe tbody tr th {\n",
       "        vertical-align: top;\n",
       "    }\n",
       "</style>\n",
       "<table border=\"1\" class=\"dataframe\">\n",
       "  <thead>\n",
       "    <tr style=\"text-align: right;\">\n",
       "      <th></th>\n",
       "      <th>winner_ioc</th>\n",
       "      <th>winner_name</th>\n",
       "    </tr>\n",
       "  </thead>\n",
       "  <tbody>\n",
       "    <tr>\n",
       "      <th>68</th>\n",
       "      <td>ESP</td>\n",
       "      <td>31</td>\n",
       "    </tr>\n",
       "    <tr>\n",
       "      <th>69</th>\n",
       "      <td>GBR</td>\n",
       "      <td>39</td>\n",
       "    </tr>\n",
       "    <tr>\n",
       "      <th>70</th>\n",
       "      <td>FRA</td>\n",
       "      <td>44</td>\n",
       "    </tr>\n",
       "    <tr>\n",
       "      <th>71</th>\n",
       "      <td>AUS</td>\n",
       "      <td>97</td>\n",
       "    </tr>\n",
       "    <tr>\n",
       "      <th>72</th>\n",
       "      <td>USA</td>\n",
       "      <td>198</td>\n",
       "    </tr>\n",
       "  </tbody>\n",
       "</table>\n",
       "</div>"
      ],
      "text/plain": [
       "   winner_ioc  winner_name\n",
       "68        ESP           31\n",
       "69        GBR           39\n",
       "70        FRA           44\n",
       "71        AUS           97\n",
       "72        USA          198"
      ]
     },
     "execution_count": 5,
     "metadata": {},
     "output_type": "execute_result"
    }
   ],
   "source": [
    "#getting dataframe with years 1968 to 1978\n",
    "no_players_68_78 = atp_main['1968':'1978']\n",
    "\n",
    "#grouping by winner name and ioc (where player is from) and sorting the winner name as unique \n",
    "#so we don't count players more than once\n",
    "no_players_68_78 = no_players_68_78.winner_name.groupby(no_players_68_78['winner_ioc']).nunique().sort_values()\n",
    "\n",
    "#creating a dataframe and printing out the countries with the most players\n",
    "no_players_68_78 = pd.DataFrame(no_players_68_78).reset_index().tail(20)\n",
    "no_players_68_78.tail()"
   ]
  },
  {
   "cell_type": "code",
   "execution_count": 6,
   "metadata": {
    "collapsed": true
   },
   "outputs": [],
   "source": [
    "no_players_68_78.columns = ['winner_ioc', 'num_players']"
   ]
  },
  {
   "cell_type": "markdown",
   "metadata": {},
   "source": [
    "### Normalizing the player numbers by country nationality"
   ]
  },
  {
   "cell_type": "code",
   "execution_count": 7,
   "metadata": {
    "collapsed": true
   },
   "outputs": [],
   "source": [
    "rel_68_78 = atp_main['1968':'1978']\n",
    "\n",
    "#grouping by unique winner name and winner ioc\n",
    "rel_68_78 = pd.DataFrame({'player_num' : rel_68_78.winner_name.groupby(rel_68_78['winner_ioc']).nunique().sort_values().tail(21)}).reset_index()"
   ]
  },
  {
   "cell_type": "markdown",
   "metadata": {},
   "source": [
    "To get the average population of each country we manually calculated an average population over the 11 year period from 1968-1978.\n",
    "<br> https://countryeconomy.com/ we got the populations for each year from this website."
   ]
  },
  {
   "cell_type": "code",
   "execution_count": 8,
   "metadata": {
    "collapsed": true
   },
   "outputs": [],
   "source": [
    "#average population of each country in the table between the years 1968 - 1978\n",
    "rel_68_78['average_pop']=(20.978222, 132.788000, 6.258093, 57.344959, 2.955318, 883.675818, 10.470653, 0, 25.231640, 22.403424, \n",
    "                   59.4896107, 54.887776, 99.379630, 8.143423, 61.438594, 24.437233, 42.502060, 56.010238, 53.292658, 13.315630, \n",
    "                210.913956)"
   ]
  },
  {
   "cell_type": "code",
   "execution_count": 9,
   "metadata": {
    "collapsed": true
   },
   "outputs": [],
   "source": [
    "#calculating the normalised number of players per country per million\n",
    "rel_68_78['pop_rel'] = rel_68_78['player_num'] / rel_68_78['average_pop'] "
   ]
  },
  {
   "cell_type": "code",
   "execution_count": 10,
   "metadata": {},
   "outputs": [
    {
     "data": {
      "text/html": [
       "<div>\n",
       "<style>\n",
       "    .dataframe thead tr:only-child th {\n",
       "        text-align: right;\n",
       "    }\n",
       "\n",
       "    .dataframe thead th {\n",
       "        text-align: left;\n",
       "    }\n",
       "\n",
       "    .dataframe tbody tr th {\n",
       "        vertical-align: top;\n",
       "    }\n",
       "</style>\n",
       "<table border=\"1\" class=\"dataframe\">\n",
       "  <thead>\n",
       "    <tr style=\"text-align: right;\">\n",
       "      <th></th>\n",
       "      <th>winner_ioc</th>\n",
       "      <th>player_num</th>\n",
       "      <th>average_pop</th>\n",
       "      <th>pop_rel</th>\n",
       "    </tr>\n",
       "  </thead>\n",
       "  <tbody>\n",
       "    <tr>\n",
       "      <th>0</th>\n",
       "      <td>ROU</td>\n",
       "      <td>10</td>\n",
       "      <td>20.978222</td>\n",
       "      <td>0.476685</td>\n",
       "    </tr>\n",
       "    <tr>\n",
       "      <th>1</th>\n",
       "      <td>RUS</td>\n",
       "      <td>10</td>\n",
       "      <td>132.788000</td>\n",
       "      <td>0.075308</td>\n",
       "    </tr>\n",
       "    <tr>\n",
       "      <th>2</th>\n",
       "      <td>SUI</td>\n",
       "      <td>11</td>\n",
       "      <td>6.258093</td>\n",
       "      <td>1.757724</td>\n",
       "    </tr>\n",
       "    <tr>\n",
       "      <th>3</th>\n",
       "      <td>MEX</td>\n",
       "      <td>11</td>\n",
       "      <td>57.344959</td>\n",
       "      <td>0.191822</td>\n",
       "    </tr>\n",
       "    <tr>\n",
       "      <th>4</th>\n",
       "      <td>NZL</td>\n",
       "      <td>14</td>\n",
       "      <td>2.955318</td>\n",
       "      <td>4.737223</td>\n",
       "    </tr>\n",
       "  </tbody>\n",
       "</table>\n",
       "</div>"
      ],
      "text/plain": [
       "  winner_ioc  player_num  average_pop   pop_rel\n",
       "0        ROU          10    20.978222  0.476685\n",
       "1        RUS          10   132.788000  0.075308\n",
       "2        SUI          11     6.258093  1.757724\n",
       "3        MEX          11    57.344959  0.191822\n",
       "4        NZL          14     2.955318  4.737223"
      ]
     },
     "execution_count": 10,
     "metadata": {},
     "output_type": "execute_result"
    }
   ],
   "source": [
    "rel_68_78 = rel_68_78.drop(rel_68_78.index[7]).reset_index().drop('index', axis=1)\n",
    "rel_68_78.head()"
   ]
  },
  {
   "cell_type": "code",
   "execution_count": 11,
   "metadata": {
    "collapsed": true
   },
   "outputs": [],
   "source": [
    "rel_68_78.to_csv('../data/rel_68_78', index = False, encoding='utf-8')"
   ]
  },
  {
   "cell_type": "markdown",
   "metadata": {},
   "source": [
    "## Nationalities of players 2006 - 2016"
   ]
  },
  {
   "cell_type": "code",
   "execution_count": 12,
   "metadata": {},
   "outputs": [
    {
     "data": {
      "text/html": [
       "<div>\n",
       "<style>\n",
       "    .dataframe thead tr:only-child th {\n",
       "        text-align: right;\n",
       "    }\n",
       "\n",
       "    .dataframe thead th {\n",
       "        text-align: left;\n",
       "    }\n",
       "\n",
       "    .dataframe tbody tr th {\n",
       "        vertical-align: top;\n",
       "    }\n",
       "</style>\n",
       "<table border=\"1\" class=\"dataframe\">\n",
       "  <thead>\n",
       "    <tr style=\"text-align: right;\">\n",
       "      <th></th>\n",
       "      <th>winner_ioc</th>\n",
       "      <th>winner_name</th>\n",
       "    </tr>\n",
       "  </thead>\n",
       "  <tbody>\n",
       "    <tr>\n",
       "      <th>94</th>\n",
       "      <td>GER</td>\n",
       "      <td>35</td>\n",
       "    </tr>\n",
       "    <tr>\n",
       "      <th>95</th>\n",
       "      <td>ARG</td>\n",
       "      <td>35</td>\n",
       "    </tr>\n",
       "    <tr>\n",
       "      <th>96</th>\n",
       "      <td>ESP</td>\n",
       "      <td>43</td>\n",
       "    </tr>\n",
       "    <tr>\n",
       "      <th>97</th>\n",
       "      <td>FRA</td>\n",
       "      <td>50</td>\n",
       "    </tr>\n",
       "    <tr>\n",
       "      <th>98</th>\n",
       "      <td>USA</td>\n",
       "      <td>62</td>\n",
       "    </tr>\n",
       "  </tbody>\n",
       "</table>\n",
       "</div>"
      ],
      "text/plain": [
       "   winner_ioc  winner_name\n",
       "94        GER           35\n",
       "95        ARG           35\n",
       "96        ESP           43\n",
       "97        FRA           50\n",
       "98        USA           62"
      ]
     },
     "execution_count": 12,
     "metadata": {},
     "output_type": "execute_result"
    }
   ],
   "source": [
    "#getting dataframe with years 2006 to 2016\n",
    "no_players_06_16 = atp_main['2006':'2016']\n",
    "\n",
    "#grouping by winner name and ioc (where player is from) and sorting the winner name as unique \n",
    "#so we don't count players more than once\n",
    "no_players_06_16 = no_players_06_16.winner_name.groupby(no_players_06_16['winner_ioc']).nunique().sort_values()\n",
    "\n",
    "#creating a dataframe and printing out the countries with the most players\n",
    "no_players_06_16 = pd.DataFrame(no_players_06_16).reset_index().tail(20)\n",
    "no_players_06_16.tail()"
   ]
  },
  {
   "cell_type": "code",
   "execution_count": 13,
   "metadata": {
    "collapsed": true
   },
   "outputs": [],
   "source": [
    "no_players_06_16.columns = ['winner_ioc', 'num_players']"
   ]
  },
  {
   "cell_type": "markdown",
   "metadata": {},
   "source": [
    "### Normalizing the player numbers by country nationality"
   ]
  },
  {
   "cell_type": "code",
   "execution_count": 14,
   "metadata": {
    "collapsed": true
   },
   "outputs": [],
   "source": [
    "rel_06_16 = atp_main['2006':'2016']\n",
    "\n",
    "#grouping by unique winner name and winner ioc\n",
    "rel_06_16 = pd.DataFrame({'player_num' : rel_06_16.winner_name.groupby(rel_06_16['winner_ioc']).nunique().sort_values().tail(20)}).reset_index()"
   ]
  },
  {
   "cell_type": "markdown",
   "metadata": {},
   "source": [
    "Again, to get the average population of each country we manually calculated an average population over the 11 year period from 2006-2016 using the same website as previously "
   ]
  },
  {
   "cell_type": "code",
   "execution_count": 15,
   "metadata": {
    "collapsed": true
   },
   "outputs": [],
   "source": [
    "#average population of each country in the table between the years 1968 - 1978\n",
    "rel_06_16['average_pop']=(127.464909, 7.961611, 5.402596, 11.012713, 115.999584, 4.262103, 8.461710, 9.567811, 49.873882, \n",
    "                          197.121091, 63.458004, 10.470653, 143.438740, 59.667704, 22.551720, 81.461219, 41.235810, \n",
    "                          42.502060, 65.333179, 311.298094)"
   ]
  },
  {
   "cell_type": "code",
   "execution_count": 16,
   "metadata": {
    "collapsed": true
   },
   "outputs": [],
   "source": [
    "#calculating the normalised number of players per country per million\n",
    "rel_06_16['pop_rel'] = rel_06_16['player_num'] / rel_06_16['average_pop'] "
   ]
  },
  {
   "cell_type": "code",
   "execution_count": 17,
   "metadata": {
    "collapsed": true
   },
   "outputs": [],
   "source": [
    "rel_06_16.to_csv('../data/rel_06_16', index = False, encoding='utf-8')"
   ]
  },
  {
   "cell_type": "markdown",
   "metadata": {},
   "source": [
    "## Australia's dip in players\n",
    "- Due to introduction of the Australian Institute of Sport in 1981\n",
    "- They provide funding for elite funding programs\n",
    "- Other sports became more popular and were pushed by the AIS while tennis may have taken a backseat."
   ]
  },
  {
   "cell_type": "code",
   "execution_count": 18,
   "metadata": {
    "collapsed": true
   },
   "outputs": [],
   "source": [
    "Aus = atp_main[atp_main['winner_ioc'] == 'AUS']"
   ]
  },
  {
   "cell_type": "markdown",
   "metadata": {},
   "source": [
    "1984 seems to be where the noticable decrease in players begins. Doesn't go above 20 after."
   ]
  },
  {
   "cell_type": "code",
   "execution_count": 19,
   "metadata": {},
   "outputs": [
    {
     "data": {
      "text/html": [
       "<div>\n",
       "<style>\n",
       "    .dataframe thead tr:only-child th {\n",
       "        text-align: right;\n",
       "    }\n",
       "\n",
       "    .dataframe thead th {\n",
       "        text-align: left;\n",
       "    }\n",
       "\n",
       "    .dataframe tbody tr th {\n",
       "        vertical-align: top;\n",
       "    }\n",
       "</style>\n",
       "<table border=\"1\" class=\"dataframe\">\n",
       "  <thead>\n",
       "    <tr style=\"text-align: right;\">\n",
       "      <th></th>\n",
       "      <th>match_year</th>\n",
       "      <th>winner_name</th>\n",
       "    </tr>\n",
       "  </thead>\n",
       "  <tbody>\n",
       "    <tr>\n",
       "      <th>0</th>\n",
       "      <td>1968.0</td>\n",
       "      <td>41</td>\n",
       "    </tr>\n",
       "    <tr>\n",
       "      <th>1</th>\n",
       "      <td>1969.0</td>\n",
       "      <td>30</td>\n",
       "    </tr>\n",
       "    <tr>\n",
       "      <th>2</th>\n",
       "      <td>1970.0</td>\n",
       "      <td>31</td>\n",
       "    </tr>\n",
       "    <tr>\n",
       "      <th>3</th>\n",
       "      <td>1971.0</td>\n",
       "      <td>34</td>\n",
       "    </tr>\n",
       "    <tr>\n",
       "      <th>4</th>\n",
       "      <td>1972.0</td>\n",
       "      <td>40</td>\n",
       "    </tr>\n",
       "    <tr>\n",
       "      <th>5</th>\n",
       "      <td>1973.0</td>\n",
       "      <td>42</td>\n",
       "    </tr>\n",
       "    <tr>\n",
       "      <th>6</th>\n",
       "      <td>1974.0</td>\n",
       "      <td>43</td>\n",
       "    </tr>\n",
       "    <tr>\n",
       "      <th>7</th>\n",
       "      <td>1975.0</td>\n",
       "      <td>39</td>\n",
       "    </tr>\n",
       "    <tr>\n",
       "      <th>8</th>\n",
       "      <td>1976.0</td>\n",
       "      <td>38</td>\n",
       "    </tr>\n",
       "    <tr>\n",
       "      <th>9</th>\n",
       "      <td>1977.0</td>\n",
       "      <td>47</td>\n",
       "    </tr>\n",
       "    <tr>\n",
       "      <th>10</th>\n",
       "      <td>1978.0</td>\n",
       "      <td>36</td>\n",
       "    </tr>\n",
       "    <tr>\n",
       "      <th>11</th>\n",
       "      <td>1979.0</td>\n",
       "      <td>41</td>\n",
       "    </tr>\n",
       "    <tr>\n",
       "      <th>12</th>\n",
       "      <td>1980.0</td>\n",
       "      <td>46</td>\n",
       "    </tr>\n",
       "    <tr>\n",
       "      <th>13</th>\n",
       "      <td>1981.0</td>\n",
       "      <td>33</td>\n",
       "    </tr>\n",
       "    <tr>\n",
       "      <th>14</th>\n",
       "      <td>1982.0</td>\n",
       "      <td>35</td>\n",
       "    </tr>\n",
       "    <tr>\n",
       "      <th>15</th>\n",
       "      <td>1983.0</td>\n",
       "      <td>30</td>\n",
       "    </tr>\n",
       "    <tr>\n",
       "      <th>16</th>\n",
       "      <td>1984.0</td>\n",
       "      <td>18</td>\n",
       "    </tr>\n",
       "    <tr>\n",
       "      <th>17</th>\n",
       "      <td>1985.0</td>\n",
       "      <td>22</td>\n",
       "    </tr>\n",
       "    <tr>\n",
       "      <th>18</th>\n",
       "      <td>1986.0</td>\n",
       "      <td>16</td>\n",
       "    </tr>\n",
       "    <tr>\n",
       "      <th>19</th>\n",
       "      <td>1987.0</td>\n",
       "      <td>22</td>\n",
       "    </tr>\n",
       "  </tbody>\n",
       "</table>\n",
       "</div>"
      ],
      "text/plain": [
       "    match_year  winner_name\n",
       "0       1968.0           41\n",
       "1       1969.0           30\n",
       "2       1970.0           31\n",
       "3       1971.0           34\n",
       "4       1972.0           40\n",
       "5       1973.0           42\n",
       "6       1974.0           43\n",
       "7       1975.0           39\n",
       "8       1976.0           38\n",
       "9       1977.0           47\n",
       "10      1978.0           36\n",
       "11      1979.0           41\n",
       "12      1980.0           46\n",
       "13      1981.0           33\n",
       "14      1982.0           35\n",
       "15      1983.0           30\n",
       "16      1984.0           18\n",
       "17      1985.0           22\n",
       "18      1986.0           16\n",
       "19      1987.0           22"
      ]
     },
     "execution_count": 19,
     "metadata": {},
     "output_type": "execute_result"
    }
   ],
   "source": [
    "Aus1 = Aus.winner_name.groupby(Aus['match_year']).nunique()\n",
    "Aus1 = pd.DataFrame(Aus1).reset_index()\n",
    "Aus1.head(20)"
   ]
  },
  {
   "cell_type": "code",
   "execution_count": 20,
   "metadata": {},
   "outputs": [
    {
     "data": {
      "text/plain": [
       "18"
      ]
     },
     "execution_count": 20,
     "metadata": {},
     "output_type": "execute_result"
    }
   ],
   "source": [
    "len(Aus['1984']['winner_name'].unique())"
   ]
  },
  {
   "cell_type": "code",
   "execution_count": 21,
   "metadata": {
    "collapsed": true
   },
   "outputs": [],
   "source": [
    "#Saving dataframe to csv for use in Results notebook\n",
    "Aus1.to_csv('../data/Aus', index = False, encoding='utf-8')"
   ]
  },
  {
   "cell_type": "code",
   "execution_count": null,
   "metadata": {
    "collapsed": true
   },
   "outputs": [],
   "source": []
  }
 ],
 "metadata": {
  "kernelspec": {
   "display_name": "Python 3",
   "language": "python",
   "name": "python3"
  },
  "language_info": {
   "codemirror_mode": {
    "name": "ipython",
    "version": 3
   },
   "file_extension": ".py",
   "mimetype": "text/x-python",
   "name": "python",
   "nbconvert_exporter": "python",
   "pygments_lexer": "ipython3",
   "version": "3.6.3"
  }
 },
 "nbformat": 4,
 "nbformat_minor": 2
}
