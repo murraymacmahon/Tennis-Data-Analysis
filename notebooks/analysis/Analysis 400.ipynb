{
 "cells": [
  {
   "cell_type": "markdown",
   "metadata": {},
   "source": [
    "# Analysis 400"
   ]
  },
  {
   "cell_type": "markdown",
   "metadata": {},
   "source": [
    "## Purpose \n",
    "For this notebook we will begin our analysis for our research question 2 \"What factors impact the success of a top player?\". We will do this by analysing the 2 dataframes we created in Prep 300 and Prep 400 where we created a winners table containing the top 10 male and females and also a losers table containing players with high losing percentages.\n",
    "\n",
    "## Datasets \n",
    "For analysis in this notebook we used the 2 dataframes created in Prep 300 and Prep 400. \n"
   ]
  },
  {
   "cell_type": "code",
   "execution_count": 1,
   "metadata": {
    "collapsed": true
   },
   "outputs": [],
   "source": [
    "# Importing relevant libraries\n",
    "import os\n",
    "import sys\n",
    "import hashlib\n",
    "import numpy as np\n",
    "import pandas as pd\n",
    "from datetime import datetime\n",
    "    \n",
    "%matplotlib inline"
   ]
  },
  {
   "cell_type": "markdown",
   "metadata": {},
   "source": [
    "## Reading the dataframes created in Prep 300 and Prep 400"
   ]
  },
  {
   "cell_type": "code",
   "execution_count": 2,
   "metadata": {
    "collapsed": true
   },
   "outputs": [],
   "source": [
    "RQ2_winners = pd.read_csv(\"../data/winners_df\", low_memory = False)"
   ]
  },
  {
   "cell_type": "code",
   "execution_count": 3,
   "metadata": {
    "collapsed": true
   },
   "outputs": [],
   "source": [
    "RQ2_losers = pd.read_csv(\"../data/losers_df\", low_memory = False)"
   ]
  },
  {
   "cell_type": "markdown",
   "metadata": {},
   "source": [
    "## RQ2: What factors impact the success of a top player?"
   ]
  },
  {
   "cell_type": "markdown",
   "metadata": {},
   "source": [
    "#### winning and losing percentage"
   ]
  },
  {
   "cell_type": "code",
   "execution_count": 4,
   "metadata": {},
   "outputs": [
    {
     "data": {
      "text/plain": [
       "0.7150882570194683"
      ]
     },
     "execution_count": 4,
     "metadata": {},
     "output_type": "execute_result"
    }
   ],
   "source": [
    "RQ2_men_winners = RQ2_winners.head(10)\n",
    "RQ2_men_winners['winning_perc'].mean()"
   ]
  },
  {
   "cell_type": "code",
   "execution_count": 5,
   "metadata": {},
   "outputs": [
    {
     "data": {
      "text/plain": [
       "0.5226684704226198"
      ]
     },
     "execution_count": 5,
     "metadata": {},
     "output_type": "execute_result"
    }
   ],
   "source": [
    "RQ2_men_losers = RQ2_losers.head(10)\n",
    "RQ2_men_losers['losing_perc'].mean()"
   ]
  },
  {
   "cell_type": "markdown",
   "metadata": {},
   "source": [
    "To be a top player players would need to be winning on average 71% of the matches they play.\n",
    "<br> Male winners win on average 20% more matches than the losing players. "
   ]
  },
  {
   "cell_type": "code",
   "execution_count": 6,
   "metadata": {},
   "outputs": [
    {
     "data": {
      "text/plain": [
       "0.6888076046100492"
      ]
     },
     "execution_count": 6,
     "metadata": {},
     "output_type": "execute_result"
    }
   ],
   "source": [
    "RQ2_women_winners = RQ2_winners.tail(10)\n",
    "RQ2_women_winners['winning_perc'].mean()"
   ]
  },
  {
   "cell_type": "code",
   "execution_count": 7,
   "metadata": {},
   "outputs": [
    {
     "data": {
      "text/plain": [
       "0.5215599108169405"
      ]
     },
     "execution_count": 7,
     "metadata": {},
     "output_type": "execute_result"
    }
   ],
   "source": [
    "RQ2_women_losers = RQ2_losers.tail(10)\n",
    "RQ2_women_losers['losing_perc'].mean()"
   ]
  },
  {
   "cell_type": "markdown",
   "metadata": {},
   "source": [
    "To be a top player players would need to be winning on average 69% of the matches they play.\n",
    "<br> Female winners win on average 16% more matches than the losing players. "
   ]
  },
  {
   "cell_type": "markdown",
   "metadata": {},
   "source": [
    "#### Aces"
   ]
  },
  {
   "cell_type": "markdown",
   "metadata": {},
   "source": [
    "An ace is when the opponent can't return the serve."
   ]
  },
  {
   "cell_type": "code",
   "execution_count": 8,
   "metadata": {},
   "outputs": [
    {
     "data": {
      "text/plain": [
       "6.1235248683042105"
      ]
     },
     "execution_count": 8,
     "metadata": {},
     "output_type": "execute_result"
    }
   ],
   "source": [
    "RQ2_men_winners['w_ace'].mean()"
   ]
  },
  {
   "cell_type": "code",
   "execution_count": 9,
   "metadata": {},
   "outputs": [
    {
     "data": {
      "text/plain": [
       "3.707908641320755"
      ]
     },
     "execution_count": 9,
     "metadata": {},
     "output_type": "execute_result"
    }
   ],
   "source": [
    "RQ2_men_losers['l_ace'].mean()"
   ]
  },
  {
   "cell_type": "markdown",
   "metadata": {},
   "source": [
    "We see male losing players on average have nearly half as many aces as the winning players"
   ]
  },
  {
   "cell_type": "code",
   "execution_count": 10,
   "metadata": {},
   "outputs": [
    {
     "data": {
      "text/plain": [
       "3.636743198948993"
      ]
     },
     "execution_count": 10,
     "metadata": {},
     "output_type": "execute_result"
    }
   ],
   "source": [
    "RQ2_women_winners['w_ace'].mean()"
   ]
  },
  {
   "cell_type": "code",
   "execution_count": 11,
   "metadata": {},
   "outputs": [
    {
     "data": {
      "text/plain": [
       "1.438534529454418"
      ]
     },
     "execution_count": 11,
     "metadata": {},
     "output_type": "execute_result"
    }
   ],
   "source": [
    "RQ2_women_losers['l_ace'].mean()"
   ]
  },
  {
   "cell_type": "markdown",
   "metadata": {},
   "source": [
    "We see female winning players have more than twice as many aces as their losing competitor"
   ]
  },
  {
   "cell_type": "markdown",
   "metadata": {},
   "source": [
    "#### Double faults"
   ]
  },
  {
   "cell_type": "markdown",
   "metadata": {},
   "source": [
    " A double fault is when a player misses both of their serves and the point is awarded to the opponent. "
   ]
  },
  {
   "cell_type": "code",
   "execution_count": 12,
   "metadata": {},
   "outputs": [
    {
     "data": {
      "text/plain": [
       "2.1361606598291165"
      ]
     },
     "execution_count": 12,
     "metadata": {},
     "output_type": "execute_result"
    }
   ],
   "source": [
    "RQ2_men_winners['w_df'].mean()"
   ]
  },
  {
   "cell_type": "code",
   "execution_count": 13,
   "metadata": {},
   "outputs": [
    {
     "data": {
      "text/plain": [
       "2.9526963810247855"
      ]
     },
     "execution_count": 13,
     "metadata": {},
     "output_type": "execute_result"
    }
   ],
   "source": [
    "RQ2_men_losers['l_df'].mean()"
   ]
  },
  {
   "cell_type": "markdown",
   "metadata": {},
   "source": [
    "Male losers on average have 1 more double fault than the winning players. "
   ]
  },
  {
   "cell_type": "code",
   "execution_count": 14,
   "metadata": {},
   "outputs": [
    {
     "data": {
      "text/plain": [
       "2.9849177797458943"
      ]
     },
     "execution_count": 14,
     "metadata": {},
     "output_type": "execute_result"
    }
   ],
   "source": [
    "RQ2_women_winners['w_df'].mean()"
   ]
  },
  {
   "cell_type": "code",
   "execution_count": 15,
   "metadata": {},
   "outputs": [
    {
     "data": {
      "text/plain": [
       "3.9379689416365244"
      ]
     },
     "execution_count": 15,
     "metadata": {},
     "output_type": "execute_result"
    }
   ],
   "source": [
    "RQ2_women_losers['l_df'].mean()"
   ]
  },
  {
   "cell_type": "markdown",
   "metadata": {},
   "source": [
    "Female losing players average 4 double faults per match. There are 4 points in a game so mistakes like that may cost that player the game."
   ]
  },
  {
   "cell_type": "markdown",
   "metadata": {},
   "source": [
    "#### Break points faced"
   ]
  },
  {
   "cell_type": "markdown",
   "metadata": {},
   "source": [
    " A breakpoint is when a player one point away from winning a game and they are receiving the serve."
   ]
  },
  {
   "cell_type": "code",
   "execution_count": 16,
   "metadata": {},
   "outputs": [
    {
     "data": {
      "text/plain": [
       "4.5157412727649415"
      ]
     },
     "execution_count": 16,
     "metadata": {},
     "output_type": "execute_result"
    }
   ],
   "source": [
    "RQ2_men_winners['w_bpFaced'].mean()"
   ]
  },
  {
   "cell_type": "code",
   "execution_count": 17,
   "metadata": {},
   "outputs": [
    {
     "data": {
      "text/plain": [
       "8.580205810486003"
      ]
     },
     "execution_count": 17,
     "metadata": {},
     "output_type": "execute_result"
    }
   ],
   "source": [
    "RQ2_men_losers['l_bpFaced'].mean()"
   ]
  },
  {
   "cell_type": "code",
   "execution_count": 18,
   "metadata": {},
   "outputs": [
    {
     "data": {
      "text/plain": [
       "5.6694329294469625"
      ]
     },
     "execution_count": 18,
     "metadata": {},
     "output_type": "execute_result"
    }
   ],
   "source": [
    "RQ2_women_winners['w_bpFaced'].mean()"
   ]
  },
  {
   "cell_type": "code",
   "execution_count": 19,
   "metadata": {},
   "outputs": [
    {
     "data": {
      "text/plain": [
       "10.129056518635831"
      ]
     },
     "execution_count": 19,
     "metadata": {},
     "output_type": "execute_result"
    }
   ],
   "source": [
    "RQ2_women_losers['l_bpFaced'].mean()"
   ]
  },
  {
   "cell_type": "markdown",
   "metadata": {},
   "source": [
    "Interestingly, both the losing men and women face twice as many break points as their winning opponents."
   ]
  },
  {
   "cell_type": "markdown",
   "metadata": {},
   "source": [
    "## Sorting the dataframes by winning and losing percentage"
   ]
  },
  {
   "cell_type": "markdown",
   "metadata": {},
   "source": [
    "Roger Federer and Serena William unsurprisingly top the pile with the highest winning percentage and have very similar match statistics as seen in these dataframes below."
   ]
  },
  {
   "cell_type": "code",
   "execution_count": 20,
   "metadata": {},
   "outputs": [
    {
     "data": {
      "text/html": [
       "<div>\n",
       "<style>\n",
       "    .dataframe thead tr:only-child th {\n",
       "        text-align: right;\n",
       "    }\n",
       "\n",
       "    .dataframe thead th {\n",
       "        text-align: left;\n",
       "    }\n",
       "\n",
       "    .dataframe tbody tr th {\n",
       "        vertical-align: top;\n",
       "    }\n",
       "</style>\n",
       "<table border=\"1\" class=\"dataframe\">\n",
       "  <thead>\n",
       "    <tr style=\"text-align: right;\">\n",
       "      <th></th>\n",
       "      <th>winner_name</th>\n",
       "      <th>matches_won</th>\n",
       "      <th>matches_lost</th>\n",
       "      <th>total_matches</th>\n",
       "      <th>winning_perc</th>\n",
       "      <th>w_ace</th>\n",
       "      <th>w_df</th>\n",
       "      <th>w_svpt</th>\n",
       "      <th>w_1stIn</th>\n",
       "      <th>w_1stWon</th>\n",
       "      <th>w_2ndWon</th>\n",
       "      <th>w_SvGms</th>\n",
       "      <th>w_bpSaved</th>\n",
       "      <th>w_bpFaced</th>\n",
       "    </tr>\n",
       "  </thead>\n",
       "  <tbody>\n",
       "    <tr>\n",
       "      <th>0</th>\n",
       "      <td>Roger Federer</td>\n",
       "      <td>847</td>\n",
       "      <td>137</td>\n",
       "      <td>984</td>\n",
       "      <td>0.860772</td>\n",
       "      <td>7.775434</td>\n",
       "      <td>1.496278</td>\n",
       "      <td>73.713400</td>\n",
       "      <td>46.308933</td>\n",
       "      <td>36.566998</td>\n",
       "      <td>16.404467</td>\n",
       "      <td>12.477667</td>\n",
       "      <td>2.470223</td>\n",
       "      <td>3.429280</td>\n",
       "    </tr>\n",
       "    <tr>\n",
       "      <th>1</th>\n",
       "      <td>Serena Williams</td>\n",
       "      <td>475</td>\n",
       "      <td>88</td>\n",
       "      <td>563</td>\n",
       "      <td>0.843694</td>\n",
       "      <td>7.139535</td>\n",
       "      <td>2.489583</td>\n",
       "      <td>59.764858</td>\n",
       "      <td>36.369509</td>\n",
       "      <td>27.573643</td>\n",
       "      <td>12.033592</td>\n",
       "      <td>8.666667</td>\n",
       "      <td>2.855297</td>\n",
       "      <td>4.372093</td>\n",
       "    </tr>\n",
       "    <tr>\n",
       "      <th>2</th>\n",
       "      <td>Rafael Nadal</td>\n",
       "      <td>712</td>\n",
       "      <td>141</td>\n",
       "      <td>853</td>\n",
       "      <td>0.834701</td>\n",
       "      <td>3.057018</td>\n",
       "      <td>1.394737</td>\n",
       "      <td>70.706140</td>\n",
       "      <td>48.704678</td>\n",
       "      <td>35.869883</td>\n",
       "      <td>13.017544</td>\n",
       "      <td>11.698830</td>\n",
       "      <td>3.038012</td>\n",
       "      <td>4.308480</td>\n",
       "    </tr>\n",
       "    <tr>\n",
       "      <th>3</th>\n",
       "      <td>Novak Djokovic</td>\n",
       "      <td>612</td>\n",
       "      <td>141</td>\n",
       "      <td>753</td>\n",
       "      <td>0.812749</td>\n",
       "      <td>5.762565</td>\n",
       "      <td>2.124783</td>\n",
       "      <td>75.376083</td>\n",
       "      <td>48.790295</td>\n",
       "      <td>36.603120</td>\n",
       "      <td>15.126516</td>\n",
       "      <td>12.343154</td>\n",
       "      <td>3.150780</td>\n",
       "      <td>4.592721</td>\n",
       "    </tr>\n",
       "    <tr>\n",
       "      <th>4</th>\n",
       "      <td>Maria Sharapova</td>\n",
       "      <td>519</td>\n",
       "      <td>135</td>\n",
       "      <td>654</td>\n",
       "      <td>0.793578</td>\n",
       "      <td>3.890306</td>\n",
       "      <td>4.933673</td>\n",
       "      <td>65.359694</td>\n",
       "      <td>41.946429</td>\n",
       "      <td>29.522959</td>\n",
       "      <td>11.227041</td>\n",
       "      <td>NaN</td>\n",
       "      <td>3.573980</td>\n",
       "      <td>5.772959</td>\n",
       "    </tr>\n",
       "  </tbody>\n",
       "</table>\n",
       "</div>"
      ],
      "text/plain": [
       "       winner_name  matches_won  matches_lost  total_matches  winning_perc  \\\n",
       "0    Roger Federer          847           137            984      0.860772   \n",
       "1  Serena Williams          475            88            563      0.843694   \n",
       "2     Rafael Nadal          712           141            853      0.834701   \n",
       "3   Novak Djokovic          612           141            753      0.812749   \n",
       "4  Maria Sharapova          519           135            654      0.793578   \n",
       "\n",
       "      w_ace      w_df     w_svpt    w_1stIn   w_1stWon   w_2ndWon    w_SvGms  \\\n",
       "0  7.775434  1.496278  73.713400  46.308933  36.566998  16.404467  12.477667   \n",
       "1  7.139535  2.489583  59.764858  36.369509  27.573643  12.033592   8.666667   \n",
       "2  3.057018  1.394737  70.706140  48.704678  35.869883  13.017544  11.698830   \n",
       "3  5.762565  2.124783  75.376083  48.790295  36.603120  15.126516  12.343154   \n",
       "4  3.890306  4.933673  65.359694  41.946429  29.522959  11.227041        NaN   \n",
       "\n",
       "   w_bpSaved  w_bpFaced  \n",
       "0   2.470223   3.429280  \n",
       "1   2.855297   4.372093  \n",
       "2   3.038012   4.308480  \n",
       "3   3.150780   4.592721  \n",
       "4   3.573980   5.772959  "
      ]
     },
     "execution_count": 20,
     "metadata": {},
     "output_type": "execute_result"
    }
   ],
   "source": [
    "RQ2_sorted_winning_perc = RQ2_winners.sort_values('winning_perc', ascending=False).reset_index(drop=True)\n",
    "RQ2_sorted_winning_perc.head()"
   ]
  },
  {
   "cell_type": "code",
   "execution_count": 21,
   "metadata": {},
   "outputs": [
    {
     "data": {
      "text/html": [
       "<div>\n",
       "<style>\n",
       "    .dataframe thead tr:only-child th {\n",
       "        text-align: right;\n",
       "    }\n",
       "\n",
       "    .dataframe thead th {\n",
       "        text-align: left;\n",
       "    }\n",
       "\n",
       "    .dataframe tbody tr th {\n",
       "        vertical-align: top;\n",
       "    }\n",
       "</style>\n",
       "<table border=\"1\" class=\"dataframe\">\n",
       "  <thead>\n",
       "    <tr style=\"text-align: right;\">\n",
       "      <th></th>\n",
       "      <th>loser_name</th>\n",
       "      <th>matches_lost</th>\n",
       "      <th>matches_won</th>\n",
       "      <th>total_matches</th>\n",
       "      <th>losing_perc</th>\n",
       "      <th>l_ace</th>\n",
       "      <th>l_df</th>\n",
       "      <th>l_svpt</th>\n",
       "      <th>l_1stIn</th>\n",
       "      <th>l_1stWon</th>\n",
       "      <th>l_2ndWon</th>\n",
       "      <th>l_SvGms</th>\n",
       "      <th>l_bpSaved</th>\n",
       "      <th>l_bpFaced</th>\n",
       "    </tr>\n",
       "  </thead>\n",
       "  <tbody>\n",
       "    <tr>\n",
       "      <th>0</th>\n",
       "      <td>Anabel Medina Garrigues</td>\n",
       "      <td>264</td>\n",
       "      <td>295</td>\n",
       "      <td>559</td>\n",
       "      <td>0.472272</td>\n",
       "      <td>1.101911</td>\n",
       "      <td>1.917197</td>\n",
       "      <td>72.140127</td>\n",
       "      <td>46.031847</td>\n",
       "      <td>25.751592</td>\n",
       "      <td>10.891720</td>\n",
       "      <td>NaN</td>\n",
       "      <td>4.866242</td>\n",
       "      <td>10.070064</td>\n",
       "    </tr>\n",
       "    <tr>\n",
       "      <th>1</th>\n",
       "      <td>Gisela Dulko</td>\n",
       "      <td>183</td>\n",
       "      <td>204</td>\n",
       "      <td>387</td>\n",
       "      <td>0.472868</td>\n",
       "      <td>1.307692</td>\n",
       "      <td>4.324786</td>\n",
       "      <td>68.470085</td>\n",
       "      <td>41.376068</td>\n",
       "      <td>23.085470</td>\n",
       "      <td>11.042735</td>\n",
       "      <td>NaN</td>\n",
       "      <td>4.803419</td>\n",
       "      <td>9.923077</td>\n",
       "    </tr>\n",
       "    <tr>\n",
       "      <th>2</th>\n",
       "      <td>Alize Cornet</td>\n",
       "      <td>176</td>\n",
       "      <td>189</td>\n",
       "      <td>365</td>\n",
       "      <td>0.482192</td>\n",
       "      <td>1.463087</td>\n",
       "      <td>4.744966</td>\n",
       "      <td>71.832215</td>\n",
       "      <td>42.362416</td>\n",
       "      <td>23.953020</td>\n",
       "      <td>11.463087</td>\n",
       "      <td>NaN</td>\n",
       "      <td>5.342282</td>\n",
       "      <td>10.845638</td>\n",
       "    </tr>\n",
       "    <tr>\n",
       "      <th>3</th>\n",
       "      <td>Igor Andreev</td>\n",
       "      <td>229</td>\n",
       "      <td>236</td>\n",
       "      <td>465</td>\n",
       "      <td>0.492473</td>\n",
       "      <td>1.411215</td>\n",
       "      <td>2.724299</td>\n",
       "      <td>80.042056</td>\n",
       "      <td>48.962617</td>\n",
       "      <td>30.200935</td>\n",
       "      <td>14.691589</td>\n",
       "      <td>11.855140</td>\n",
       "      <td>5.158879</td>\n",
       "      <td>9.317757</td>\n",
       "    </tr>\n",
       "    <tr>\n",
       "      <th>4</th>\n",
       "      <td>Florian Mayer</td>\n",
       "      <td>211</td>\n",
       "      <td>217</td>\n",
       "      <td>428</td>\n",
       "      <td>0.492991</td>\n",
       "      <td>3.291457</td>\n",
       "      <td>2.045226</td>\n",
       "      <td>72.618090</td>\n",
       "      <td>43.929648</td>\n",
       "      <td>28.020101</td>\n",
       "      <td>12.793970</td>\n",
       "      <td>11.115578</td>\n",
       "      <td>4.050251</td>\n",
       "      <td>8.050251</td>\n",
       "    </tr>\n",
       "  </tbody>\n",
       "</table>\n",
       "</div>"
      ],
      "text/plain": [
       "                loser_name  matches_lost  matches_won  total_matches  \\\n",
       "0  Anabel Medina Garrigues           264          295            559   \n",
       "1             Gisela Dulko           183          204            387   \n",
       "2             Alize Cornet           176          189            365   \n",
       "3             Igor Andreev           229          236            465   \n",
       "4            Florian Mayer           211          217            428   \n",
       "\n",
       "   losing_perc     l_ace      l_df     l_svpt    l_1stIn   l_1stWon  \\\n",
       "0     0.472272  1.101911  1.917197  72.140127  46.031847  25.751592   \n",
       "1     0.472868  1.307692  4.324786  68.470085  41.376068  23.085470   \n",
       "2     0.482192  1.463087  4.744966  71.832215  42.362416  23.953020   \n",
       "3     0.492473  1.411215  2.724299  80.042056  48.962617  30.200935   \n",
       "4     0.492991  3.291457  2.045226  72.618090  43.929648  28.020101   \n",
       "\n",
       "    l_2ndWon    l_SvGms  l_bpSaved  l_bpFaced  \n",
       "0  10.891720        NaN   4.866242  10.070064  \n",
       "1  11.042735        NaN   4.803419   9.923077  \n",
       "2  11.463087        NaN   5.342282  10.845638  \n",
       "3  14.691589  11.855140   5.158879   9.317757  \n",
       "4  12.793970  11.115578   4.050251   8.050251  "
      ]
     },
     "execution_count": 21,
     "metadata": {},
     "output_type": "execute_result"
    }
   ],
   "source": [
    "RQ2_sorted_losing_perc = RQ2_losers.sort_values('losing_perc', ascending=True).reset_index(drop=True)\n",
    "RQ2_sorted_losing_perc.head()"
   ]
  },
  {
   "cell_type": "markdown",
   "metadata": {},
   "source": [
    "## Sorting the dataframes by aces "
   ]
  },
  {
   "cell_type": "code",
   "execution_count": 22,
   "metadata": {},
   "outputs": [
    {
     "data": {
      "text/html": [
       "<div>\n",
       "<style>\n",
       "    .dataframe thead tr:only-child th {\n",
       "        text-align: right;\n",
       "    }\n",
       "\n",
       "    .dataframe thead th {\n",
       "        text-align: left;\n",
       "    }\n",
       "\n",
       "    .dataframe tbody tr th {\n",
       "        vertical-align: top;\n",
       "    }\n",
       "</style>\n",
       "<table border=\"1\" class=\"dataframe\">\n",
       "  <thead>\n",
       "    <tr style=\"text-align: right;\">\n",
       "      <th></th>\n",
       "      <th>winner_name</th>\n",
       "      <th>matches_won</th>\n",
       "      <th>matches_lost</th>\n",
       "      <th>total_matches</th>\n",
       "      <th>winning_perc</th>\n",
       "      <th>w_ace</th>\n",
       "      <th>w_df</th>\n",
       "      <th>w_svpt</th>\n",
       "      <th>w_1stIn</th>\n",
       "      <th>w_1stWon</th>\n",
       "      <th>w_2ndWon</th>\n",
       "      <th>w_SvGms</th>\n",
       "      <th>w_bpSaved</th>\n",
       "      <th>w_bpFaced</th>\n",
       "    </tr>\n",
       "  </thead>\n",
       "  <tbody>\n",
       "    <tr>\n",
       "      <th>0</th>\n",
       "      <td>Andy Roddick</td>\n",
       "      <td>512</td>\n",
       "      <td>171</td>\n",
       "      <td>683</td>\n",
       "      <td>0.749634</td>\n",
       "      <td>12.588358</td>\n",
       "      <td>1.659044</td>\n",
       "      <td>72.862786</td>\n",
       "      <td>48.399168</td>\n",
       "      <td>39.432432</td>\n",
       "      <td>14.563410</td>\n",
       "      <td>12.503119</td>\n",
       "      <td>2.087318</td>\n",
       "      <td>2.794179</td>\n",
       "    </tr>\n",
       "    <tr>\n",
       "      <th>1</th>\n",
       "      <td>Tomas Berdych</td>\n",
       "      <td>485</td>\n",
       "      <td>263</td>\n",
       "      <td>748</td>\n",
       "      <td>0.648396</td>\n",
       "      <td>8.473451</td>\n",
       "      <td>2.203540</td>\n",
       "      <td>73.090708</td>\n",
       "      <td>42.988938</td>\n",
       "      <td>34.495575</td>\n",
       "      <td>16.893805</td>\n",
       "      <td>12.050885</td>\n",
       "      <td>2.942478</td>\n",
       "      <td>4.017699</td>\n",
       "    </tr>\n",
       "    <tr>\n",
       "      <th>2</th>\n",
       "      <td>Roger Federer</td>\n",
       "      <td>847</td>\n",
       "      <td>137</td>\n",
       "      <td>984</td>\n",
       "      <td>0.860772</td>\n",
       "      <td>7.775434</td>\n",
       "      <td>1.496278</td>\n",
       "      <td>73.713400</td>\n",
       "      <td>46.308933</td>\n",
       "      <td>36.566998</td>\n",
       "      <td>16.404467</td>\n",
       "      <td>12.477667</td>\n",
       "      <td>2.470223</td>\n",
       "      <td>3.429280</td>\n",
       "    </tr>\n",
       "    <tr>\n",
       "      <th>3</th>\n",
       "      <td>Serena Williams</td>\n",
       "      <td>475</td>\n",
       "      <td>88</td>\n",
       "      <td>563</td>\n",
       "      <td>0.843694</td>\n",
       "      <td>7.139535</td>\n",
       "      <td>2.489583</td>\n",
       "      <td>59.764858</td>\n",
       "      <td>36.369509</td>\n",
       "      <td>27.573643</td>\n",
       "      <td>12.033592</td>\n",
       "      <td>8.666667</td>\n",
       "      <td>2.855297</td>\n",
       "      <td>4.372093</td>\n",
       "    </tr>\n",
       "    <tr>\n",
       "      <th>4</th>\n",
       "      <td>Andy Murray</td>\n",
       "      <td>487</td>\n",
       "      <td>154</td>\n",
       "      <td>641</td>\n",
       "      <td>0.759750</td>\n",
       "      <td>7.134199</td>\n",
       "      <td>2.313853</td>\n",
       "      <td>75.510823</td>\n",
       "      <td>43.852814</td>\n",
       "      <td>33.679654</td>\n",
       "      <td>17.199134</td>\n",
       "      <td>12.287879</td>\n",
       "      <td>3.229437</td>\n",
       "      <td>4.911255</td>\n",
       "    </tr>\n",
       "  </tbody>\n",
       "</table>\n",
       "</div>"
      ],
      "text/plain": [
       "       winner_name  matches_won  matches_lost  total_matches  winning_perc  \\\n",
       "0     Andy Roddick          512           171            683      0.749634   \n",
       "1    Tomas Berdych          485           263            748      0.648396   \n",
       "2    Roger Federer          847           137            984      0.860772   \n",
       "3  Serena Williams          475            88            563      0.843694   \n",
       "4      Andy Murray          487           154            641      0.759750   \n",
       "\n",
       "       w_ace      w_df     w_svpt    w_1stIn   w_1stWon   w_2ndWon    w_SvGms  \\\n",
       "0  12.588358  1.659044  72.862786  48.399168  39.432432  14.563410  12.503119   \n",
       "1   8.473451  2.203540  73.090708  42.988938  34.495575  16.893805  12.050885   \n",
       "2   7.775434  1.496278  73.713400  46.308933  36.566998  16.404467  12.477667   \n",
       "3   7.139535  2.489583  59.764858  36.369509  27.573643  12.033592   8.666667   \n",
       "4   7.134199  2.313853  75.510823  43.852814  33.679654  17.199134  12.287879   \n",
       "\n",
       "   w_bpSaved  w_bpFaced  \n",
       "0   2.087318   2.794179  \n",
       "1   2.942478   4.017699  \n",
       "2   2.470223   3.429280  \n",
       "3   2.855297   4.372093  \n",
       "4   3.229437   4.911255  "
      ]
     },
     "execution_count": 22,
     "metadata": {},
     "output_type": "execute_result"
    }
   ],
   "source": [
    "RQ2_sorted_w_ace = RQ2_winners.sort_values('w_ace', ascending=False).reset_index(drop=True)\n",
    "RQ2_sorted_w_ace.head()"
   ]
  },
  {
   "cell_type": "code",
   "execution_count": 23,
   "metadata": {},
   "outputs": [
    {
     "data": {
      "text/html": [
       "<div>\n",
       "<style>\n",
       "    .dataframe thead tr:only-child th {\n",
       "        text-align: right;\n",
       "    }\n",
       "\n",
       "    .dataframe thead th {\n",
       "        text-align: left;\n",
       "    }\n",
       "\n",
       "    .dataframe tbody tr th {\n",
       "        vertical-align: top;\n",
       "    }\n",
       "</style>\n",
       "<table border=\"1\" class=\"dataframe\">\n",
       "  <thead>\n",
       "    <tr style=\"text-align: right;\">\n",
       "      <th></th>\n",
       "      <th>loser_name</th>\n",
       "      <th>matches_lost</th>\n",
       "      <th>matches_won</th>\n",
       "      <th>total_matches</th>\n",
       "      <th>losing_perc</th>\n",
       "      <th>l_ace</th>\n",
       "      <th>l_df</th>\n",
       "      <th>l_svpt</th>\n",
       "      <th>l_1stIn</th>\n",
       "      <th>l_1stWon</th>\n",
       "      <th>l_2ndWon</th>\n",
       "      <th>l_SvGms</th>\n",
       "      <th>l_bpSaved</th>\n",
       "      <th>l_bpFaced</th>\n",
       "    </tr>\n",
       "  </thead>\n",
       "  <tbody>\n",
       "    <tr>\n",
       "      <th>0</th>\n",
       "      <td>Iveta Benesova</td>\n",
       "      <td>222</td>\n",
       "      <td>174</td>\n",
       "      <td>396</td>\n",
       "      <td>0.560606</td>\n",
       "      <td>0.400000</td>\n",
       "      <td>3.800000</td>\n",
       "      <td>66.000000</td>\n",
       "      <td>36.400000</td>\n",
       "      <td>21.400000</td>\n",
       "      <td>12.200000</td>\n",
       "      <td>NaN</td>\n",
       "      <td>3.800000</td>\n",
       "      <td>8.400000</td>\n",
       "    </tr>\n",
       "    <tr>\n",
       "      <th>1</th>\n",
       "      <td>Eleni Daniilidou</td>\n",
       "      <td>180</td>\n",
       "      <td>159</td>\n",
       "      <td>339</td>\n",
       "      <td>0.530973</td>\n",
       "      <td>0.898990</td>\n",
       "      <td>6.232323</td>\n",
       "      <td>68.535354</td>\n",
       "      <td>45.858586</td>\n",
       "      <td>25.868687</td>\n",
       "      <td>7.979798</td>\n",
       "      <td>NaN</td>\n",
       "      <td>4.626263</td>\n",
       "      <td>9.888889</td>\n",
       "    </tr>\n",
       "    <tr>\n",
       "      <th>2</th>\n",
       "      <td>Anabel Medina Garrigues</td>\n",
       "      <td>264</td>\n",
       "      <td>295</td>\n",
       "      <td>559</td>\n",
       "      <td>0.472272</td>\n",
       "      <td>1.101911</td>\n",
       "      <td>1.917197</td>\n",
       "      <td>72.140127</td>\n",
       "      <td>46.031847</td>\n",
       "      <td>25.751592</td>\n",
       "      <td>10.891720</td>\n",
       "      <td>NaN</td>\n",
       "      <td>4.866242</td>\n",
       "      <td>10.070064</td>\n",
       "    </tr>\n",
       "    <tr>\n",
       "      <th>3</th>\n",
       "      <td>Klara Koukalova</td>\n",
       "      <td>258</td>\n",
       "      <td>257</td>\n",
       "      <td>515</td>\n",
       "      <td>0.500971</td>\n",
       "      <td>1.117647</td>\n",
       "      <td>4.176471</td>\n",
       "      <td>66.411765</td>\n",
       "      <td>37.235294</td>\n",
       "      <td>20.411765</td>\n",
       "      <td>11.058824</td>\n",
       "      <td>NaN</td>\n",
       "      <td>5.000000</td>\n",
       "      <td>10.882353</td>\n",
       "    </tr>\n",
       "    <tr>\n",
       "      <th>4</th>\n",
       "      <td>Gisela Dulko</td>\n",
       "      <td>183</td>\n",
       "      <td>204</td>\n",
       "      <td>387</td>\n",
       "      <td>0.472868</td>\n",
       "      <td>1.307692</td>\n",
       "      <td>4.324786</td>\n",
       "      <td>68.470085</td>\n",
       "      <td>41.376068</td>\n",
       "      <td>23.085470</td>\n",
       "      <td>11.042735</td>\n",
       "      <td>NaN</td>\n",
       "      <td>4.803419</td>\n",
       "      <td>9.923077</td>\n",
       "    </tr>\n",
       "  </tbody>\n",
       "</table>\n",
       "</div>"
      ],
      "text/plain": [
       "                loser_name  matches_lost  matches_won  total_matches  \\\n",
       "0           Iveta Benesova           222          174            396   \n",
       "1         Eleni Daniilidou           180          159            339   \n",
       "2  Anabel Medina Garrigues           264          295            559   \n",
       "3          Klara Koukalova           258          257            515   \n",
       "4             Gisela Dulko           183          204            387   \n",
       "\n",
       "   losing_perc     l_ace      l_df     l_svpt    l_1stIn   l_1stWon  \\\n",
       "0     0.560606  0.400000  3.800000  66.000000  36.400000  21.400000   \n",
       "1     0.530973  0.898990  6.232323  68.535354  45.858586  25.868687   \n",
       "2     0.472272  1.101911  1.917197  72.140127  46.031847  25.751592   \n",
       "3     0.500971  1.117647  4.176471  66.411765  37.235294  20.411765   \n",
       "4     0.472868  1.307692  4.324786  68.470085  41.376068  23.085470   \n",
       "\n",
       "    l_2ndWon  l_SvGms  l_bpSaved  l_bpFaced  \n",
       "0  12.200000      NaN   3.800000   8.400000  \n",
       "1   7.979798      NaN   4.626263   9.888889  \n",
       "2  10.891720      NaN   4.866242  10.070064  \n",
       "3  11.058824      NaN   5.000000  10.882353  \n",
       "4  11.042735      NaN   4.803419   9.923077  "
      ]
     },
     "execution_count": 23,
     "metadata": {},
     "output_type": "execute_result"
    }
   ],
   "source": [
    "RQ2_sorted_l_ace = RQ2_losers.sort_values('l_ace', ascending=True).reset_index(drop=True)\n",
    "RQ2_sorted_l_ace.head()"
   ]
  },
  {
   "cell_type": "markdown",
   "metadata": {},
   "source": []
  },
  {
   "cell_type": "markdown",
   "metadata": {},
   "source": [
    "# Pressure Points\n",
    "## Sorting the dataframes by by break points saved"
   ]
  },
  {
   "cell_type": "code",
   "execution_count": 24,
   "metadata": {},
   "outputs": [
    {
     "data": {
      "text/html": [
       "<div>\n",
       "<style>\n",
       "    .dataframe thead tr:only-child th {\n",
       "        text-align: right;\n",
       "    }\n",
       "\n",
       "    .dataframe thead th {\n",
       "        text-align: left;\n",
       "    }\n",
       "\n",
       "    .dataframe tbody tr th {\n",
       "        vertical-align: top;\n",
       "    }\n",
       "</style>\n",
       "<table border=\"1\" class=\"dataframe\">\n",
       "  <thead>\n",
       "    <tr style=\"text-align: right;\">\n",
       "      <th></th>\n",
       "      <th>winner_name</th>\n",
       "      <th>matches_won</th>\n",
       "      <th>matches_lost</th>\n",
       "      <th>total_matches</th>\n",
       "      <th>winning_perc</th>\n",
       "      <th>w_ace</th>\n",
       "      <th>w_df</th>\n",
       "      <th>w_svpt</th>\n",
       "      <th>w_1stIn</th>\n",
       "      <th>w_1stWon</th>\n",
       "      <th>w_2ndWon</th>\n",
       "      <th>w_SvGms</th>\n",
       "      <th>w_bpSaved</th>\n",
       "      <th>w_bpFaced</th>\n",
       "    </tr>\n",
       "  </thead>\n",
       "  <tbody>\n",
       "    <tr>\n",
       "      <th>0</th>\n",
       "      <td>Caroline Wozniacki</td>\n",
       "      <td>415</td>\n",
       "      <td>167</td>\n",
       "      <td>582</td>\n",
       "      <td>0.713058</td>\n",
       "      <td>2.051136</td>\n",
       "      <td>1.778409</td>\n",
       "      <td>65.548295</td>\n",
       "      <td>45.238636</td>\n",
       "      <td>30.113636</td>\n",
       "      <td>10.460227</td>\n",
       "      <td>NaN</td>\n",
       "      <td>3.798295</td>\n",
       "      <td>5.994318</td>\n",
       "    </tr>\n",
       "    <tr>\n",
       "      <th>1</th>\n",
       "      <td>Agnieszka Radwanska</td>\n",
       "      <td>401</td>\n",
       "      <td>174</td>\n",
       "      <td>575</td>\n",
       "      <td>0.697391</td>\n",
       "      <td>2.191045</td>\n",
       "      <td>1.171687</td>\n",
       "      <td>64.576119</td>\n",
       "      <td>42.659701</td>\n",
       "      <td>28.465672</td>\n",
       "      <td>11.188060</td>\n",
       "      <td>NaN</td>\n",
       "      <td>3.773134</td>\n",
       "      <td>6.095522</td>\n",
       "    </tr>\n",
       "    <tr>\n",
       "      <th>2</th>\n",
       "      <td>Jelena Jankovic</td>\n",
       "      <td>506</td>\n",
       "      <td>278</td>\n",
       "      <td>784</td>\n",
       "      <td>0.645408</td>\n",
       "      <td>2.554622</td>\n",
       "      <td>3.222535</td>\n",
       "      <td>66.327731</td>\n",
       "      <td>43.745098</td>\n",
       "      <td>29.596639</td>\n",
       "      <td>11.025210</td>\n",
       "      <td>9.000000</td>\n",
       "      <td>3.743662</td>\n",
       "      <td>6.163380</td>\n",
       "    </tr>\n",
       "    <tr>\n",
       "      <th>3</th>\n",
       "      <td>Flavia Pennetta</td>\n",
       "      <td>412</td>\n",
       "      <td>255</td>\n",
       "      <td>667</td>\n",
       "      <td>0.617691</td>\n",
       "      <td>3.548507</td>\n",
       "      <td>2.973881</td>\n",
       "      <td>64.708955</td>\n",
       "      <td>36.171642</td>\n",
       "      <td>25.305970</td>\n",
       "      <td>14.623134</td>\n",
       "      <td>NaN</td>\n",
       "      <td>3.682836</td>\n",
       "      <td>5.925373</td>\n",
       "    </tr>\n",
       "    <tr>\n",
       "      <th>4</th>\n",
       "      <td>Tommy Robredo</td>\n",
       "      <td>429</td>\n",
       "      <td>270</td>\n",
       "      <td>699</td>\n",
       "      <td>0.613734</td>\n",
       "      <td>4.353081</td>\n",
       "      <td>2.139810</td>\n",
       "      <td>78.277251</td>\n",
       "      <td>51.094787</td>\n",
       "      <td>37.260664</td>\n",
       "      <td>15.116114</td>\n",
       "      <td>12.492891</td>\n",
       "      <td>3.642180</td>\n",
       "      <td>5.414692</td>\n",
       "    </tr>\n",
       "  </tbody>\n",
       "</table>\n",
       "</div>"
      ],
      "text/plain": [
       "           winner_name  matches_won  matches_lost  total_matches  \\\n",
       "0   Caroline Wozniacki          415           167            582   \n",
       "1  Agnieszka Radwanska          401           174            575   \n",
       "2      Jelena Jankovic          506           278            784   \n",
       "3      Flavia Pennetta          412           255            667   \n",
       "4        Tommy Robredo          429           270            699   \n",
       "\n",
       "   winning_perc     w_ace      w_df     w_svpt    w_1stIn   w_1stWon  \\\n",
       "0      0.713058  2.051136  1.778409  65.548295  45.238636  30.113636   \n",
       "1      0.697391  2.191045  1.171687  64.576119  42.659701  28.465672   \n",
       "2      0.645408  2.554622  3.222535  66.327731  43.745098  29.596639   \n",
       "3      0.617691  3.548507  2.973881  64.708955  36.171642  25.305970   \n",
       "4      0.613734  4.353081  2.139810  78.277251  51.094787  37.260664   \n",
       "\n",
       "    w_2ndWon    w_SvGms  w_bpSaved  w_bpFaced  \n",
       "0  10.460227        NaN   3.798295   5.994318  \n",
       "1  11.188060        NaN   3.773134   6.095522  \n",
       "2  11.025210   9.000000   3.743662   6.163380  \n",
       "3  14.623134        NaN   3.682836   5.925373  \n",
       "4  15.116114  12.492891   3.642180   5.414692  "
      ]
     },
     "execution_count": 24,
     "metadata": {},
     "output_type": "execute_result"
    }
   ],
   "source": [
    "RQ2_sorted_w_bpSaved = RQ2_winners.sort_values('w_bpSaved', ascending=False).reset_index(drop=True)\n",
    "RQ2_sorted_w_bpSaved.head()"
   ]
  },
  {
   "cell_type": "code",
   "execution_count": 25,
   "metadata": {
    "scrolled": true
   },
   "outputs": [
    {
     "data": {
      "text/html": [
       "<div>\n",
       "<style>\n",
       "    .dataframe thead tr:only-child th {\n",
       "        text-align: right;\n",
       "    }\n",
       "\n",
       "    .dataframe thead th {\n",
       "        text-align: left;\n",
       "    }\n",
       "\n",
       "    .dataframe tbody tr th {\n",
       "        vertical-align: top;\n",
       "    }\n",
       "</style>\n",
       "<table border=\"1\" class=\"dataframe\">\n",
       "  <thead>\n",
       "    <tr style=\"text-align: right;\">\n",
       "      <th></th>\n",
       "      <th>loser_name</th>\n",
       "      <th>matches_lost</th>\n",
       "      <th>matches_won</th>\n",
       "      <th>total_matches</th>\n",
       "      <th>losing_perc</th>\n",
       "      <th>l_ace</th>\n",
       "      <th>l_df</th>\n",
       "      <th>l_svpt</th>\n",
       "      <th>l_1stIn</th>\n",
       "      <th>l_1stWon</th>\n",
       "      <th>l_2ndWon</th>\n",
       "      <th>l_SvGms</th>\n",
       "      <th>l_bpSaved</th>\n",
       "      <th>l_bpFaced</th>\n",
       "    </tr>\n",
       "  </thead>\n",
       "  <tbody>\n",
       "    <tr>\n",
       "      <th>0</th>\n",
       "      <td>Iveta Benesova</td>\n",
       "      <td>222</td>\n",
       "      <td>174</td>\n",
       "      <td>396</td>\n",
       "      <td>0.560606</td>\n",
       "      <td>0.400000</td>\n",
       "      <td>3.800000</td>\n",
       "      <td>66.000000</td>\n",
       "      <td>36.400000</td>\n",
       "      <td>21.400000</td>\n",
       "      <td>12.200000</td>\n",
       "      <td>NaN</td>\n",
       "      <td>3.800000</td>\n",
       "      <td>8.400000</td>\n",
       "    </tr>\n",
       "    <tr>\n",
       "      <th>1</th>\n",
       "      <td>Florian Mayer</td>\n",
       "      <td>211</td>\n",
       "      <td>217</td>\n",
       "      <td>428</td>\n",
       "      <td>0.492991</td>\n",
       "      <td>3.291457</td>\n",
       "      <td>2.045226</td>\n",
       "      <td>72.618090</td>\n",
       "      <td>43.929648</td>\n",
       "      <td>28.020101</td>\n",
       "      <td>12.793970</td>\n",
       "      <td>11.115578</td>\n",
       "      <td>4.050251</td>\n",
       "      <td>8.050251</td>\n",
       "    </tr>\n",
       "    <tr>\n",
       "      <th>2</th>\n",
       "      <td>Paul Henri Mathieu</td>\n",
       "      <td>244</td>\n",
       "      <td>223</td>\n",
       "      <td>467</td>\n",
       "      <td>0.522484</td>\n",
       "      <td>4.021097</td>\n",
       "      <td>3.362869</td>\n",
       "      <td>78.341772</td>\n",
       "      <td>42.696203</td>\n",
       "      <td>28.784810</td>\n",
       "      <td>17.168776</td>\n",
       "      <td>11.881857</td>\n",
       "      <td>4.472574</td>\n",
       "      <td>8.067511</td>\n",
       "    </tr>\n",
       "    <tr>\n",
       "      <th>3</th>\n",
       "      <td>Albert Montanes</td>\n",
       "      <td>237</td>\n",
       "      <td>210</td>\n",
       "      <td>447</td>\n",
       "      <td>0.530201</td>\n",
       "      <td>2.729958</td>\n",
       "      <td>3.679325</td>\n",
       "      <td>74.177215</td>\n",
       "      <td>43.856540</td>\n",
       "      <td>28.122363</td>\n",
       "      <td>13.603376</td>\n",
       "      <td>11.270042</td>\n",
       "      <td>4.573840</td>\n",
       "      <td>8.658228</td>\n",
       "    </tr>\n",
       "    <tr>\n",
       "      <th>4</th>\n",
       "      <td>Janko Tipsarevic</td>\n",
       "      <td>218</td>\n",
       "      <td>180</td>\n",
       "      <td>398</td>\n",
       "      <td>0.547739</td>\n",
       "      <td>5.916256</td>\n",
       "      <td>2.812808</td>\n",
       "      <td>79.871921</td>\n",
       "      <td>44.758621</td>\n",
       "      <td>31.064039</td>\n",
       "      <td>16.354680</td>\n",
       "      <td>12.054187</td>\n",
       "      <td>4.596059</td>\n",
       "      <td>8.108374</td>\n",
       "    </tr>\n",
       "  </tbody>\n",
       "</table>\n",
       "</div>"
      ],
      "text/plain": [
       "           loser_name  matches_lost  matches_won  total_matches  losing_perc  \\\n",
       "0      Iveta Benesova           222          174            396     0.560606   \n",
       "1       Florian Mayer           211          217            428     0.492991   \n",
       "2  Paul Henri Mathieu           244          223            467     0.522484   \n",
       "3     Albert Montanes           237          210            447     0.530201   \n",
       "4    Janko Tipsarevic           218          180            398     0.547739   \n",
       "\n",
       "      l_ace      l_df     l_svpt    l_1stIn   l_1stWon   l_2ndWon    l_SvGms  \\\n",
       "0  0.400000  3.800000  66.000000  36.400000  21.400000  12.200000        NaN   \n",
       "1  3.291457  2.045226  72.618090  43.929648  28.020101  12.793970  11.115578   \n",
       "2  4.021097  3.362869  78.341772  42.696203  28.784810  17.168776  11.881857   \n",
       "3  2.729958  3.679325  74.177215  43.856540  28.122363  13.603376  11.270042   \n",
       "4  5.916256  2.812808  79.871921  44.758621  31.064039  16.354680  12.054187   \n",
       "\n",
       "   l_bpSaved  l_bpFaced  \n",
       "0   3.800000   8.400000  \n",
       "1   4.050251   8.050251  \n",
       "2   4.472574   8.067511  \n",
       "3   4.573840   8.658228  \n",
       "4   4.596059   8.108374  "
      ]
     },
     "execution_count": 25,
     "metadata": {},
     "output_type": "execute_result"
    }
   ],
   "source": [
    "RQ2_sorted_l_bpSaved = RQ2_losers.sort_values('l_bpSaved', ascending=True).reset_index(drop=True)\n",
    "RQ2_sorted_l_bpSaved.head()"
   ]
  },
  {
   "cell_type": "markdown",
   "metadata": {},
   "source": []
  },
  {
   "cell_type": "markdown",
   "metadata": {},
   "source": [
    "## Sorting the dataframes by break points faced"
   ]
  },
  {
   "cell_type": "code",
   "execution_count": 26,
   "metadata": {},
   "outputs": [
    {
     "data": {
      "text/html": [
       "<div>\n",
       "<style>\n",
       "    .dataframe thead tr:only-child th {\n",
       "        text-align: right;\n",
       "    }\n",
       "\n",
       "    .dataframe thead th {\n",
       "        text-align: left;\n",
       "    }\n",
       "\n",
       "    .dataframe tbody tr th {\n",
       "        vertical-align: top;\n",
       "    }\n",
       "</style>\n",
       "<table border=\"1\" class=\"dataframe\">\n",
       "  <thead>\n",
       "    <tr style=\"text-align: right;\">\n",
       "      <th></th>\n",
       "      <th>winner_name</th>\n",
       "      <th>matches_won</th>\n",
       "      <th>matches_lost</th>\n",
       "      <th>total_matches</th>\n",
       "      <th>winning_perc</th>\n",
       "      <th>w_ace</th>\n",
       "      <th>w_df</th>\n",
       "      <th>w_svpt</th>\n",
       "      <th>w_1stIn</th>\n",
       "      <th>w_1stWon</th>\n",
       "      <th>w_2ndWon</th>\n",
       "      <th>w_SvGms</th>\n",
       "      <th>w_bpSaved</th>\n",
       "      <th>w_bpFaced</th>\n",
       "    </tr>\n",
       "  </thead>\n",
       "  <tbody>\n",
       "    <tr>\n",
       "      <th>0</th>\n",
       "      <td>Jelena Jankovic</td>\n",
       "      <td>506</td>\n",
       "      <td>278</td>\n",
       "      <td>784</td>\n",
       "      <td>0.645408</td>\n",
       "      <td>2.554622</td>\n",
       "      <td>3.222535</td>\n",
       "      <td>66.327731</td>\n",
       "      <td>43.745098</td>\n",
       "      <td>29.596639</td>\n",
       "      <td>11.025210</td>\n",
       "      <td>9.0</td>\n",
       "      <td>3.743662</td>\n",
       "      <td>6.163380</td>\n",
       "    </tr>\n",
       "    <tr>\n",
       "      <th>1</th>\n",
       "      <td>Agnieszka Radwanska</td>\n",
       "      <td>401</td>\n",
       "      <td>174</td>\n",
       "      <td>575</td>\n",
       "      <td>0.697391</td>\n",
       "      <td>2.191045</td>\n",
       "      <td>1.171687</td>\n",
       "      <td>64.576119</td>\n",
       "      <td>42.659701</td>\n",
       "      <td>28.465672</td>\n",
       "      <td>11.188060</td>\n",
       "      <td>NaN</td>\n",
       "      <td>3.773134</td>\n",
       "      <td>6.095522</td>\n",
       "    </tr>\n",
       "    <tr>\n",
       "      <th>2</th>\n",
       "      <td>Caroline Wozniacki</td>\n",
       "      <td>415</td>\n",
       "      <td>167</td>\n",
       "      <td>582</td>\n",
       "      <td>0.713058</td>\n",
       "      <td>2.051136</td>\n",
       "      <td>1.778409</td>\n",
       "      <td>65.548295</td>\n",
       "      <td>45.238636</td>\n",
       "      <td>30.113636</td>\n",
       "      <td>10.460227</td>\n",
       "      <td>NaN</td>\n",
       "      <td>3.798295</td>\n",
       "      <td>5.994318</td>\n",
       "    </tr>\n",
       "    <tr>\n",
       "      <th>3</th>\n",
       "      <td>Flavia Pennetta</td>\n",
       "      <td>412</td>\n",
       "      <td>255</td>\n",
       "      <td>667</td>\n",
       "      <td>0.617691</td>\n",
       "      <td>3.548507</td>\n",
       "      <td>2.973881</td>\n",
       "      <td>64.708955</td>\n",
       "      <td>36.171642</td>\n",
       "      <td>25.305970</td>\n",
       "      <td>14.623134</td>\n",
       "      <td>NaN</td>\n",
       "      <td>3.682836</td>\n",
       "      <td>5.925373</td>\n",
       "    </tr>\n",
       "    <tr>\n",
       "      <th>4</th>\n",
       "      <td>Svetlana Kuznetsova</td>\n",
       "      <td>447</td>\n",
       "      <td>221</td>\n",
       "      <td>668</td>\n",
       "      <td>0.669162</td>\n",
       "      <td>3.906061</td>\n",
       "      <td>2.376900</td>\n",
       "      <td>68.218182</td>\n",
       "      <td>41.809091</td>\n",
       "      <td>28.915152</td>\n",
       "      <td>13.793939</td>\n",
       "      <td>NaN</td>\n",
       "      <td>3.536364</td>\n",
       "      <td>5.781818</td>\n",
       "    </tr>\n",
       "  </tbody>\n",
       "</table>\n",
       "</div>"
      ],
      "text/plain": [
       "           winner_name  matches_won  matches_lost  total_matches  \\\n",
       "0      Jelena Jankovic          506           278            784   \n",
       "1  Agnieszka Radwanska          401           174            575   \n",
       "2   Caroline Wozniacki          415           167            582   \n",
       "3      Flavia Pennetta          412           255            667   \n",
       "4  Svetlana Kuznetsova          447           221            668   \n",
       "\n",
       "   winning_perc     w_ace      w_df     w_svpt    w_1stIn   w_1stWon  \\\n",
       "0      0.645408  2.554622  3.222535  66.327731  43.745098  29.596639   \n",
       "1      0.697391  2.191045  1.171687  64.576119  42.659701  28.465672   \n",
       "2      0.713058  2.051136  1.778409  65.548295  45.238636  30.113636   \n",
       "3      0.617691  3.548507  2.973881  64.708955  36.171642  25.305970   \n",
       "4      0.669162  3.906061  2.376900  68.218182  41.809091  28.915152   \n",
       "\n",
       "    w_2ndWon  w_SvGms  w_bpSaved  w_bpFaced  \n",
       "0  11.025210      9.0   3.743662   6.163380  \n",
       "1  11.188060      NaN   3.773134   6.095522  \n",
       "2  10.460227      NaN   3.798295   5.994318  \n",
       "3  14.623134      NaN   3.682836   5.925373  \n",
       "4  13.793939      NaN   3.536364   5.781818  "
      ]
     },
     "execution_count": 26,
     "metadata": {},
     "output_type": "execute_result"
    }
   ],
   "source": [
    "RQ2_sorted_w_bpFaced = RQ2_winners.sort_values('w_bpFaced', ascending=False).reset_index(drop=True)\n",
    "RQ2_sorted_w_bpFaced.head()"
   ]
  },
  {
   "cell_type": "code",
   "execution_count": 27,
   "metadata": {},
   "outputs": [
    {
     "data": {
      "text/html": [
       "<div>\n",
       "<style>\n",
       "    .dataframe thead tr:only-child th {\n",
       "        text-align: right;\n",
       "    }\n",
       "\n",
       "    .dataframe thead th {\n",
       "        text-align: left;\n",
       "    }\n",
       "\n",
       "    .dataframe tbody tr th {\n",
       "        vertical-align: top;\n",
       "    }\n",
       "</style>\n",
       "<table border=\"1\" class=\"dataframe\">\n",
       "  <thead>\n",
       "    <tr style=\"text-align: right;\">\n",
       "      <th></th>\n",
       "      <th>loser_name</th>\n",
       "      <th>matches_lost</th>\n",
       "      <th>matches_won</th>\n",
       "      <th>total_matches</th>\n",
       "      <th>losing_perc</th>\n",
       "      <th>l_ace</th>\n",
       "      <th>l_df</th>\n",
       "      <th>l_svpt</th>\n",
       "      <th>l_1stIn</th>\n",
       "      <th>l_1stWon</th>\n",
       "      <th>l_2ndWon</th>\n",
       "      <th>l_SvGms</th>\n",
       "      <th>l_bpSaved</th>\n",
       "      <th>l_bpFaced</th>\n",
       "    </tr>\n",
       "  </thead>\n",
       "  <tbody>\n",
       "    <tr>\n",
       "      <th>0</th>\n",
       "      <td>Florian Mayer</td>\n",
       "      <td>211</td>\n",
       "      <td>217</td>\n",
       "      <td>428</td>\n",
       "      <td>0.492991</td>\n",
       "      <td>3.291457</td>\n",
       "      <td>2.045226</td>\n",
       "      <td>72.618090</td>\n",
       "      <td>43.929648</td>\n",
       "      <td>28.020101</td>\n",
       "      <td>12.793970</td>\n",
       "      <td>11.115578</td>\n",
       "      <td>4.050251</td>\n",
       "      <td>8.050251</td>\n",
       "    </tr>\n",
       "    <tr>\n",
       "      <th>1</th>\n",
       "      <td>Paul Henri Mathieu</td>\n",
       "      <td>244</td>\n",
       "      <td>223</td>\n",
       "      <td>467</td>\n",
       "      <td>0.522484</td>\n",
       "      <td>4.021097</td>\n",
       "      <td>3.362869</td>\n",
       "      <td>78.341772</td>\n",
       "      <td>42.696203</td>\n",
       "      <td>28.784810</td>\n",
       "      <td>17.168776</td>\n",
       "      <td>11.881857</td>\n",
       "      <td>4.472574</td>\n",
       "      <td>8.067511</td>\n",
       "    </tr>\n",
       "    <tr>\n",
       "      <th>2</th>\n",
       "      <td>Janko Tipsarevic</td>\n",
       "      <td>218</td>\n",
       "      <td>180</td>\n",
       "      <td>398</td>\n",
       "      <td>0.547739</td>\n",
       "      <td>5.916256</td>\n",
       "      <td>2.812808</td>\n",
       "      <td>79.871921</td>\n",
       "      <td>44.758621</td>\n",
       "      <td>31.064039</td>\n",
       "      <td>16.354680</td>\n",
       "      <td>12.054187</td>\n",
       "      <td>4.596059</td>\n",
       "      <td>8.108374</td>\n",
       "    </tr>\n",
       "    <tr>\n",
       "      <th>3</th>\n",
       "      <td>Victor Hanescu</td>\n",
       "      <td>241</td>\n",
       "      <td>197</td>\n",
       "      <td>438</td>\n",
       "      <td>0.550228</td>\n",
       "      <td>4.276018</td>\n",
       "      <td>1.805430</td>\n",
       "      <td>81.642534</td>\n",
       "      <td>56.402715</td>\n",
       "      <td>37.022624</td>\n",
       "      <td>11.638009</td>\n",
       "      <td>12.425339</td>\n",
       "      <td>4.628959</td>\n",
       "      <td>8.244344</td>\n",
       "    </tr>\n",
       "    <tr>\n",
       "      <th>4</th>\n",
       "      <td>Iveta Benesova</td>\n",
       "      <td>222</td>\n",
       "      <td>174</td>\n",
       "      <td>396</td>\n",
       "      <td>0.560606</td>\n",
       "      <td>0.400000</td>\n",
       "      <td>3.800000</td>\n",
       "      <td>66.000000</td>\n",
       "      <td>36.400000</td>\n",
       "      <td>21.400000</td>\n",
       "      <td>12.200000</td>\n",
       "      <td>NaN</td>\n",
       "      <td>3.800000</td>\n",
       "      <td>8.400000</td>\n",
       "    </tr>\n",
       "  </tbody>\n",
       "</table>\n",
       "</div>"
      ],
      "text/plain": [
       "           loser_name  matches_lost  matches_won  total_matches  losing_perc  \\\n",
       "0       Florian Mayer           211          217            428     0.492991   \n",
       "1  Paul Henri Mathieu           244          223            467     0.522484   \n",
       "2    Janko Tipsarevic           218          180            398     0.547739   \n",
       "3      Victor Hanescu           241          197            438     0.550228   \n",
       "4      Iveta Benesova           222          174            396     0.560606   \n",
       "\n",
       "      l_ace      l_df     l_svpt    l_1stIn   l_1stWon   l_2ndWon    l_SvGms  \\\n",
       "0  3.291457  2.045226  72.618090  43.929648  28.020101  12.793970  11.115578   \n",
       "1  4.021097  3.362869  78.341772  42.696203  28.784810  17.168776  11.881857   \n",
       "2  5.916256  2.812808  79.871921  44.758621  31.064039  16.354680  12.054187   \n",
       "3  4.276018  1.805430  81.642534  56.402715  37.022624  11.638009  12.425339   \n",
       "4  0.400000  3.800000  66.000000  36.400000  21.400000  12.200000        NaN   \n",
       "\n",
       "   l_bpSaved  l_bpFaced  \n",
       "0   4.050251   8.050251  \n",
       "1   4.472574   8.067511  \n",
       "2   4.596059   8.108374  \n",
       "3   4.628959   8.244344  \n",
       "4   3.800000   8.400000  "
      ]
     },
     "execution_count": 27,
     "metadata": {},
     "output_type": "execute_result"
    }
   ],
   "source": [
    "RQ2_sorted_l_bpFaced = RQ2_losers.sort_values('l_bpFaced', ascending=True).reset_index(drop=True)\n",
    "RQ2_sorted_l_bpFaced.head()"
   ]
  }
 ],
 "metadata": {
  "kernelspec": {
   "display_name": "Python 3",
   "language": "python",
   "name": "python3"
  },
  "language_info": {
   "codemirror_mode": {
    "name": "ipython",
    "version": 3
   },
   "file_extension": ".py",
   "mimetype": "text/x-python",
   "name": "python",
   "nbconvert_exporter": "python",
   "pygments_lexer": "ipython3",
   "version": "3.6.3"
  }
 },
 "nbformat": 4,
 "nbformat_minor": 2
}
