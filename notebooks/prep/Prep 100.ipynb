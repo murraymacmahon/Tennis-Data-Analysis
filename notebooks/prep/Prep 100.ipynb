{
 "cells": [
  {
   "cell_type": "markdown",
   "metadata": {},
   "source": [
    "# Prep 100"
   ]
  },
  {
   "cell_type": "markdown",
   "metadata": {},
   "source": [
    "## Purpose\n",
    "* In this notebook we will begin the cleaning of our Men's Singles 1968-2017 dataset.\n",
    "* We will;\n",
    "    * load the data\n",
    "    * fix data types\n",
    "    * add a column\n",
    "    * save the cleaned dataset as a dataframe in a specified folder"
   ]
  },
  {
   "cell_type": "markdown",
   "metadata": {},
   "source": [
    "## Datasets\n",
    "* This is the first notebook where we begin preparing the raw datasets and the end result will be a cleaned dataframe.\n",
    "* The datasets that will be used are;\n",
    "    * Men's Singles Matches from 1968 to 2017. This dataset is a csv file and is entitled ATP.csv. The title of this dataset is \"ATP Matches, 1968 to 2017\".\n",
    "    * This dataset was downloaded from Kaggle.com."
   ]
  },
  {
   "cell_type": "code",
   "execution_count": 1,
   "metadata": {
    "collapsed": true
   },
   "outputs": [],
   "source": [
    "# Importing relevant libraries\n",
    "import os\n",
    "import sys\n",
    "import hashlib\n",
    "import numpy as np\n",
    "import pandas as pd"
   ]
  },
  {
   "cell_type": "code",
   "execution_count": 2,
   "metadata": {},
   "outputs": [
    {
     "name": "stdout",
     "output_type": "stream",
     "text": [
      "Success!\n"
     ]
    }
   ],
   "source": [
    "if not os.path.exists(\"../data/ATP.csv\"):\n",
    "    print(\"Missing dataset file\")\n",
    "print(\"Success!\")"
   ]
  },
  {
   "cell_type": "markdown",
   "metadata": {},
   "source": [
    "## ATP Matches, 1968 to 2017"
   ]
  },
  {
   "cell_type": "code",
   "execution_count": 3,
   "metadata": {},
   "outputs": [
    {
     "data": {
      "text/html": [
       "<div>\n",
       "<style>\n",
       "    .dataframe thead tr:only-child th {\n",
       "        text-align: right;\n",
       "    }\n",
       "\n",
       "    .dataframe thead th {\n",
       "        text-align: left;\n",
       "    }\n",
       "\n",
       "    .dataframe tbody tr th {\n",
       "        vertical-align: top;\n",
       "    }\n",
       "</style>\n",
       "<table border=\"1\" class=\"dataframe\">\n",
       "  <thead>\n",
       "    <tr style=\"text-align: right;\">\n",
       "      <th></th>\n",
       "      <th>tourney_id</th>\n",
       "      <th>tourney_name</th>\n",
       "      <th>surface</th>\n",
       "      <th>draw_size</th>\n",
       "      <th>tourney_level</th>\n",
       "      <th>tourney_date</th>\n",
       "      <th>match_num</th>\n",
       "      <th>winner_id</th>\n",
       "      <th>winner_seed</th>\n",
       "      <th>winner_entry</th>\n",
       "      <th>...</th>\n",
       "      <th>w_bpFaced</th>\n",
       "      <th>l_ace</th>\n",
       "      <th>l_df</th>\n",
       "      <th>l_svpt</th>\n",
       "      <th>l_1stIn</th>\n",
       "      <th>l_1stWon</th>\n",
       "      <th>l_2ndWon</th>\n",
       "      <th>l_SvGms</th>\n",
       "      <th>l_bpSaved</th>\n",
       "      <th>l_bpFaced</th>\n",
       "    </tr>\n",
       "  </thead>\n",
       "  <tbody>\n",
       "    <tr>\n",
       "      <th>0</th>\n",
       "      <td>1968-580</td>\n",
       "      <td>Australian Chps.</td>\n",
       "      <td>Grass</td>\n",
       "      <td>64</td>\n",
       "      <td>G</td>\n",
       "      <td>19680119</td>\n",
       "      <td>1</td>\n",
       "      <td>110023</td>\n",
       "      <td>NaN</td>\n",
       "      <td>NaN</td>\n",
       "      <td>...</td>\n",
       "      <td>NaN</td>\n",
       "      <td>NaN</td>\n",
       "      <td>NaN</td>\n",
       "      <td>NaN</td>\n",
       "      <td>NaN</td>\n",
       "      <td>NaN</td>\n",
       "      <td>NaN</td>\n",
       "      <td>NaN</td>\n",
       "      <td>NaN</td>\n",
       "      <td>NaN</td>\n",
       "    </tr>\n",
       "    <tr>\n",
       "      <th>1</th>\n",
       "      <td>1968-580</td>\n",
       "      <td>Australian Chps.</td>\n",
       "      <td>Grass</td>\n",
       "      <td>64</td>\n",
       "      <td>G</td>\n",
       "      <td>19680119</td>\n",
       "      <td>2</td>\n",
       "      <td>109803</td>\n",
       "      <td>NaN</td>\n",
       "      <td>NaN</td>\n",
       "      <td>...</td>\n",
       "      <td>NaN</td>\n",
       "      <td>NaN</td>\n",
       "      <td>NaN</td>\n",
       "      <td>NaN</td>\n",
       "      <td>NaN</td>\n",
       "      <td>NaN</td>\n",
       "      <td>NaN</td>\n",
       "      <td>NaN</td>\n",
       "      <td>NaN</td>\n",
       "      <td>NaN</td>\n",
       "    </tr>\n",
       "    <tr>\n",
       "      <th>2</th>\n",
       "      <td>1968-580</td>\n",
       "      <td>Australian Chps.</td>\n",
       "      <td>Grass</td>\n",
       "      <td>64</td>\n",
       "      <td>G</td>\n",
       "      <td>19680119</td>\n",
       "      <td>3</td>\n",
       "      <td>100257</td>\n",
       "      <td>NaN</td>\n",
       "      <td>NaN</td>\n",
       "      <td>...</td>\n",
       "      <td>NaN</td>\n",
       "      <td>NaN</td>\n",
       "      <td>NaN</td>\n",
       "      <td>NaN</td>\n",
       "      <td>NaN</td>\n",
       "      <td>NaN</td>\n",
       "      <td>NaN</td>\n",
       "      <td>NaN</td>\n",
       "      <td>NaN</td>\n",
       "      <td>NaN</td>\n",
       "    </tr>\n",
       "    <tr>\n",
       "      <th>3</th>\n",
       "      <td>1968-580</td>\n",
       "      <td>Australian Chps.</td>\n",
       "      <td>Grass</td>\n",
       "      <td>64</td>\n",
       "      <td>G</td>\n",
       "      <td>19680119</td>\n",
       "      <td>4</td>\n",
       "      <td>100105</td>\n",
       "      <td>5</td>\n",
       "      <td>NaN</td>\n",
       "      <td>...</td>\n",
       "      <td>NaN</td>\n",
       "      <td>NaN</td>\n",
       "      <td>NaN</td>\n",
       "      <td>NaN</td>\n",
       "      <td>NaN</td>\n",
       "      <td>NaN</td>\n",
       "      <td>NaN</td>\n",
       "      <td>NaN</td>\n",
       "      <td>NaN</td>\n",
       "      <td>NaN</td>\n",
       "    </tr>\n",
       "    <tr>\n",
       "      <th>4</th>\n",
       "      <td>1968-580</td>\n",
       "      <td>Australian Chps.</td>\n",
       "      <td>Grass</td>\n",
       "      <td>64</td>\n",
       "      <td>G</td>\n",
       "      <td>19680119</td>\n",
       "      <td>5</td>\n",
       "      <td>109966</td>\n",
       "      <td>NaN</td>\n",
       "      <td>NaN</td>\n",
       "      <td>...</td>\n",
       "      <td>NaN</td>\n",
       "      <td>NaN</td>\n",
       "      <td>NaN</td>\n",
       "      <td>NaN</td>\n",
       "      <td>NaN</td>\n",
       "      <td>NaN</td>\n",
       "      <td>NaN</td>\n",
       "      <td>NaN</td>\n",
       "      <td>NaN</td>\n",
       "      <td>NaN</td>\n",
       "    </tr>\n",
       "  </tbody>\n",
       "</table>\n",
       "<p>5 rows × 49 columns</p>\n",
       "</div>"
      ],
      "text/plain": [
       "  tourney_id      tourney_name surface draw_size tourney_level tourney_date  \\\n",
       "0   1968-580  Australian Chps.   Grass        64             G     19680119   \n",
       "1   1968-580  Australian Chps.   Grass        64             G     19680119   \n",
       "2   1968-580  Australian Chps.   Grass        64             G     19680119   \n",
       "3   1968-580  Australian Chps.   Grass        64             G     19680119   \n",
       "4   1968-580  Australian Chps.   Grass        64             G     19680119   \n",
       "\n",
       "  match_num winner_id winner_seed winner_entry    ...    w_bpFaced l_ace l_df  \\\n",
       "0         1    110023         NaN          NaN    ...          NaN   NaN  NaN   \n",
       "1         2    109803         NaN          NaN    ...          NaN   NaN  NaN   \n",
       "2         3    100257         NaN          NaN    ...          NaN   NaN  NaN   \n",
       "3         4    100105           5          NaN    ...          NaN   NaN  NaN   \n",
       "4         5    109966         NaN          NaN    ...          NaN   NaN  NaN   \n",
       "\n",
       "  l_svpt l_1stIn l_1stWon l_2ndWon l_SvGms l_bpSaved l_bpFaced  \n",
       "0    NaN     NaN      NaN      NaN     NaN       NaN       NaN  \n",
       "1    NaN     NaN      NaN      NaN     NaN       NaN       NaN  \n",
       "2    NaN     NaN      NaN      NaN     NaN       NaN       NaN  \n",
       "3    NaN     NaN      NaN      NaN     NaN       NaN       NaN  \n",
       "4    NaN     NaN      NaN      NaN     NaN       NaN       NaN  \n",
       "\n",
       "[5 rows x 49 columns]"
      ]
     },
     "execution_count": 3,
     "metadata": {},
     "output_type": "execute_result"
    }
   ],
   "source": [
    "# Reading in the ATP.csv file\n",
    "atp_main = pd.read_csv(\"../data/ATP.csv\", low_memory = False)\n",
    "atp_main.head()"
   ]
  },
  {
   "cell_type": "code",
   "execution_count": 4,
   "metadata": {},
   "outputs": [
    {
     "data": {
      "text/plain": [
       "(164029, 49)"
      ]
     },
     "execution_count": 4,
     "metadata": {},
     "output_type": "execute_result"
    }
   ],
   "source": [
    "# get idea of the size of data we are dealing with\n",
    "atp_main.shape"
   ]
  },
  {
   "cell_type": "markdown",
   "metadata": {},
   "source": [
    "* This dataframe contains every match from 1968-2017."
   ]
  },
  {
   "cell_type": "markdown",
   "metadata": {},
   "source": [
    "### A 'year' column is added\n",
    "* This column was added for an easier way to grab all matches within a specified time period of a year.\n",
    "* Years are easy to work with rather than months, particularly in tennis.\n",
    "* This is because the tennis calendar runs from January to early December."
   ]
  },
  {
   "cell_type": "code",
   "execution_count": 5,
   "metadata": {},
   "outputs": [
    {
     "data": {
      "text/html": [
       "<div>\n",
       "<style>\n",
       "    .dataframe thead tr:only-child th {\n",
       "        text-align: right;\n",
       "    }\n",
       "\n",
       "    .dataframe thead th {\n",
       "        text-align: left;\n",
       "    }\n",
       "\n",
       "    .dataframe tbody tr th {\n",
       "        vertical-align: top;\n",
       "    }\n",
       "</style>\n",
       "<table border=\"1\" class=\"dataframe\">\n",
       "  <thead>\n",
       "    <tr style=\"text-align: right;\">\n",
       "      <th></th>\n",
       "      <th>tourney_id</th>\n",
       "      <th>tourney_name</th>\n",
       "      <th>surface</th>\n",
       "      <th>draw_size</th>\n",
       "      <th>tourney_level</th>\n",
       "      <th>tourney_date</th>\n",
       "      <th>match_num</th>\n",
       "      <th>winner_id</th>\n",
       "      <th>winner_seed</th>\n",
       "      <th>winner_entry</th>\n",
       "      <th>...</th>\n",
       "      <th>l_ace</th>\n",
       "      <th>l_df</th>\n",
       "      <th>l_svpt</th>\n",
       "      <th>l_1stIn</th>\n",
       "      <th>l_1stWon</th>\n",
       "      <th>l_2ndWon</th>\n",
       "      <th>l_SvGms</th>\n",
       "      <th>l_bpSaved</th>\n",
       "      <th>l_bpFaced</th>\n",
       "      <th>year</th>\n",
       "    </tr>\n",
       "  </thead>\n",
       "  <tbody>\n",
       "    <tr>\n",
       "      <th>0</th>\n",
       "      <td>1968-580</td>\n",
       "      <td>Australian Chps.</td>\n",
       "      <td>Grass</td>\n",
       "      <td>64</td>\n",
       "      <td>G</td>\n",
       "      <td>19680119</td>\n",
       "      <td>1</td>\n",
       "      <td>110023</td>\n",
       "      <td>NaN</td>\n",
       "      <td>NaN</td>\n",
       "      <td>...</td>\n",
       "      <td>NaN</td>\n",
       "      <td>NaN</td>\n",
       "      <td>NaN</td>\n",
       "      <td>NaN</td>\n",
       "      <td>NaN</td>\n",
       "      <td>NaN</td>\n",
       "      <td>NaN</td>\n",
       "      <td>NaN</td>\n",
       "      <td>NaN</td>\n",
       "      <td>1968</td>\n",
       "    </tr>\n",
       "    <tr>\n",
       "      <th>1</th>\n",
       "      <td>1968-580</td>\n",
       "      <td>Australian Chps.</td>\n",
       "      <td>Grass</td>\n",
       "      <td>64</td>\n",
       "      <td>G</td>\n",
       "      <td>19680119</td>\n",
       "      <td>2</td>\n",
       "      <td>109803</td>\n",
       "      <td>NaN</td>\n",
       "      <td>NaN</td>\n",
       "      <td>...</td>\n",
       "      <td>NaN</td>\n",
       "      <td>NaN</td>\n",
       "      <td>NaN</td>\n",
       "      <td>NaN</td>\n",
       "      <td>NaN</td>\n",
       "      <td>NaN</td>\n",
       "      <td>NaN</td>\n",
       "      <td>NaN</td>\n",
       "      <td>NaN</td>\n",
       "      <td>1968</td>\n",
       "    </tr>\n",
       "    <tr>\n",
       "      <th>2</th>\n",
       "      <td>1968-580</td>\n",
       "      <td>Australian Chps.</td>\n",
       "      <td>Grass</td>\n",
       "      <td>64</td>\n",
       "      <td>G</td>\n",
       "      <td>19680119</td>\n",
       "      <td>3</td>\n",
       "      <td>100257</td>\n",
       "      <td>NaN</td>\n",
       "      <td>NaN</td>\n",
       "      <td>...</td>\n",
       "      <td>NaN</td>\n",
       "      <td>NaN</td>\n",
       "      <td>NaN</td>\n",
       "      <td>NaN</td>\n",
       "      <td>NaN</td>\n",
       "      <td>NaN</td>\n",
       "      <td>NaN</td>\n",
       "      <td>NaN</td>\n",
       "      <td>NaN</td>\n",
       "      <td>1968</td>\n",
       "    </tr>\n",
       "    <tr>\n",
       "      <th>3</th>\n",
       "      <td>1968-580</td>\n",
       "      <td>Australian Chps.</td>\n",
       "      <td>Grass</td>\n",
       "      <td>64</td>\n",
       "      <td>G</td>\n",
       "      <td>19680119</td>\n",
       "      <td>4</td>\n",
       "      <td>100105</td>\n",
       "      <td>5</td>\n",
       "      <td>NaN</td>\n",
       "      <td>...</td>\n",
       "      <td>NaN</td>\n",
       "      <td>NaN</td>\n",
       "      <td>NaN</td>\n",
       "      <td>NaN</td>\n",
       "      <td>NaN</td>\n",
       "      <td>NaN</td>\n",
       "      <td>NaN</td>\n",
       "      <td>NaN</td>\n",
       "      <td>NaN</td>\n",
       "      <td>1968</td>\n",
       "    </tr>\n",
       "    <tr>\n",
       "      <th>4</th>\n",
       "      <td>1968-580</td>\n",
       "      <td>Australian Chps.</td>\n",
       "      <td>Grass</td>\n",
       "      <td>64</td>\n",
       "      <td>G</td>\n",
       "      <td>19680119</td>\n",
       "      <td>5</td>\n",
       "      <td>109966</td>\n",
       "      <td>NaN</td>\n",
       "      <td>NaN</td>\n",
       "      <td>...</td>\n",
       "      <td>NaN</td>\n",
       "      <td>NaN</td>\n",
       "      <td>NaN</td>\n",
       "      <td>NaN</td>\n",
       "      <td>NaN</td>\n",
       "      <td>NaN</td>\n",
       "      <td>NaN</td>\n",
       "      <td>NaN</td>\n",
       "      <td>NaN</td>\n",
       "      <td>1968</td>\n",
       "    </tr>\n",
       "  </tbody>\n",
       "</table>\n",
       "<p>5 rows × 50 columns</p>\n",
       "</div>"
      ],
      "text/plain": [
       "  tourney_id      tourney_name surface draw_size tourney_level tourney_date  \\\n",
       "0   1968-580  Australian Chps.   Grass        64             G     19680119   \n",
       "1   1968-580  Australian Chps.   Grass        64             G     19680119   \n",
       "2   1968-580  Australian Chps.   Grass        64             G     19680119   \n",
       "3   1968-580  Australian Chps.   Grass        64             G     19680119   \n",
       "4   1968-580  Australian Chps.   Grass        64             G     19680119   \n",
       "\n",
       "  match_num winner_id winner_seed winner_entry  ...  l_ace l_df l_svpt  \\\n",
       "0         1    110023         NaN          NaN  ...    NaN  NaN    NaN   \n",
       "1         2    109803         NaN          NaN  ...    NaN  NaN    NaN   \n",
       "2         3    100257         NaN          NaN  ...    NaN  NaN    NaN   \n",
       "3         4    100105           5          NaN  ...    NaN  NaN    NaN   \n",
       "4         5    109966         NaN          NaN  ...    NaN  NaN    NaN   \n",
       "\n",
       "  l_1stIn l_1stWon l_2ndWon l_SvGms l_bpSaved l_bpFaced  year  \n",
       "0     NaN      NaN      NaN     NaN       NaN       NaN  1968  \n",
       "1     NaN      NaN      NaN     NaN       NaN       NaN  1968  \n",
       "2     NaN      NaN      NaN     NaN       NaN       NaN  1968  \n",
       "3     NaN      NaN      NaN     NaN       NaN       NaN  1968  \n",
       "4     NaN      NaN      NaN     NaN       NaN       NaN  1968  \n",
       "\n",
       "[5 rows x 50 columns]"
      ]
     },
     "execution_count": 5,
     "metadata": {},
     "output_type": "execute_result"
    }
   ],
   "source": [
    "atp_main['year'] = atp_main['tourney_id'].str.split('-').str[0]\n",
    "atp_main.head()"
   ]
  },
  {
   "cell_type": "markdown",
   "metadata": {},
   "source": [
    "* The original dataset has a column 'tourney_id' where the year and ID of that specific tournament is contained. I split this column and used the first part i.e. the year integers to create this new column"
   ]
  },
  {
   "cell_type": "code",
   "execution_count": 6,
   "metadata": {},
   "outputs": [
    {
     "data": {
      "text/html": [
       "<div>\n",
       "<style>\n",
       "    .dataframe thead tr:only-child th {\n",
       "        text-align: right;\n",
       "    }\n",
       "\n",
       "    .dataframe thead th {\n",
       "        text-align: left;\n",
       "    }\n",
       "\n",
       "    .dataframe tbody tr th {\n",
       "        vertical-align: top;\n",
       "    }\n",
       "</style>\n",
       "<table border=\"1\" class=\"dataframe\">\n",
       "  <thead>\n",
       "    <tr style=\"text-align: right;\">\n",
       "      <th></th>\n",
       "      <th>tourney_id</th>\n",
       "      <th>tourney_name</th>\n",
       "      <th>surface</th>\n",
       "      <th>draw_size</th>\n",
       "      <th>tourney_level</th>\n",
       "      <th>tourney_date</th>\n",
       "      <th>match_num</th>\n",
       "      <th>winner_id</th>\n",
       "      <th>winner_seed</th>\n",
       "      <th>winner_entry</th>\n",
       "      <th>...</th>\n",
       "      <th>l_ace</th>\n",
       "      <th>l_df</th>\n",
       "      <th>l_svpt</th>\n",
       "      <th>l_1stIn</th>\n",
       "      <th>l_1stWon</th>\n",
       "      <th>l_2ndWon</th>\n",
       "      <th>l_SvGms</th>\n",
       "      <th>l_bpSaved</th>\n",
       "      <th>l_bpFaced</th>\n",
       "      <th>match_year</th>\n",
       "    </tr>\n",
       "  </thead>\n",
       "  <tbody>\n",
       "    <tr>\n",
       "      <th>164028</th>\n",
       "      <td>2017-M-DC-2017-WG-M-SUI-USA-01</td>\n",
       "      <td>Davis Cup WG R1: SUI vs USA</td>\n",
       "      <td>Hard</td>\n",
       "      <td>4</td>\n",
       "      <td>D</td>\n",
       "      <td>20170203</td>\n",
       "      <td>5</td>\n",
       "      <td>105449</td>\n",
       "      <td>NaN</td>\n",
       "      <td>NaN</td>\n",
       "      <td>...</td>\n",
       "      <td>1</td>\n",
       "      <td>2</td>\n",
       "      <td>54</td>\n",
       "      <td>27</td>\n",
       "      <td>15</td>\n",
       "      <td>15</td>\n",
       "      <td>9</td>\n",
       "      <td>2</td>\n",
       "      <td>6</td>\n",
       "      <td>2017</td>\n",
       "    </tr>\n",
       "  </tbody>\n",
       "</table>\n",
       "<p>1 rows × 50 columns</p>\n",
       "</div>"
      ],
      "text/plain": [
       "                            tourney_id                 tourney_name surface  \\\n",
       "164028  2017-M-DC-2017-WG-M-SUI-USA-01  Davis Cup WG R1: SUI vs USA    Hard   \n",
       "\n",
       "       draw_size tourney_level tourney_date match_num winner_id winner_seed  \\\n",
       "164028         4             D     20170203         5    105449         NaN   \n",
       "\n",
       "       winner_entry    ...     l_ace l_df l_svpt l_1stIn l_1stWon l_2ndWon  \\\n",
       "164028          NaN    ...         1    2     54      27       15       15   \n",
       "\n",
       "       l_SvGms l_bpSaved l_bpFaced match_year  \n",
       "164028       9         2         6       2017  \n",
       "\n",
       "[1 rows x 50 columns]"
      ]
     },
     "execution_count": 6,
     "metadata": {},
     "output_type": "execute_result"
    }
   ],
   "source": [
    "# Consistency across the columns\n",
    "atp_main = atp_main.rename(columns={'year': 'match_year'})\n",
    "atp_main.tail(1)"
   ]
  },
  {
   "cell_type": "code",
   "execution_count": 7,
   "metadata": {
    "collapsed": true
   },
   "outputs": [],
   "source": [
    "# Converting match year column to float\n",
    "atp_main['match_year'] = pd.to_numeric(atp_main['match_year'], errors='coerce')"
   ]
  },
  {
   "cell_type": "markdown",
   "metadata": {},
   "source": [
    "### Age columns corrected"
   ]
  },
  {
   "cell_type": "code",
   "execution_count": 8,
   "metadata": {},
   "outputs": [
    {
     "data": {
      "text/plain": [
       "tourney_id             object\n",
       "tourney_name           object\n",
       "surface                object\n",
       "draw_size              object\n",
       "tourney_level          object\n",
       "tourney_date           object\n",
       "match_num              object\n",
       "winner_id              object\n",
       "winner_seed            object\n",
       "winner_entry           object\n",
       "winner_name            object\n",
       "winner_hand            object\n",
       "winner_ht              object\n",
       "winner_ioc             object\n",
       "winner_age             object\n",
       "winner_rank            object\n",
       "winner_rank_points     object\n",
       "loser_id               object\n",
       "loser_seed             object\n",
       "loser_entry            object\n",
       "loser_name             object\n",
       "loser_hand             object\n",
       "loser_ht               object\n",
       "loser_ioc              object\n",
       "loser_age              object\n",
       "loser_rank             object\n",
       "loser_rank_points      object\n",
       "score                  object\n",
       "best_of                object\n",
       "round                  object\n",
       "minutes                object\n",
       "w_ace                  object\n",
       "w_df                   object\n",
       "w_svpt                 object\n",
       "w_1stIn                object\n",
       "w_1stWon               object\n",
       "w_2ndWon               object\n",
       "w_SvGms                object\n",
       "w_bpSaved              object\n",
       "w_bpFaced              object\n",
       "l_ace                  object\n",
       "l_df                   object\n",
       "l_svpt                 object\n",
       "l_1stIn                object\n",
       "l_1stWon               object\n",
       "l_2ndWon               object\n",
       "l_SvGms                object\n",
       "l_bpSaved              object\n",
       "l_bpFaced              object\n",
       "match_year            float64\n",
       "dtype: object"
      ]
     },
     "execution_count": 8,
     "metadata": {},
     "output_type": "execute_result"
    }
   ],
   "source": [
    "# The data types of all these columns can be seen below\n",
    "atp_main.dtypes"
   ]
  },
  {
   "cell_type": "markdown",
   "metadata": {},
   "source": [
    "* After exploring these columns it became clear that we should alter some of these data types.\n",
    "* This is necessary because we need to perform calculations on certain columns and it is easier when the data types are of type float or int."
   ]
  },
  {
   "cell_type": "code",
   "execution_count": 9,
   "metadata": {},
   "outputs": [
    {
     "data": {
      "text/plain": [
       "dtype('float64')"
      ]
     },
     "execution_count": 9,
     "metadata": {},
     "output_type": "execute_result"
    }
   ],
   "source": [
    "atp_main['winner_age'] = pd.to_numeric(atp_main['winner_age'], errors='coerce')\n",
    "atp_main.winner_age.dtypes"
   ]
  },
  {
   "cell_type": "code",
   "execution_count": 10,
   "metadata": {},
   "outputs": [
    {
     "data": {
      "text/plain": [
       "dtype('float64')"
      ]
     },
     "execution_count": 10,
     "metadata": {},
     "output_type": "execute_result"
    }
   ],
   "source": [
    "# Same action with 'loser_age' column\n",
    "atp_main['loser_age'] = pd.to_numeric(atp_main['loser_age'], errors='coerce')\n",
    "atp_main.winner_age.dtypes"
   ]
  },
  {
   "cell_type": "markdown",
   "metadata": {},
   "source": [
    "* The age columns have been successfully converted to the corect data types but they are not displaying in the correct fashion. It makes much more sense for an age column to be a single integer i.e. 23, 24, 31, etc rather than 23.735473648, 24.745231224, 31.12908787 etc as they currently are.\n",
    "* We first looked at flooring these long decimals but the best solution was to adjust the formatting."
   ]
  },
  {
   "cell_type": "code",
   "execution_count": 11,
   "metadata": {},
   "outputs": [
    {
     "data": {
      "text/plain": [
       "0   nan\n",
       "1    28\n",
       "2    16\n",
       "3    22\n",
       "4    30\n",
       "5   nan\n",
       "6    23\n",
       "7    31\n",
       "8   nan\n",
       "9    34\n",
       "Name: winner_age, dtype: float64"
      ]
     },
     "execution_count": 11,
     "metadata": {},
     "output_type": "execute_result"
    }
   ],
   "source": [
    "pd.options.display.float_format = '{:,.0f}'.format\n",
    "atp_main['winner_age'].head(10)"
   ]
  },
  {
   "cell_type": "code",
   "execution_count": 12,
   "metadata": {},
   "outputs": [
    {
     "data": {
      "text/plain": [
       "164024   41\n",
       "164025   35\n",
       "164026   25\n",
       "164027   30\n",
       "164028   20\n",
       "Name: loser_age, dtype: float64"
      ]
     },
     "execution_count": 12,
     "metadata": {},
     "output_type": "execute_result"
    }
   ],
   "source": [
    "# Same method applied to 'loser_age'\n",
    "pd.options.display.float_format = '{:,.0f}'.format\n",
    "atp_main['loser_age'].tail()"
   ]
  },
  {
   "cell_type": "markdown",
   "metadata": {},
   "source": [
    "### Adjusting other dtype from object to float"
   ]
  },
  {
   "cell_type": "markdown",
   "metadata": {},
   "source": [
    "It became aparrent while carrying out analysis that we would have to change other columns from object to a float"
   ]
  },
  {
   "cell_type": "code",
   "execution_count": 13,
   "metadata": {
    "collapsed": true
   },
   "outputs": [],
   "source": [
    "# Convert column minutes to float\n",
    "atp_main['minutes'] = pd.to_numeric(atp_main['minutes'], errors='coerce')"
   ]
  },
  {
   "cell_type": "code",
   "execution_count": 14,
   "metadata": {
    "collapsed": true
   },
   "outputs": [],
   "source": [
    "# Converting column w_ace to float\n",
    "atp_main['w_ace'] = pd.to_numeric(atp_main['w_ace'], errors='coerce')"
   ]
  },
  {
   "cell_type": "code",
   "execution_count": 15,
   "metadata": {
    "collapsed": true
   },
   "outputs": [],
   "source": [
    "# Converting column winner_ht to float\n",
    "atp_main['winner_ht'] = pd.to_numeric(atp_main['winner_ht'], errors='coerce')"
   ]
  },
  {
   "cell_type": "markdown",
   "metadata": {},
   "source": [
    "### Saving this dataframe"
   ]
  },
  {
   "cell_type": "code",
   "execution_count": 16,
   "metadata": {
    "collapsed": true
   },
   "outputs": [],
   "source": [
    "# From this point, the 1968-2017 dataframe will be called atp_main\n",
    "atp_main.to_csv('../data/atp_main', index=False, float_format='%.f', encoding='utf-8')"
   ]
  },
  {
   "cell_type": "code",
   "execution_count": null,
   "metadata": {
    "collapsed": true
   },
   "outputs": [],
   "source": []
  }
 ],
 "metadata": {
  "kernelspec": {
   "display_name": "Python 3",
   "language": "python",
   "name": "python3"
  },
  "language_info": {
   "codemirror_mode": {
    "name": "ipython",
    "version": 3
   },
   "file_extension": ".py",
   "mimetype": "text/x-python",
   "name": "python",
   "nbconvert_exporter": "python",
   "pygments_lexer": "ipython3",
   "version": "3.6.3"
  }
 },
 "nbformat": 4,
 "nbformat_minor": 2
}
