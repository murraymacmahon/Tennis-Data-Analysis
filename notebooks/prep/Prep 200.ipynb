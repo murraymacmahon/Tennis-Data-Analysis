{
 "cells": [
  {
   "cell_type": "markdown",
   "metadata": {},
   "source": [
    "# Prep 200"
   ]
  },
  {
   "cell_type": "markdown",
   "metadata": {},
   "source": [
    "## Purpose\n",
    "* In this notebook we will;\n",
    "    * create our final dataframes to be used in our analysis\n",
    "    * save all dataframes in an appropriate folder"
   ]
  },
  {
   "cell_type": "markdown",
   "metadata": {},
   "source": [
    "## Datasets\n",
    "* Women's Singles matches from 2000 to 2016. This dataset was downloaded from Kaggle.com. Title of the dataset is \"Women's Tennis Association Matches\".\n",
    "* Men's Singles Matches from 1968 to 2017. This data has been cleaned in Prep 100 and has been saved as a dataframe and is ready to use.\n",
    "    * In this notebook we use this dataframe to create an even smaller dataframe of Men's Singles Matches from 2003 to 2014.\n",
    "* We also created a joint men and women dataframe. This is a merge of the 2 dataframes we created in this notebook."
   ]
  },
  {
   "cell_type": "code",
   "execution_count": 1,
   "metadata": {
    "collapsed": true
   },
   "outputs": [],
   "source": [
    "# Importing relevant libraries\n",
    "import os\n",
    "import sys\n",
    "import hashlib\n",
    "import numpy as np\n",
    "import pandas as pd"
   ]
  },
  {
   "cell_type": "code",
   "execution_count": 2,
   "metadata": {},
   "outputs": [
    {
     "data": {
      "text/html": [
       "<div>\n",
       "<style>\n",
       "    .dataframe thead tr:only-child th {\n",
       "        text-align: right;\n",
       "    }\n",
       "\n",
       "    .dataframe thead th {\n",
       "        text-align: left;\n",
       "    }\n",
       "\n",
       "    .dataframe tbody tr th {\n",
       "        vertical-align: top;\n",
       "    }\n",
       "</style>\n",
       "<table border=\"1\" class=\"dataframe\">\n",
       "  <thead>\n",
       "    <tr style=\"text-align: right;\">\n",
       "      <th></th>\n",
       "      <th>tourney_id</th>\n",
       "      <th>tourney_name</th>\n",
       "      <th>surface</th>\n",
       "      <th>draw_size</th>\n",
       "      <th>tourney_level</th>\n",
       "      <th>tourney_date</th>\n",
       "      <th>match_num</th>\n",
       "      <th>winner_id</th>\n",
       "      <th>winner_seed</th>\n",
       "      <th>winner_entry</th>\n",
       "      <th>...</th>\n",
       "      <th>l_ace</th>\n",
       "      <th>l_df</th>\n",
       "      <th>l_svpt</th>\n",
       "      <th>l_1stIn</th>\n",
       "      <th>l_1stWon</th>\n",
       "      <th>l_2ndWon</th>\n",
       "      <th>l_SvGms</th>\n",
       "      <th>l_bpSaved</th>\n",
       "      <th>l_bpFaced</th>\n",
       "      <th>match_year</th>\n",
       "    </tr>\n",
       "  </thead>\n",
       "  <tbody>\n",
       "    <tr>\n",
       "      <th>0</th>\n",
       "      <td>1968-580</td>\n",
       "      <td>Australian Chps.</td>\n",
       "      <td>Grass</td>\n",
       "      <td>64</td>\n",
       "      <td>G</td>\n",
       "      <td>19680119</td>\n",
       "      <td>1</td>\n",
       "      <td>110023</td>\n",
       "      <td>NaN</td>\n",
       "      <td>NaN</td>\n",
       "      <td>...</td>\n",
       "      <td>NaN</td>\n",
       "      <td>NaN</td>\n",
       "      <td>NaN</td>\n",
       "      <td>NaN</td>\n",
       "      <td>NaN</td>\n",
       "      <td>NaN</td>\n",
       "      <td>NaN</td>\n",
       "      <td>NaN</td>\n",
       "      <td>NaN</td>\n",
       "      <td>1968.0</td>\n",
       "    </tr>\n",
       "    <tr>\n",
       "      <th>1</th>\n",
       "      <td>1968-580</td>\n",
       "      <td>Australian Chps.</td>\n",
       "      <td>Grass</td>\n",
       "      <td>64</td>\n",
       "      <td>G</td>\n",
       "      <td>19680119</td>\n",
       "      <td>2</td>\n",
       "      <td>109803</td>\n",
       "      <td>NaN</td>\n",
       "      <td>NaN</td>\n",
       "      <td>...</td>\n",
       "      <td>NaN</td>\n",
       "      <td>NaN</td>\n",
       "      <td>NaN</td>\n",
       "      <td>NaN</td>\n",
       "      <td>NaN</td>\n",
       "      <td>NaN</td>\n",
       "      <td>NaN</td>\n",
       "      <td>NaN</td>\n",
       "      <td>NaN</td>\n",
       "      <td>1968.0</td>\n",
       "    </tr>\n",
       "    <tr>\n",
       "      <th>2</th>\n",
       "      <td>1968-580</td>\n",
       "      <td>Australian Chps.</td>\n",
       "      <td>Grass</td>\n",
       "      <td>64</td>\n",
       "      <td>G</td>\n",
       "      <td>19680119</td>\n",
       "      <td>3</td>\n",
       "      <td>100257</td>\n",
       "      <td>NaN</td>\n",
       "      <td>NaN</td>\n",
       "      <td>...</td>\n",
       "      <td>NaN</td>\n",
       "      <td>NaN</td>\n",
       "      <td>NaN</td>\n",
       "      <td>NaN</td>\n",
       "      <td>NaN</td>\n",
       "      <td>NaN</td>\n",
       "      <td>NaN</td>\n",
       "      <td>NaN</td>\n",
       "      <td>NaN</td>\n",
       "      <td>1968.0</td>\n",
       "    </tr>\n",
       "    <tr>\n",
       "      <th>3</th>\n",
       "      <td>1968-580</td>\n",
       "      <td>Australian Chps.</td>\n",
       "      <td>Grass</td>\n",
       "      <td>64</td>\n",
       "      <td>G</td>\n",
       "      <td>19680119</td>\n",
       "      <td>4</td>\n",
       "      <td>100105</td>\n",
       "      <td>5</td>\n",
       "      <td>NaN</td>\n",
       "      <td>...</td>\n",
       "      <td>NaN</td>\n",
       "      <td>NaN</td>\n",
       "      <td>NaN</td>\n",
       "      <td>NaN</td>\n",
       "      <td>NaN</td>\n",
       "      <td>NaN</td>\n",
       "      <td>NaN</td>\n",
       "      <td>NaN</td>\n",
       "      <td>NaN</td>\n",
       "      <td>1968.0</td>\n",
       "    </tr>\n",
       "    <tr>\n",
       "      <th>4</th>\n",
       "      <td>1968-580</td>\n",
       "      <td>Australian Chps.</td>\n",
       "      <td>Grass</td>\n",
       "      <td>64</td>\n",
       "      <td>G</td>\n",
       "      <td>19680119</td>\n",
       "      <td>5</td>\n",
       "      <td>109966</td>\n",
       "      <td>NaN</td>\n",
       "      <td>NaN</td>\n",
       "      <td>...</td>\n",
       "      <td>NaN</td>\n",
       "      <td>NaN</td>\n",
       "      <td>NaN</td>\n",
       "      <td>NaN</td>\n",
       "      <td>NaN</td>\n",
       "      <td>NaN</td>\n",
       "      <td>NaN</td>\n",
       "      <td>NaN</td>\n",
       "      <td>NaN</td>\n",
       "      <td>1968.0</td>\n",
       "    </tr>\n",
       "  </tbody>\n",
       "</table>\n",
       "<p>5 rows × 50 columns</p>\n",
       "</div>"
      ],
      "text/plain": [
       "  tourney_id      tourney_name surface draw_size tourney_level tourney_date  \\\n",
       "0   1968-580  Australian Chps.   Grass        64             G     19680119   \n",
       "1   1968-580  Australian Chps.   Grass        64             G     19680119   \n",
       "2   1968-580  Australian Chps.   Grass        64             G     19680119   \n",
       "3   1968-580  Australian Chps.   Grass        64             G     19680119   \n",
       "4   1968-580  Australian Chps.   Grass        64             G     19680119   \n",
       "\n",
       "  match_num winner_id winner_seed winner_entry    ...     l_ace l_df  l_svpt  \\\n",
       "0         1    110023         NaN          NaN    ...       NaN  NaN     NaN   \n",
       "1         2    109803         NaN          NaN    ...       NaN  NaN     NaN   \n",
       "2         3    100257         NaN          NaN    ...       NaN  NaN     NaN   \n",
       "3         4    100105           5          NaN    ...       NaN  NaN     NaN   \n",
       "4         5    109966         NaN          NaN    ...       NaN  NaN     NaN   \n",
       "\n",
       "  l_1stIn  l_1stWon l_2ndWon l_SvGms l_bpSaved l_bpFaced match_year  \n",
       "0     NaN       NaN      NaN     NaN       NaN       NaN     1968.0  \n",
       "1     NaN       NaN      NaN     NaN       NaN       NaN     1968.0  \n",
       "2     NaN       NaN      NaN     NaN       NaN       NaN     1968.0  \n",
       "3     NaN       NaN      NaN     NaN       NaN       NaN     1968.0  \n",
       "4     NaN       NaN      NaN     NaN       NaN       NaN     1968.0  \n",
       "\n",
       "[5 rows x 50 columns]"
      ]
     },
     "execution_count": 2,
     "metadata": {},
     "output_type": "execute_result"
    }
   ],
   "source": [
    "# We start with the dataframe that was created and saved in Prep 100 notebook\n",
    "atp_main = pd.read_csv(\"../data/atp_main\", low_memory = False)\n",
    "atp_main.head()"
   ]
  },
  {
   "cell_type": "markdown",
   "metadata": {},
   "source": [
    "## Women's Tennis Association Matches"
   ]
  },
  {
   "cell_type": "markdown",
   "metadata": {},
   "source": [
    "### Difference\n",
    "* The Women's Tennis Association Matches data is only from 2003-2014 inclusive. Besides that, it contains the same columns and information as the ATP data.\n",
    "* It is presented on Kaggle.com as yearly CSV files rather than one, single dataset."
   ]
  },
  {
   "cell_type": "code",
   "execution_count": 3,
   "metadata": {},
   "outputs": [
    {
     "data": {
      "text/plain": [
       "(2933, 49)"
      ]
     },
     "execution_count": 3,
     "metadata": {},
     "output_type": "execute_result"
    }
   ],
   "source": [
    "# Concatenation commences\n",
    "w_2003 = pd.read_csv('../data/wta_matches_2003.csv')\n",
    "w_2003.shape"
   ]
  },
  {
   "cell_type": "code",
   "execution_count": 4,
   "metadata": {},
   "outputs": [
    {
     "data": {
      "text/plain": [
       "(2805, 49)"
      ]
     },
     "execution_count": 4,
     "metadata": {},
     "output_type": "execute_result"
    }
   ],
   "source": [
    "w_2004 = pd.read_csv('../data/wta_matches_2004.csv')\n",
    "w_2004.shape"
   ]
  },
  {
   "cell_type": "code",
   "execution_count": 5,
   "metadata": {},
   "outputs": [
    {
     "data": {
      "text/plain": [
       "(2843, 49)"
      ]
     },
     "execution_count": 5,
     "metadata": {},
     "output_type": "execute_result"
    }
   ],
   "source": [
    "w_2005 = pd.read_csv('../data/wta_matches_2005.csv')\n",
    "w_2005.shape"
   ]
  },
  {
   "cell_type": "code",
   "execution_count": 6,
   "metadata": {},
   "outputs": [
    {
     "data": {
      "text/plain": [
       "(2787, 49)"
      ]
     },
     "execution_count": 6,
     "metadata": {},
     "output_type": "execute_result"
    }
   ],
   "source": [
    "w_2006 = pd.read_csv('../data/wta_matches_2006.csv')\n",
    "w_2006.shape"
   ]
  },
  {
   "cell_type": "code",
   "execution_count": 7,
   "metadata": {},
   "outputs": [
    {
     "data": {
      "text/plain": [
       "(2778, 49)"
      ]
     },
     "execution_count": 7,
     "metadata": {},
     "output_type": "execute_result"
    }
   ],
   "source": [
    "w_2007 = pd.read_csv('../data/wta_matches_2007.csv')\n",
    "w_2007.shape"
   ]
  },
  {
   "cell_type": "code",
   "execution_count": 8,
   "metadata": {},
   "outputs": [
    {
     "data": {
      "text/plain": [
       "(2790, 49)"
      ]
     },
     "execution_count": 8,
     "metadata": {},
     "output_type": "execute_result"
    }
   ],
   "source": [
    "w_2008 = pd.read_csv('../data/wta_matches_2008.csv')\n",
    "w_2008.shape"
   ]
  },
  {
   "cell_type": "code",
   "execution_count": 9,
   "metadata": {},
   "outputs": [
    {
     "data": {
      "text/plain": [
       "(2722, 49)"
      ]
     },
     "execution_count": 9,
     "metadata": {},
     "output_type": "execute_result"
    }
   ],
   "source": [
    "w_2009 = pd.read_csv('../data/wta_matches_2009.csv')\n",
    "w_2009.shape"
   ]
  },
  {
   "cell_type": "code",
   "execution_count": 10,
   "metadata": {},
   "outputs": [
    {
     "data": {
      "text/plain": [
       "(2781, 49)"
      ]
     },
     "execution_count": 10,
     "metadata": {},
     "output_type": "execute_result"
    }
   ],
   "source": [
    "w_2010 = pd.read_csv('../data/wta_matches_2010.csv')\n",
    "w_2010.shape"
   ]
  },
  {
   "cell_type": "code",
   "execution_count": 11,
   "metadata": {},
   "outputs": [
    {
     "data": {
      "text/plain": [
       "(2804, 49)"
      ]
     },
     "execution_count": 11,
     "metadata": {},
     "output_type": "execute_result"
    }
   ],
   "source": [
    "w_2011 = pd.read_csv('../data/wta_matches_2011.csv')\n",
    "w_2011.shape"
   ]
  },
  {
   "cell_type": "code",
   "execution_count": 12,
   "metadata": {},
   "outputs": [
    {
     "data": {
      "text/plain": [
       "(2910, 49)"
      ]
     },
     "execution_count": 12,
     "metadata": {},
     "output_type": "execute_result"
    }
   ],
   "source": [
    "# This encoding option was necessary in this file as it would not read correctly without it\n",
    "w_2012 = pd.read_csv('../data/wta_matches_2012.csv', encoding='latin=1')\n",
    "w_2012.shape"
   ]
  },
  {
   "cell_type": "code",
   "execution_count": 13,
   "metadata": {},
   "outputs": [
    {
     "data": {
      "text/plain": [
       "(2776, 49)"
      ]
     },
     "execution_count": 13,
     "metadata": {},
     "output_type": "execute_result"
    }
   ],
   "source": [
    "w_2013 = pd.read_csv('../data/wta_matches_2013.csv')\n",
    "w_2013.shape"
   ]
  },
  {
   "cell_type": "code",
   "execution_count": 14,
   "metadata": {},
   "outputs": [
    {
     "data": {
      "text/plain": [
       "(2785, 49)"
      ]
     },
     "execution_count": 14,
     "metadata": {},
     "output_type": "execute_result"
    }
   ],
   "source": [
    "w_2014 = pd.read_csv('../data/wta_matches_2014.csv')\n",
    "w_2014.shape"
   ]
  },
  {
   "cell_type": "code",
   "execution_count": 15,
   "metadata": {
    "collapsed": true
   },
   "outputs": [],
   "source": [
    "# Joining all these dataframes together to form one, large WTA dataframe\n",
    "frames = [w_2003, w_2004, w_2005, w_2006, w_2007, \n",
    "          w_2008, w_2009, w_2010, w_2011, w_2012, w_2013, w_2014]"
   ]
  },
  {
   "cell_type": "code",
   "execution_count": 16,
   "metadata": {},
   "outputs": [
    {
     "data": {
      "text/html": [
       "<div>\n",
       "<style>\n",
       "    .dataframe thead tr:only-child th {\n",
       "        text-align: right;\n",
       "    }\n",
       "\n",
       "    .dataframe thead th {\n",
       "        text-align: left;\n",
       "    }\n",
       "\n",
       "    .dataframe tbody tr th {\n",
       "        vertical-align: top;\n",
       "    }\n",
       "</style>\n",
       "<table border=\"1\" class=\"dataframe\">\n",
       "  <thead>\n",
       "    <tr style=\"text-align: right;\">\n",
       "      <th></th>\n",
       "      <th>tourney_id</th>\n",
       "      <th>tourney_name</th>\n",
       "      <th>surface</th>\n",
       "      <th>draw_size</th>\n",
       "      <th>tourney_level</th>\n",
       "      <th>tourney_date</th>\n",
       "      <th>match_num</th>\n",
       "      <th>winner_id</th>\n",
       "      <th>winner_seed</th>\n",
       "      <th>winner_entry</th>\n",
       "      <th>...</th>\n",
       "      <th>w_bpFaced</th>\n",
       "      <th>l_ace</th>\n",
       "      <th>l_df</th>\n",
       "      <th>l_svpt</th>\n",
       "      <th>l_1stIn</th>\n",
       "      <th>l_1stWon</th>\n",
       "      <th>l_2ndWon</th>\n",
       "      <th>l_SvGms</th>\n",
       "      <th>l_bpSaved</th>\n",
       "      <th>l_bpFaced</th>\n",
       "    </tr>\n",
       "  </thead>\n",
       "  <tbody>\n",
       "    <tr>\n",
       "      <th>0</th>\n",
       "      <td>2003-W-SL-FRA-01A-2003</td>\n",
       "      <td>French Open</td>\n",
       "      <td>Clay</td>\n",
       "      <td>128</td>\n",
       "      <td>G</td>\n",
       "      <td>20030526</td>\n",
       "      <td>1</td>\n",
       "      <td>200033</td>\n",
       "      <td>1.0</td>\n",
       "      <td>NaN</td>\n",
       "      <td>...</td>\n",
       "      <td>4.0</td>\n",
       "      <td>0.0</td>\n",
       "      <td>3.0</td>\n",
       "      <td>50.0</td>\n",
       "      <td>35.0</td>\n",
       "      <td>14.0</td>\n",
       "      <td>4.0</td>\n",
       "      <td>NaN</td>\n",
       "      <td>5.0</td>\n",
       "      <td>11.0</td>\n",
       "    </tr>\n",
       "    <tr>\n",
       "      <th>1</th>\n",
       "      <td>2003-W-SL-FRA-01A-2003</td>\n",
       "      <td>French Open</td>\n",
       "      <td>Clay</td>\n",
       "      <td>128</td>\n",
       "      <td>G</td>\n",
       "      <td>20030526</td>\n",
       "      <td>2</td>\n",
       "      <td>201306</td>\n",
       "      <td>NaN</td>\n",
       "      <td>NaN</td>\n",
       "      <td>...</td>\n",
       "      <td>12.0</td>\n",
       "      <td>3.0</td>\n",
       "      <td>6.0</td>\n",
       "      <td>129.0</td>\n",
       "      <td>88.0</td>\n",
       "      <td>50.0</td>\n",
       "      <td>11.0</td>\n",
       "      <td>NaN</td>\n",
       "      <td>11.0</td>\n",
       "      <td>21.0</td>\n",
       "    </tr>\n",
       "    <tr>\n",
       "      <th>2</th>\n",
       "      <td>2003-W-SL-FRA-01A-2003</td>\n",
       "      <td>French Open</td>\n",
       "      <td>Clay</td>\n",
       "      <td>128</td>\n",
       "      <td>G</td>\n",
       "      <td>20030526</td>\n",
       "      <td>3</td>\n",
       "      <td>200032</td>\n",
       "      <td>NaN</td>\n",
       "      <td>NaN</td>\n",
       "      <td>...</td>\n",
       "      <td>10.0</td>\n",
       "      <td>2.0</td>\n",
       "      <td>5.0</td>\n",
       "      <td>96.0</td>\n",
       "      <td>59.0</td>\n",
       "      <td>33.0</td>\n",
       "      <td>14.0</td>\n",
       "      <td>NaN</td>\n",
       "      <td>12.0</td>\n",
       "      <td>18.0</td>\n",
       "    </tr>\n",
       "    <tr>\n",
       "      <th>3</th>\n",
       "      <td>2003-W-SL-FRA-01A-2003</td>\n",
       "      <td>French Open</td>\n",
       "      <td>Clay</td>\n",
       "      <td>128</td>\n",
       "      <td>G</td>\n",
       "      <td>20030526</td>\n",
       "      <td>4</td>\n",
       "      <td>201302</td>\n",
       "      <td>28.0</td>\n",
       "      <td>NaN</td>\n",
       "      <td>...</td>\n",
       "      <td>2.0</td>\n",
       "      <td>0.0</td>\n",
       "      <td>2.0</td>\n",
       "      <td>54.0</td>\n",
       "      <td>33.0</td>\n",
       "      <td>17.0</td>\n",
       "      <td>10.0</td>\n",
       "      <td>NaN</td>\n",
       "      <td>4.0</td>\n",
       "      <td>8.0</td>\n",
       "    </tr>\n",
       "    <tr>\n",
       "      <th>4</th>\n",
       "      <td>2003-W-SL-FRA-01A-2003</td>\n",
       "      <td>French Open</td>\n",
       "      <td>Clay</td>\n",
       "      <td>128</td>\n",
       "      <td>G</td>\n",
       "      <td>20030526</td>\n",
       "      <td>5</td>\n",
       "      <td>200046</td>\n",
       "      <td>18.0</td>\n",
       "      <td>NaN</td>\n",
       "      <td>...</td>\n",
       "      <td>13.0</td>\n",
       "      <td>4.0</td>\n",
       "      <td>9.0</td>\n",
       "      <td>124.0</td>\n",
       "      <td>69.0</td>\n",
       "      <td>47.0</td>\n",
       "      <td>26.0</td>\n",
       "      <td>NaN</td>\n",
       "      <td>2.0</td>\n",
       "      <td>8.0</td>\n",
       "    </tr>\n",
       "  </tbody>\n",
       "</table>\n",
       "<p>5 rows × 49 columns</p>\n",
       "</div>"
      ],
      "text/plain": [
       "               tourney_id tourney_name surface  draw_size tourney_level  \\\n",
       "0  2003-W-SL-FRA-01A-2003  French Open    Clay        128             G   \n",
       "1  2003-W-SL-FRA-01A-2003  French Open    Clay        128             G   \n",
       "2  2003-W-SL-FRA-01A-2003  French Open    Clay        128             G   \n",
       "3  2003-W-SL-FRA-01A-2003  French Open    Clay        128             G   \n",
       "4  2003-W-SL-FRA-01A-2003  French Open    Clay        128             G   \n",
       "\n",
       "   tourney_date  match_num  winner_id  winner_seed winner_entry    ...     \\\n",
       "0      20030526          1     200033          1.0          NaN    ...      \n",
       "1      20030526          2     201306          NaN          NaN    ...      \n",
       "2      20030526          3     200032          NaN          NaN    ...      \n",
       "3      20030526          4     201302         28.0          NaN    ...      \n",
       "4      20030526          5     200046         18.0          NaN    ...      \n",
       "\n",
       "  w_bpFaced l_ace  l_df l_svpt  l_1stIn  l_1stWon  l_2ndWon  l_SvGms  \\\n",
       "0       4.0   0.0   3.0   50.0     35.0      14.0       4.0      NaN   \n",
       "1      12.0   3.0   6.0  129.0     88.0      50.0      11.0      NaN   \n",
       "2      10.0   2.0   5.0   96.0     59.0      33.0      14.0      NaN   \n",
       "3       2.0   0.0   2.0   54.0     33.0      17.0      10.0      NaN   \n",
       "4      13.0   4.0   9.0  124.0     69.0      47.0      26.0      NaN   \n",
       "\n",
       "   l_bpSaved l_bpFaced  \n",
       "0        5.0      11.0  \n",
       "1       11.0      21.0  \n",
       "2       12.0      18.0  \n",
       "3        4.0       8.0  \n",
       "4        2.0       8.0  \n",
       "\n",
       "[5 rows x 49 columns]"
      ]
     },
     "execution_count": 16,
     "metadata": {},
     "output_type": "execute_result"
    }
   ],
   "source": [
    "wta_dataset = pd.concat(frames)\n",
    "wta_dataset.head()"
   ]
  },
  {
   "cell_type": "markdown",
   "metadata": {},
   "source": [
    "### Adding 'match_year' column"
   ]
  },
  {
   "cell_type": "code",
   "execution_count": 17,
   "metadata": {},
   "outputs": [
    {
     "data": {
      "text/html": [
       "<div>\n",
       "<style>\n",
       "    .dataframe thead tr:only-child th {\n",
       "        text-align: right;\n",
       "    }\n",
       "\n",
       "    .dataframe thead th {\n",
       "        text-align: left;\n",
       "    }\n",
       "\n",
       "    .dataframe tbody tr th {\n",
       "        vertical-align: top;\n",
       "    }\n",
       "</style>\n",
       "<table border=\"1\" class=\"dataframe\">\n",
       "  <thead>\n",
       "    <tr style=\"text-align: right;\">\n",
       "      <th></th>\n",
       "      <th>tourney_id</th>\n",
       "      <th>tourney_name</th>\n",
       "      <th>surface</th>\n",
       "      <th>draw_size</th>\n",
       "      <th>tourney_level</th>\n",
       "      <th>tourney_date</th>\n",
       "      <th>match_num</th>\n",
       "      <th>winner_id</th>\n",
       "      <th>winner_seed</th>\n",
       "      <th>winner_entry</th>\n",
       "      <th>...</th>\n",
       "      <th>l_ace</th>\n",
       "      <th>l_df</th>\n",
       "      <th>l_svpt</th>\n",
       "      <th>l_1stIn</th>\n",
       "      <th>l_1stWon</th>\n",
       "      <th>l_2ndWon</th>\n",
       "      <th>l_SvGms</th>\n",
       "      <th>l_bpSaved</th>\n",
       "      <th>l_bpFaced</th>\n",
       "      <th>match_year</th>\n",
       "    </tr>\n",
       "  </thead>\n",
       "  <tbody>\n",
       "    <tr>\n",
       "      <th>0</th>\n",
       "      <td>2003-W-SL-FRA-01A-2003</td>\n",
       "      <td>French Open</td>\n",
       "      <td>Clay</td>\n",
       "      <td>128</td>\n",
       "      <td>G</td>\n",
       "      <td>20030526</td>\n",
       "      <td>1</td>\n",
       "      <td>200033</td>\n",
       "      <td>1.0</td>\n",
       "      <td>NaN</td>\n",
       "      <td>...</td>\n",
       "      <td>0.0</td>\n",
       "      <td>3.0</td>\n",
       "      <td>50.0</td>\n",
       "      <td>35.0</td>\n",
       "      <td>14.0</td>\n",
       "      <td>4.0</td>\n",
       "      <td>NaN</td>\n",
       "      <td>5.0</td>\n",
       "      <td>11.0</td>\n",
       "      <td>2003</td>\n",
       "    </tr>\n",
       "    <tr>\n",
       "      <th>1</th>\n",
       "      <td>2003-W-SL-FRA-01A-2003</td>\n",
       "      <td>French Open</td>\n",
       "      <td>Clay</td>\n",
       "      <td>128</td>\n",
       "      <td>G</td>\n",
       "      <td>20030526</td>\n",
       "      <td>2</td>\n",
       "      <td>201306</td>\n",
       "      <td>NaN</td>\n",
       "      <td>NaN</td>\n",
       "      <td>...</td>\n",
       "      <td>3.0</td>\n",
       "      <td>6.0</td>\n",
       "      <td>129.0</td>\n",
       "      <td>88.0</td>\n",
       "      <td>50.0</td>\n",
       "      <td>11.0</td>\n",
       "      <td>NaN</td>\n",
       "      <td>11.0</td>\n",
       "      <td>21.0</td>\n",
       "      <td>2003</td>\n",
       "    </tr>\n",
       "    <tr>\n",
       "      <th>2</th>\n",
       "      <td>2003-W-SL-FRA-01A-2003</td>\n",
       "      <td>French Open</td>\n",
       "      <td>Clay</td>\n",
       "      <td>128</td>\n",
       "      <td>G</td>\n",
       "      <td>20030526</td>\n",
       "      <td>3</td>\n",
       "      <td>200032</td>\n",
       "      <td>NaN</td>\n",
       "      <td>NaN</td>\n",
       "      <td>...</td>\n",
       "      <td>2.0</td>\n",
       "      <td>5.0</td>\n",
       "      <td>96.0</td>\n",
       "      <td>59.0</td>\n",
       "      <td>33.0</td>\n",
       "      <td>14.0</td>\n",
       "      <td>NaN</td>\n",
       "      <td>12.0</td>\n",
       "      <td>18.0</td>\n",
       "      <td>2003</td>\n",
       "    </tr>\n",
       "    <tr>\n",
       "      <th>3</th>\n",
       "      <td>2003-W-SL-FRA-01A-2003</td>\n",
       "      <td>French Open</td>\n",
       "      <td>Clay</td>\n",
       "      <td>128</td>\n",
       "      <td>G</td>\n",
       "      <td>20030526</td>\n",
       "      <td>4</td>\n",
       "      <td>201302</td>\n",
       "      <td>28.0</td>\n",
       "      <td>NaN</td>\n",
       "      <td>...</td>\n",
       "      <td>0.0</td>\n",
       "      <td>2.0</td>\n",
       "      <td>54.0</td>\n",
       "      <td>33.0</td>\n",
       "      <td>17.0</td>\n",
       "      <td>10.0</td>\n",
       "      <td>NaN</td>\n",
       "      <td>4.0</td>\n",
       "      <td>8.0</td>\n",
       "      <td>2003</td>\n",
       "    </tr>\n",
       "    <tr>\n",
       "      <th>4</th>\n",
       "      <td>2003-W-SL-FRA-01A-2003</td>\n",
       "      <td>French Open</td>\n",
       "      <td>Clay</td>\n",
       "      <td>128</td>\n",
       "      <td>G</td>\n",
       "      <td>20030526</td>\n",
       "      <td>5</td>\n",
       "      <td>200046</td>\n",
       "      <td>18.0</td>\n",
       "      <td>NaN</td>\n",
       "      <td>...</td>\n",
       "      <td>4.0</td>\n",
       "      <td>9.0</td>\n",
       "      <td>124.0</td>\n",
       "      <td>69.0</td>\n",
       "      <td>47.0</td>\n",
       "      <td>26.0</td>\n",
       "      <td>NaN</td>\n",
       "      <td>2.0</td>\n",
       "      <td>8.0</td>\n",
       "      <td>2003</td>\n",
       "    </tr>\n",
       "  </tbody>\n",
       "</table>\n",
       "<p>5 rows × 50 columns</p>\n",
       "</div>"
      ],
      "text/plain": [
       "               tourney_id tourney_name surface  draw_size tourney_level  \\\n",
       "0  2003-W-SL-FRA-01A-2003  French Open    Clay        128             G   \n",
       "1  2003-W-SL-FRA-01A-2003  French Open    Clay        128             G   \n",
       "2  2003-W-SL-FRA-01A-2003  French Open    Clay        128             G   \n",
       "3  2003-W-SL-FRA-01A-2003  French Open    Clay        128             G   \n",
       "4  2003-W-SL-FRA-01A-2003  French Open    Clay        128             G   \n",
       "\n",
       "   tourney_date  match_num  winner_id  winner_seed winner_entry    ...      \\\n",
       "0      20030526          1     200033          1.0          NaN    ...       \n",
       "1      20030526          2     201306          NaN          NaN    ...       \n",
       "2      20030526          3     200032          NaN          NaN    ...       \n",
       "3      20030526          4     201302         28.0          NaN    ...       \n",
       "4      20030526          5     200046         18.0          NaN    ...       \n",
       "\n",
       "  l_ace l_df  l_svpt l_1stIn  l_1stWon  l_2ndWon  l_SvGms  l_bpSaved  \\\n",
       "0   0.0  3.0    50.0    35.0      14.0       4.0      NaN        5.0   \n",
       "1   3.0  6.0   129.0    88.0      50.0      11.0      NaN       11.0   \n",
       "2   2.0  5.0    96.0    59.0      33.0      14.0      NaN       12.0   \n",
       "3   0.0  2.0    54.0    33.0      17.0      10.0      NaN        4.0   \n",
       "4   4.0  9.0   124.0    69.0      47.0      26.0      NaN        2.0   \n",
       "\n",
       "   l_bpFaced match_year  \n",
       "0       11.0       2003  \n",
       "1       21.0       2003  \n",
       "2       18.0       2003  \n",
       "3        8.0       2003  \n",
       "4        8.0       2003  \n",
       "\n",
       "[5 rows x 50 columns]"
      ]
     },
     "execution_count": 17,
     "metadata": {},
     "output_type": "execute_result"
    }
   ],
   "source": [
    "wta_dataset['match_year'] = wta_dataset['tourney_id'].str.split('-').str[0]\n",
    "wta_dataset.head()"
   ]
  },
  {
   "cell_type": "code",
   "execution_count": 18,
   "metadata": {},
   "outputs": [
    {
     "data": {
      "text/plain": [
       "(33714, 50)"
      ]
     },
     "execution_count": 18,
     "metadata": {},
     "output_type": "execute_result"
    }
   ],
   "source": [
    "# This WTA (Women's Tour) dataframe has the same number of columns as the ATP (Men's Tour) \n",
    "wta_dataset.shape"
   ]
  },
  {
   "cell_type": "code",
   "execution_count": 19,
   "metadata": {},
   "outputs": [
    {
     "data": {
      "text/plain": [
       "dtype('float64')"
      ]
     },
     "execution_count": 19,
     "metadata": {},
     "output_type": "execute_result"
    }
   ],
   "source": [
    "wta_dataset.loser_age.dtypes"
   ]
  },
  {
   "cell_type": "code",
   "execution_count": 20,
   "metadata": {},
   "outputs": [
    {
     "data": {
      "text/plain": [
       "dtype('float64')"
      ]
     },
     "execution_count": 20,
     "metadata": {},
     "output_type": "execute_result"
    }
   ],
   "source": [
    "wta_dataset.winner_age.dtypes"
   ]
  },
  {
   "cell_type": "markdown",
   "metadata": {},
   "source": [
    "* The necessary columns are appropriate for work and analysis."
   ]
  },
  {
   "cell_type": "markdown",
   "metadata": {},
   "source": [
    "### Creating a Men's Singles 2003-2014 dataframe -> atp_small"
   ]
  },
  {
   "cell_type": "markdown",
   "metadata": {},
   "source": [
    "* At this moment we have 2 dataframes; a Men's Singles from 1968-2017 and a Women's Singles from 2003-2014. We need a corresponding Men's Singles dataframe from 2003-2014 to match with the Women's Singles. \n",
    "* This is required because we do not have data for women from 1968-2002 and thus we cannot compare the two dataframes completely."
   ]
  },
  {
   "cell_type": "code",
   "execution_count": 21,
   "metadata": {},
   "outputs": [
    {
     "data": {
      "text/html": [
       "<div>\n",
       "<style>\n",
       "    .dataframe thead tr:only-child th {\n",
       "        text-align: right;\n",
       "    }\n",
       "\n",
       "    .dataframe thead th {\n",
       "        text-align: left;\n",
       "    }\n",
       "\n",
       "    .dataframe tbody tr th {\n",
       "        vertical-align: top;\n",
       "    }\n",
       "</style>\n",
       "<table border=\"1\" class=\"dataframe\">\n",
       "  <thead>\n",
       "    <tr style=\"text-align: right;\">\n",
       "      <th></th>\n",
       "      <th>tourney_id</th>\n",
       "      <th>tourney_name</th>\n",
       "      <th>surface</th>\n",
       "      <th>draw_size</th>\n",
       "      <th>tourney_level</th>\n",
       "      <th>tourney_date</th>\n",
       "      <th>match_num</th>\n",
       "      <th>winner_id</th>\n",
       "      <th>winner_seed</th>\n",
       "      <th>winner_entry</th>\n",
       "      <th>...</th>\n",
       "      <th>l_ace</th>\n",
       "      <th>l_df</th>\n",
       "      <th>l_svpt</th>\n",
       "      <th>l_1stIn</th>\n",
       "      <th>l_1stWon</th>\n",
       "      <th>l_2ndWon</th>\n",
       "      <th>l_SvGms</th>\n",
       "      <th>l_bpSaved</th>\n",
       "      <th>l_bpFaced</th>\n",
       "      <th>match_year</th>\n",
       "    </tr>\n",
       "  </thead>\n",
       "  <tbody>\n",
       "    <tr>\n",
       "      <th>164024</th>\n",
       "      <td>2017-M-DC-2017-WG-M-RUS-SRB-01</td>\n",
       "      <td>Davis Cup WG R1: RUS vs SRB</td>\n",
       "      <td>Hard</td>\n",
       "      <td>4</td>\n",
       "      <td>D</td>\n",
       "      <td>20170203</td>\n",
       "      <td>5</td>\n",
       "      <td>106421</td>\n",
       "      <td>NaN</td>\n",
       "      <td>NaN</td>\n",
       "      <td>...</td>\n",
       "      <td>NaN</td>\n",
       "      <td>NaN</td>\n",
       "      <td>NaN</td>\n",
       "      <td>NaN</td>\n",
       "      <td>NaN</td>\n",
       "      <td>NaN</td>\n",
       "      <td>NaN</td>\n",
       "      <td>NaN</td>\n",
       "      <td>NaN</td>\n",
       "      <td>2017.0</td>\n",
       "    </tr>\n",
       "    <tr>\n",
       "      <th>164025</th>\n",
       "      <td>2017-M-DC-2017-WG-M-SUI-USA-01</td>\n",
       "      <td>Davis Cup WG R1: SUI vs USA</td>\n",
       "      <td>Hard</td>\n",
       "      <td>4</td>\n",
       "      <td>D</td>\n",
       "      <td>20170203</td>\n",
       "      <td>1</td>\n",
       "      <td>106058</td>\n",
       "      <td>NaN</td>\n",
       "      <td>NaN</td>\n",
       "      <td>...</td>\n",
       "      <td>4</td>\n",
       "      <td>5</td>\n",
       "      <td>82</td>\n",
       "      <td>52</td>\n",
       "      <td>38</td>\n",
       "      <td>9</td>\n",
       "      <td>13</td>\n",
       "      <td>7</td>\n",
       "      <td>12</td>\n",
       "      <td>2017.0</td>\n",
       "    </tr>\n",
       "    <tr>\n",
       "      <th>164026</th>\n",
       "      <td>2017-M-DC-2017-WG-M-SUI-USA-01</td>\n",
       "      <td>Davis Cup WG R1: SUI vs USA</td>\n",
       "      <td>Hard</td>\n",
       "      <td>4</td>\n",
       "      <td>D</td>\n",
       "      <td>20170203</td>\n",
       "      <td>2</td>\n",
       "      <td>104545</td>\n",
       "      <td>NaN</td>\n",
       "      <td>NaN</td>\n",
       "      <td>...</td>\n",
       "      <td>7</td>\n",
       "      <td>9</td>\n",
       "      <td>113</td>\n",
       "      <td>76</td>\n",
       "      <td>53</td>\n",
       "      <td>17</td>\n",
       "      <td>19</td>\n",
       "      <td>7</td>\n",
       "      <td>11</td>\n",
       "      <td>2017.0</td>\n",
       "    </tr>\n",
       "    <tr>\n",
       "      <th>164027</th>\n",
       "      <td>2017-M-DC-2017-WG-M-SUI-USA-01</td>\n",
       "      <td>Davis Cup WG R1: SUI vs USA</td>\n",
       "      <td>Hard</td>\n",
       "      <td>4</td>\n",
       "      <td>D</td>\n",
       "      <td>20170203</td>\n",
       "      <td>4</td>\n",
       "      <td>105023</td>\n",
       "      <td>NaN</td>\n",
       "      <td>NaN</td>\n",
       "      <td>...</td>\n",
       "      <td>3</td>\n",
       "      <td>2</td>\n",
       "      <td>76</td>\n",
       "      <td>42</td>\n",
       "      <td>30</td>\n",
       "      <td>14</td>\n",
       "      <td>10</td>\n",
       "      <td>8</td>\n",
       "      <td>10</td>\n",
       "      <td>2017.0</td>\n",
       "    </tr>\n",
       "    <tr>\n",
       "      <th>164028</th>\n",
       "      <td>2017-M-DC-2017-WG-M-SUI-USA-01</td>\n",
       "      <td>Davis Cup WG R1: SUI vs USA</td>\n",
       "      <td>Hard</td>\n",
       "      <td>4</td>\n",
       "      <td>D</td>\n",
       "      <td>20170203</td>\n",
       "      <td>5</td>\n",
       "      <td>105449</td>\n",
       "      <td>NaN</td>\n",
       "      <td>NaN</td>\n",
       "      <td>...</td>\n",
       "      <td>1</td>\n",
       "      <td>2</td>\n",
       "      <td>54</td>\n",
       "      <td>27</td>\n",
       "      <td>15</td>\n",
       "      <td>15</td>\n",
       "      <td>9</td>\n",
       "      <td>2</td>\n",
       "      <td>6</td>\n",
       "      <td>2017.0</td>\n",
       "    </tr>\n",
       "  </tbody>\n",
       "</table>\n",
       "<p>5 rows × 50 columns</p>\n",
       "</div>"
      ],
      "text/plain": [
       "                            tourney_id                 tourney_name surface  \\\n",
       "164024  2017-M-DC-2017-WG-M-RUS-SRB-01  Davis Cup WG R1: RUS vs SRB    Hard   \n",
       "164025  2017-M-DC-2017-WG-M-SUI-USA-01  Davis Cup WG R1: SUI vs USA    Hard   \n",
       "164026  2017-M-DC-2017-WG-M-SUI-USA-01  Davis Cup WG R1: SUI vs USA    Hard   \n",
       "164027  2017-M-DC-2017-WG-M-SUI-USA-01  Davis Cup WG R1: SUI vs USA    Hard   \n",
       "164028  2017-M-DC-2017-WG-M-SUI-USA-01  Davis Cup WG R1: SUI vs USA    Hard   \n",
       "\n",
       "       draw_size tourney_level tourney_date match_num winner_id winner_seed  \\\n",
       "164024         4             D     20170203         5    106421         NaN   \n",
       "164025         4             D     20170203         1    106058         NaN   \n",
       "164026         4             D     20170203         2    104545         NaN   \n",
       "164027         4             D     20170203         4    105023         NaN   \n",
       "164028         4             D     20170203         5    105449         NaN   \n",
       "\n",
       "       winner_entry    ...     l_ace l_df  l_svpt l_1stIn  l_1stWon l_2ndWon  \\\n",
       "164024          NaN    ...       NaN  NaN     NaN     NaN       NaN      NaN   \n",
       "164025          NaN    ...         4    5      82      52        38        9   \n",
       "164026          NaN    ...         7    9     113      76        53       17   \n",
       "164027          NaN    ...         3    2      76      42        30       14   \n",
       "164028          NaN    ...         1    2      54      27        15       15   \n",
       "\n",
       "       l_SvGms l_bpSaved l_bpFaced match_year  \n",
       "164024     NaN       NaN       NaN     2017.0  \n",
       "164025      13         7        12     2017.0  \n",
       "164026      19         7        11     2017.0  \n",
       "164027      10         8        10     2017.0  \n",
       "164028       9         2         6     2017.0  \n",
       "\n",
       "[5 rows x 50 columns]"
      ]
     },
     "execution_count": 21,
     "metadata": {},
     "output_type": "execute_result"
    }
   ],
   "source": [
    "# First locate every match above 2002\n",
    "atp_test = atp_main.loc[atp_main['match_year'] > 2002]\n",
    "atp_test.tail()"
   ]
  },
  {
   "cell_type": "code",
   "execution_count": 22,
   "metadata": {},
   "outputs": [
    {
     "data": {
      "text/html": [
       "<div>\n",
       "<style>\n",
       "    .dataframe thead tr:only-child th {\n",
       "        text-align: right;\n",
       "    }\n",
       "\n",
       "    .dataframe thead th {\n",
       "        text-align: left;\n",
       "    }\n",
       "\n",
       "    .dataframe tbody tr th {\n",
       "        vertical-align: top;\n",
       "    }\n",
       "</style>\n",
       "<table border=\"1\" class=\"dataframe\">\n",
       "  <thead>\n",
       "    <tr style=\"text-align: right;\">\n",
       "      <th></th>\n",
       "      <th>tourney_id</th>\n",
       "      <th>tourney_name</th>\n",
       "      <th>surface</th>\n",
       "      <th>draw_size</th>\n",
       "      <th>tourney_level</th>\n",
       "      <th>tourney_date</th>\n",
       "      <th>match_num</th>\n",
       "      <th>winner_id</th>\n",
       "      <th>winner_seed</th>\n",
       "      <th>winner_entry</th>\n",
       "      <th>...</th>\n",
       "      <th>l_ace</th>\n",
       "      <th>l_df</th>\n",
       "      <th>l_svpt</th>\n",
       "      <th>l_1stIn</th>\n",
       "      <th>l_1stWon</th>\n",
       "      <th>l_2ndWon</th>\n",
       "      <th>l_SvGms</th>\n",
       "      <th>l_bpSaved</th>\n",
       "      <th>l_bpFaced</th>\n",
       "      <th>match_year</th>\n",
       "    </tr>\n",
       "  </thead>\n",
       "  <tbody>\n",
       "    <tr>\n",
       "      <th>157673</th>\n",
       "      <td>2014-D078</td>\n",
       "      <td>Davis Cup G2 PO: IRL vs EGY</td>\n",
       "      <td>Hard</td>\n",
       "      <td>4</td>\n",
       "      <td>D</td>\n",
       "      <td>20140404</td>\n",
       "      <td>4</td>\n",
       "      <td>106387</td>\n",
       "      <td>NaN</td>\n",
       "      <td>NaN</td>\n",
       "      <td>...</td>\n",
       "      <td>NaN</td>\n",
       "      <td>NaN</td>\n",
       "      <td>NaN</td>\n",
       "      <td>NaN</td>\n",
       "      <td>NaN</td>\n",
       "      <td>NaN</td>\n",
       "      <td>NaN</td>\n",
       "      <td>NaN</td>\n",
       "      <td>NaN</td>\n",
       "      <td>2014.0</td>\n",
       "    </tr>\n",
       "    <tr>\n",
       "      <th>157674</th>\n",
       "      <td>2014-D079</td>\n",
       "      <td>Davis Cup G2 PO: MAR vs CYP</td>\n",
       "      <td>Clay</td>\n",
       "      <td>4</td>\n",
       "      <td>D</td>\n",
       "      <td>20140404</td>\n",
       "      <td>1</td>\n",
       "      <td>108749</td>\n",
       "      <td>NaN</td>\n",
       "      <td>NaN</td>\n",
       "      <td>...</td>\n",
       "      <td>NaN</td>\n",
       "      <td>NaN</td>\n",
       "      <td>NaN</td>\n",
       "      <td>NaN</td>\n",
       "      <td>NaN</td>\n",
       "      <td>NaN</td>\n",
       "      <td>NaN</td>\n",
       "      <td>NaN</td>\n",
       "      <td>NaN</td>\n",
       "      <td>2014.0</td>\n",
       "    </tr>\n",
       "    <tr>\n",
       "      <th>157675</th>\n",
       "      <td>2014-D079</td>\n",
       "      <td>Davis Cup G2 PO: MAR vs CYP</td>\n",
       "      <td>Clay</td>\n",
       "      <td>4</td>\n",
       "      <td>D</td>\n",
       "      <td>20140404</td>\n",
       "      <td>2</td>\n",
       "      <td>104467</td>\n",
       "      <td>NaN</td>\n",
       "      <td>NaN</td>\n",
       "      <td>...</td>\n",
       "      <td>NaN</td>\n",
       "      <td>NaN</td>\n",
       "      <td>NaN</td>\n",
       "      <td>NaN</td>\n",
       "      <td>NaN</td>\n",
       "      <td>NaN</td>\n",
       "      <td>NaN</td>\n",
       "      <td>NaN</td>\n",
       "      <td>NaN</td>\n",
       "      <td>2014.0</td>\n",
       "    </tr>\n",
       "    <tr>\n",
       "      <th>157676</th>\n",
       "      <td>2014-D079</td>\n",
       "      <td>Davis Cup G2 PO: MAR vs CYP</td>\n",
       "      <td>Clay</td>\n",
       "      <td>4</td>\n",
       "      <td>D</td>\n",
       "      <td>20140404</td>\n",
       "      <td>3</td>\n",
       "      <td>104467</td>\n",
       "      <td>NaN</td>\n",
       "      <td>NaN</td>\n",
       "      <td>...</td>\n",
       "      <td>NaN</td>\n",
       "      <td>NaN</td>\n",
       "      <td>NaN</td>\n",
       "      <td>NaN</td>\n",
       "      <td>NaN</td>\n",
       "      <td>NaN</td>\n",
       "      <td>NaN</td>\n",
       "      <td>NaN</td>\n",
       "      <td>NaN</td>\n",
       "      <td>2014.0</td>\n",
       "    </tr>\n",
       "    <tr>\n",
       "      <th>157677</th>\n",
       "      <td>2014-D079</td>\n",
       "      <td>Davis Cup G2 PO: MAR vs CYP</td>\n",
       "      <td>Clay</td>\n",
       "      <td>4</td>\n",
       "      <td>D</td>\n",
       "      <td>20140404</td>\n",
       "      <td>4</td>\n",
       "      <td>109336</td>\n",
       "      <td>NaN</td>\n",
       "      <td>NaN</td>\n",
       "      <td>...</td>\n",
       "      <td>NaN</td>\n",
       "      <td>NaN</td>\n",
       "      <td>NaN</td>\n",
       "      <td>NaN</td>\n",
       "      <td>NaN</td>\n",
       "      <td>NaN</td>\n",
       "      <td>NaN</td>\n",
       "      <td>NaN</td>\n",
       "      <td>NaN</td>\n",
       "      <td>2014.0</td>\n",
       "    </tr>\n",
       "  </tbody>\n",
       "</table>\n",
       "<p>5 rows × 50 columns</p>\n",
       "</div>"
      ],
      "text/plain": [
       "       tourney_id                 tourney_name surface draw_size  \\\n",
       "157673  2014-D078  Davis Cup G2 PO: IRL vs EGY    Hard         4   \n",
       "157674  2014-D079  Davis Cup G2 PO: MAR vs CYP    Clay         4   \n",
       "157675  2014-D079  Davis Cup G2 PO: MAR vs CYP    Clay         4   \n",
       "157676  2014-D079  Davis Cup G2 PO: MAR vs CYP    Clay         4   \n",
       "157677  2014-D079  Davis Cup G2 PO: MAR vs CYP    Clay         4   \n",
       "\n",
       "       tourney_level tourney_date match_num winner_id winner_seed  \\\n",
       "157673             D     20140404         4    106387         NaN   \n",
       "157674             D     20140404         1    108749         NaN   \n",
       "157675             D     20140404         2    104467         NaN   \n",
       "157676             D     20140404         3    104467         NaN   \n",
       "157677             D     20140404         4    109336         NaN   \n",
       "\n",
       "       winner_entry    ...     l_ace l_df  l_svpt l_1stIn  l_1stWon l_2ndWon  \\\n",
       "157673          NaN    ...       NaN  NaN     NaN     NaN       NaN      NaN   \n",
       "157674          NaN    ...       NaN  NaN     NaN     NaN       NaN      NaN   \n",
       "157675          NaN    ...       NaN  NaN     NaN     NaN       NaN      NaN   \n",
       "157676          NaN    ...       NaN  NaN     NaN     NaN       NaN      NaN   \n",
       "157677          NaN    ...       NaN  NaN     NaN     NaN       NaN      NaN   \n",
       "\n",
       "       l_SvGms l_bpSaved l_bpFaced match_year  \n",
       "157673     NaN       NaN       NaN     2014.0  \n",
       "157674     NaN       NaN       NaN     2014.0  \n",
       "157675     NaN       NaN       NaN     2014.0  \n",
       "157676     NaN       NaN       NaN     2014.0  \n",
       "157677     NaN       NaN       NaN     2014.0  \n",
       "\n",
       "[5 rows x 50 columns]"
      ]
     },
     "execution_count": 22,
     "metadata": {},
     "output_type": "execute_result"
    }
   ],
   "source": [
    "# And now remove every match after 2014. A new dataframe must be created here\n",
    "atp_small = atp_test.loc[atp_test['match_year'] < 2015]\n",
    "atp_small.tail()"
   ]
  },
  {
   "cell_type": "code",
   "execution_count": 23,
   "metadata": {},
   "outputs": [
    {
     "data": {
      "text/plain": [
       "tourney_id             object\n",
       "tourney_name           object\n",
       "surface                object\n",
       "draw_size              object\n",
       "tourney_level          object\n",
       "tourney_date           object\n",
       "match_num              object\n",
       "winner_id              object\n",
       "winner_seed            object\n",
       "winner_entry           object\n",
       "winner_name            object\n",
       "winner_hand            object\n",
       "winner_ht             float64\n",
       "winner_ioc             object\n",
       "winner_age            float64\n",
       "winner_rank            object\n",
       "winner_rank_points     object\n",
       "loser_id               object\n",
       "loser_seed             object\n",
       "loser_entry            object\n",
       "loser_name             object\n",
       "loser_hand             object\n",
       "loser_ht               object\n",
       "loser_ioc              object\n",
       "loser_age             float64\n",
       "loser_rank             object\n",
       "loser_rank_points      object\n",
       "score                  object\n",
       "best_of                object\n",
       "round                  object\n",
       "minutes               float64\n",
       "w_ace                 float64\n",
       "w_df                   object\n",
       "w_svpt                 object\n",
       "w_1stIn                object\n",
       "w_1stWon               object\n",
       "w_2ndWon               object\n",
       "w_SvGms                object\n",
       "w_bpSaved              object\n",
       "w_bpFaced              object\n",
       "l_ace                  object\n",
       "l_df                   object\n",
       "l_svpt                 object\n",
       "l_1stIn                object\n",
       "l_1stWon               object\n",
       "l_2ndWon               object\n",
       "l_SvGms                object\n",
       "l_bpSaved              object\n",
       "l_bpFaced              object\n",
       "match_year            float64\n",
       "dtype: object"
      ]
     },
     "execution_count": 23,
     "metadata": {},
     "output_type": "execute_result"
    }
   ],
   "source": [
    "# Testing data types\n",
    "atp_small.dtypes"
   ]
  },
  {
   "cell_type": "code",
   "execution_count": 24,
   "metadata": {
    "collapsed": true
   },
   "outputs": [],
   "source": [
    "# Removes the decimal point in the floats that have been created\n",
    "pd.options.display.float_format = '{:.0f}'.format"
   ]
  },
  {
   "cell_type": "markdown",
   "metadata": {},
   "source": [
    "## Joining Men and Women's dataframes"
   ]
  },
  {
   "cell_type": "code",
   "execution_count": 25,
   "metadata": {
    "collapsed": true
   },
   "outputs": [],
   "source": [
    "# Joining the ATP and WTA 2003-2014 dataframes\n",
    "frames_2 = [wta_dataset, atp_small]"
   ]
  },
  {
   "cell_type": "code",
   "execution_count": 26,
   "metadata": {},
   "outputs": [
    {
     "data": {
      "text/plain": [
       "157673        Mazen Osama\n",
       "157674    Sergis Kyratzis\n",
       "157675      Lamine Ouahab\n",
       "157676      Lamine Ouahab\n",
       "157677    Ayoub Chakrouni\n",
       "Name: winner_name, dtype: object"
      ]
     },
     "execution_count": 26,
     "metadata": {},
     "output_type": "execute_result"
    }
   ],
   "source": [
    "men_and_women = pd.concat(frames_2)\n",
    "men_and_women.winner_name.tail()"
   ]
  },
  {
   "cell_type": "code",
   "execution_count": 27,
   "metadata": {},
   "outputs": [
    {
     "data": {
      "text/plain": [
       "(71028, 50)"
      ]
     },
     "execution_count": 27,
     "metadata": {},
     "output_type": "execute_result"
    }
   ],
   "source": [
    "men_and_women.shape"
   ]
  },
  {
   "cell_type": "markdown",
   "metadata": {},
   "source": [
    "### Saving these newly created dataframes\n",
    "* Right now, we have 3 dataframes on which we can perform our analysis; a Men's Singles dataframe from 1968-2017 inclusive, a Men's Singles dataframe from 2003-2014 inclusive and a Women's Singles dataframe from 2003-2014.\n",
    "* These dataframes must be saved in a data folder."
   ]
  },
  {
   "cell_type": "code",
   "execution_count": 28,
   "metadata": {
    "collapsed": true
   },
   "outputs": [],
   "source": [
    "#ATP 2003-2014\n",
    "atp_small.to_csv('../data/atp_small', index=False, encoding = 'utf-8')"
   ]
  },
  {
   "cell_type": "code",
   "execution_count": 29,
   "metadata": {
    "collapsed": true
   },
   "outputs": [],
   "source": [
    "#WTA 2003-2014\n",
    "wta_dataset.to_csv('../data/wta_dataset', index=False, encoding = 'utf-8')"
   ]
  },
  {
   "cell_type": "code",
   "execution_count": 30,
   "metadata": {
    "collapsed": true
   },
   "outputs": [],
   "source": [
    "#Combined ATP and WTA from 2003-2014\n",
    "men_and_women.to_csv('../data/men_and_women', index=False, encoding = 'utf-8')"
   ]
  }
 ],
 "metadata": {
  "kernelspec": {
   "display_name": "Python 3",
   "language": "python",
   "name": "python3"
  },
  "language_info": {
   "codemirror_mode": {
    "name": "ipython",
    "version": 3
   },
   "file_extension": ".py",
   "mimetype": "text/x-python",
   "name": "python",
   "nbconvert_exporter": "python",
   "pygments_lexer": "ipython3",
   "version": "3.6.3"
  }
 },
 "nbformat": 4,
 "nbformat_minor": 2
}
