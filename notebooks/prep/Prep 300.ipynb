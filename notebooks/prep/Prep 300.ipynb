{
 "cells": [
  {
   "cell_type": "markdown",
   "metadata": {},
   "source": [
    "# Prep 300"
   ]
  },
  {
   "cell_type": "markdown",
   "metadata": {},
   "source": [
    "## Purpose\n",
    "In this notebook we will begin our prep for research question 2 - 'What factors impact the success of a top player?'. Primarily, we will focus on creating 2 master dataframes containing the top winners and their average match statistics and the same with the top losers. This notebook will prep the winners dataframe. \n",
    "\n",
    "## Datasets\n",
    "* The data in this notebook;\n",
    "    * Men's Singles Matches from 1968 to 2017.\n",
    "    * Women's Singles matches from 2000 to 2016.\n",
    "    * Men's Singles Matches from 2003 to 2014.\n",
    "* These datasets have been cleaned and are now in appropriate dataframes. They are used in this notebook to create the question-specific dataframes for Research Question 2; \"What factors impact the success of a top player?\"."
   ]
  },
  {
   "cell_type": "code",
   "execution_count": 1,
   "metadata": {
    "collapsed": true
   },
   "outputs": [],
   "source": [
    "#Importing relevant librarys\n",
    "import os\n",
    "import sys\n",
    "import hashlib\n",
    "import numpy as np\n",
    "import pandas as pd\n",
    "from datetime import datetime\n",
    "    \n",
    "%matplotlib inline"
   ]
  },
  {
   "cell_type": "code",
   "execution_count": 2,
   "metadata": {
    "collapsed": true
   },
   "outputs": [],
   "source": [
    "atp_main = pd.read_csv(\"../data/atp_main\", low_memory = False, index_col = 'tourney_date')"
   ]
  },
  {
   "cell_type": "code",
   "execution_count": 3,
   "metadata": {
    "collapsed": true
   },
   "outputs": [],
   "source": [
    "#converting atp_main to time series\n",
    "atp_main.index = pd.to_datetime(atp_main.index, format=\"%Y-%m-%d\", errors='coerce')"
   ]
  },
  {
   "cell_type": "code",
   "execution_count": 4,
   "metadata": {
    "collapsed": true
   },
   "outputs": [],
   "source": [
    "atp_small = pd.read_csv(\"../data/atp_small\", low_memory = False)"
   ]
  },
  {
   "cell_type": "code",
   "execution_count": 5,
   "metadata": {
    "collapsed": true
   },
   "outputs": [],
   "source": [
    "wta_dataset = pd.read_csv(\"../data/wta_dataset\", low_memory = False)"
   ]
  },
  {
   "cell_type": "code",
   "execution_count": 6,
   "metadata": {
    "collapsed": true
   },
   "outputs": [],
   "source": [
    "men_women = pd.read_csv(\"../data/men_women\", low_memory = False)"
   ]
  },
  {
   "cell_type": "markdown",
   "metadata": {},
   "source": [
    "## Creating the master winners table"
   ]
  },
  {
   "cell_type": "markdown",
   "metadata": {},
   "source": [
    "Counting the players who have won the most matches in the respective men and womens dataframe.\n",
    "Used atp_small and wta_dataset as both dataframes are from 2003-2016 allowing for fair and comparable results."
   ]
  },
  {
   "cell_type": "code",
   "execution_count": 7,
   "metadata": {
    "collapsed": true
   },
   "outputs": [],
   "source": [
    "mens10 = atp_small['winner_name'].value_counts().head(10)\n",
    "womens10 = wta_dataset['winner_name'].value_counts().head(10)"
   ]
  },
  {
   "cell_type": "code",
   "execution_count": 8,
   "metadata": {
    "collapsed": true
   },
   "outputs": [],
   "source": [
    "#Joining the 2 lists\n",
    "both = [mens10, womens10]\n",
    "rq2 = pd.concat(both)"
   ]
  },
  {
   "cell_type": "code",
   "execution_count": 9,
   "metadata": {},
   "outputs": [
    {
     "data": {
      "text/html": [
       "<div>\n",
       "<style>\n",
       "    .dataframe thead tr:only-child th {\n",
       "        text-align: right;\n",
       "    }\n",
       "\n",
       "    .dataframe thead th {\n",
       "        text-align: left;\n",
       "    }\n",
       "\n",
       "    .dataframe tbody tr th {\n",
       "        vertical-align: top;\n",
       "    }\n",
       "</style>\n",
       "<table border=\"1\" class=\"dataframe\">\n",
       "  <thead>\n",
       "    <tr style=\"text-align: right;\">\n",
       "      <th></th>\n",
       "      <th>index</th>\n",
       "      <th>col</th>\n",
       "    </tr>\n",
       "  </thead>\n",
       "  <tbody>\n",
       "    <tr>\n",
       "      <th>0</th>\n",
       "      <td>Roger Federer</td>\n",
       "      <td>847</td>\n",
       "    </tr>\n",
       "    <tr>\n",
       "      <th>1</th>\n",
       "      <td>Rafael Nadal</td>\n",
       "      <td>712</td>\n",
       "    </tr>\n",
       "    <tr>\n",
       "      <th>2</th>\n",
       "      <td>Novak Djokovic</td>\n",
       "      <td>612</td>\n",
       "    </tr>\n",
       "    <tr>\n",
       "      <th>3</th>\n",
       "      <td>David Ferrer</td>\n",
       "      <td>597</td>\n",
       "    </tr>\n",
       "    <tr>\n",
       "      <th>4</th>\n",
       "      <td>Andy Roddick</td>\n",
       "      <td>512</td>\n",
       "    </tr>\n",
       "    <tr>\n",
       "      <th>5</th>\n",
       "      <td>Andy Murray</td>\n",
       "      <td>487</td>\n",
       "    </tr>\n",
       "    <tr>\n",
       "      <th>6</th>\n",
       "      <td>Tomas Berdych</td>\n",
       "      <td>485</td>\n",
       "    </tr>\n",
       "    <tr>\n",
       "      <th>7</th>\n",
       "      <td>Nikolay Davydenko</td>\n",
       "      <td>463</td>\n",
       "    </tr>\n",
       "    <tr>\n",
       "      <th>8</th>\n",
       "      <td>Tommy Robredo</td>\n",
       "      <td>429</td>\n",
       "    </tr>\n",
       "    <tr>\n",
       "      <th>9</th>\n",
       "      <td>Fernando Verdasco</td>\n",
       "      <td>404</td>\n",
       "    </tr>\n",
       "    <tr>\n",
       "      <th>10</th>\n",
       "      <td>Maria Sharapova</td>\n",
       "      <td>519</td>\n",
       "    </tr>\n",
       "    <tr>\n",
       "      <th>11</th>\n",
       "      <td>Jelena Jankovic</td>\n",
       "      <td>506</td>\n",
       "    </tr>\n",
       "    <tr>\n",
       "      <th>12</th>\n",
       "      <td>Serena Williams</td>\n",
       "      <td>475</td>\n",
       "    </tr>\n",
       "    <tr>\n",
       "      <th>13</th>\n",
       "      <td>Svetlana Kuznetsova</td>\n",
       "      <td>447</td>\n",
       "    </tr>\n",
       "    <tr>\n",
       "      <th>14</th>\n",
       "      <td>Caroline Wozniacki</td>\n",
       "      <td>415</td>\n",
       "    </tr>\n",
       "    <tr>\n",
       "      <th>15</th>\n",
       "      <td>Flavia Pennetta</td>\n",
       "      <td>412</td>\n",
       "    </tr>\n",
       "    <tr>\n",
       "      <th>16</th>\n",
       "      <td>Vera Zvonareva</td>\n",
       "      <td>407</td>\n",
       "    </tr>\n",
       "    <tr>\n",
       "      <th>17</th>\n",
       "      <td>Marion Bartoli</td>\n",
       "      <td>402</td>\n",
       "    </tr>\n",
       "    <tr>\n",
       "      <th>18</th>\n",
       "      <td>Nadia Petrova</td>\n",
       "      <td>402</td>\n",
       "    </tr>\n",
       "    <tr>\n",
       "      <th>19</th>\n",
       "      <td>Agnieszka Radwanska</td>\n",
       "      <td>401</td>\n",
       "    </tr>\n",
       "  </tbody>\n",
       "</table>\n",
       "</div>"
      ],
      "text/plain": [
       "                  index  col\n",
       "0         Roger Federer  847\n",
       "1          Rafael Nadal  712\n",
       "2        Novak Djokovic  612\n",
       "3          David Ferrer  597\n",
       "4          Andy Roddick  512\n",
       "5           Andy Murray  487\n",
       "6         Tomas Berdych  485\n",
       "7     Nikolay Davydenko  463\n",
       "8         Tommy Robredo  429\n",
       "9     Fernando Verdasco  404\n",
       "10      Maria Sharapova  519\n",
       "11      Jelena Jankovic  506\n",
       "12      Serena Williams  475\n",
       "13  Svetlana Kuznetsova  447\n",
       "14   Caroline Wozniacki  415\n",
       "15      Flavia Pennetta  412\n",
       "16       Vera Zvonareva  407\n",
       "17       Marion Bartoli  402\n",
       "18        Nadia Petrova  402\n",
       "19  Agnieszka Radwanska  401"
      ]
     },
     "execution_count": 9,
     "metadata": {},
     "output_type": "execute_result"
    }
   ],
   "source": [
    "#converting the list to a dataframe\n",
    "df = pd.DataFrame({'col':rq2}).reset_index()\n",
    "df"
   ]
  },
  {
   "cell_type": "code",
   "execution_count": 10,
   "metadata": {
    "collapsed": true
   },
   "outputs": [],
   "source": [
    "#renaming columns\n",
    "df.columns = ['winner_name', 'matches_won']"
   ]
  },
  {
   "cell_type": "markdown",
   "metadata": {},
   "source": [
    "Used this line of code to count the amount of matches lost by each player in the table"
   ]
  },
  {
   "cell_type": "code",
   "execution_count": 11,
   "metadata": {},
   "outputs": [
    {
     "data": {
      "text/plain": [
       "174"
      ]
     },
     "execution_count": 11,
     "metadata": {},
     "output_type": "execute_result"
    }
   ],
   "source": [
    "men_women[(men_women['loser_name'] == 'Agnieszka Radwanska')]['tourney_id'].count()"
   ]
  },
  {
   "cell_type": "code",
   "execution_count": 12,
   "metadata": {
    "collapsed": true
   },
   "outputs": [],
   "source": [
    "#adding a matches lost column \n",
    "df['matches_lost']=(137, 141, 141, 289, 171, 154, 263, 298, 270, 282, \n",
    "                   135, 278, 88, 221, 167, 255, 200, 263, 233, 174)"
   ]
  },
  {
   "cell_type": "code",
   "execution_count": 13,
   "metadata": {
    "collapsed": true
   },
   "outputs": [],
   "source": [
    "#creating a total matches column for each player by summing their matches won and lost\n",
    "df['total_matches'] = df['matches_lost'] + df['matches_won']"
   ]
  },
  {
   "cell_type": "code",
   "execution_count": 14,
   "metadata": {},
   "outputs": [
    {
     "data": {
      "text/html": [
       "<div>\n",
       "<style>\n",
       "    .dataframe thead tr:only-child th {\n",
       "        text-align: right;\n",
       "    }\n",
       "\n",
       "    .dataframe thead th {\n",
       "        text-align: left;\n",
       "    }\n",
       "\n",
       "    .dataframe tbody tr th {\n",
       "        vertical-align: top;\n",
       "    }\n",
       "</style>\n",
       "<table border=\"1\" class=\"dataframe\">\n",
       "  <thead>\n",
       "    <tr style=\"text-align: right;\">\n",
       "      <th></th>\n",
       "      <th>winner_name</th>\n",
       "      <th>matches_won</th>\n",
       "      <th>matches_lost</th>\n",
       "      <th>total_matches</th>\n",
       "    </tr>\n",
       "  </thead>\n",
       "  <tbody>\n",
       "    <tr>\n",
       "      <th>0</th>\n",
       "      <td>Roger Federer</td>\n",
       "      <td>847</td>\n",
       "      <td>137</td>\n",
       "      <td>984</td>\n",
       "    </tr>\n",
       "    <tr>\n",
       "      <th>1</th>\n",
       "      <td>Rafael Nadal</td>\n",
       "      <td>712</td>\n",
       "      <td>141</td>\n",
       "      <td>853</td>\n",
       "    </tr>\n",
       "    <tr>\n",
       "      <th>2</th>\n",
       "      <td>Novak Djokovic</td>\n",
       "      <td>612</td>\n",
       "      <td>141</td>\n",
       "      <td>753</td>\n",
       "    </tr>\n",
       "    <tr>\n",
       "      <th>3</th>\n",
       "      <td>David Ferrer</td>\n",
       "      <td>597</td>\n",
       "      <td>289</td>\n",
       "      <td>886</td>\n",
       "    </tr>\n",
       "    <tr>\n",
       "      <th>4</th>\n",
       "      <td>Andy Roddick</td>\n",
       "      <td>512</td>\n",
       "      <td>171</td>\n",
       "      <td>683</td>\n",
       "    </tr>\n",
       "  </tbody>\n",
       "</table>\n",
       "</div>"
      ],
      "text/plain": [
       "      winner_name  matches_won  matches_lost  total_matches\n",
       "0   Roger Federer          847           137            984\n",
       "1    Rafael Nadal          712           141            853\n",
       "2  Novak Djokovic          612           141            753\n",
       "3    David Ferrer          597           289            886\n",
       "4    Andy Roddick          512           171            683"
      ]
     },
     "execution_count": 14,
     "metadata": {},
     "output_type": "execute_result"
    }
   ],
   "source": [
    "df.head(5)"
   ]
  },
  {
   "cell_type": "markdown",
   "metadata": {},
   "source": [
    "Calulating a winning percentage for each player to show fairer list of top winners"
   ]
  },
  {
   "cell_type": "code",
   "execution_count": 15,
   "metadata": {
    "collapsed": true
   },
   "outputs": [],
   "source": [
    "df['winning_perc'] = df['matches_won'] / df['total_matches'] "
   ]
  },
  {
   "cell_type": "code",
   "execution_count": 16,
   "metadata": {},
   "outputs": [
    {
     "data": {
      "text/html": [
       "<div>\n",
       "<style>\n",
       "    .dataframe thead tr:only-child th {\n",
       "        text-align: right;\n",
       "    }\n",
       "\n",
       "    .dataframe thead th {\n",
       "        text-align: left;\n",
       "    }\n",
       "\n",
       "    .dataframe tbody tr th {\n",
       "        vertical-align: top;\n",
       "    }\n",
       "</style>\n",
       "<table border=\"1\" class=\"dataframe\">\n",
       "  <thead>\n",
       "    <tr style=\"text-align: right;\">\n",
       "      <th></th>\n",
       "      <th>winner_name</th>\n",
       "      <th>matches_won</th>\n",
       "      <th>matches_lost</th>\n",
       "      <th>total_matches</th>\n",
       "      <th>winning_perc</th>\n",
       "    </tr>\n",
       "  </thead>\n",
       "  <tbody>\n",
       "    <tr>\n",
       "      <th>0</th>\n",
       "      <td>Roger Federer</td>\n",
       "      <td>847</td>\n",
       "      <td>137</td>\n",
       "      <td>984</td>\n",
       "      <td>0.860772</td>\n",
       "    </tr>\n",
       "    <tr>\n",
       "      <th>1</th>\n",
       "      <td>Rafael Nadal</td>\n",
       "      <td>712</td>\n",
       "      <td>141</td>\n",
       "      <td>853</td>\n",
       "      <td>0.834701</td>\n",
       "    </tr>\n",
       "    <tr>\n",
       "      <th>2</th>\n",
       "      <td>Novak Djokovic</td>\n",
       "      <td>612</td>\n",
       "      <td>141</td>\n",
       "      <td>753</td>\n",
       "      <td>0.812749</td>\n",
       "    </tr>\n",
       "    <tr>\n",
       "      <th>3</th>\n",
       "      <td>David Ferrer</td>\n",
       "      <td>597</td>\n",
       "      <td>289</td>\n",
       "      <td>886</td>\n",
       "      <td>0.673815</td>\n",
       "    </tr>\n",
       "    <tr>\n",
       "      <th>4</th>\n",
       "      <td>Andy Roddick</td>\n",
       "      <td>512</td>\n",
       "      <td>171</td>\n",
       "      <td>683</td>\n",
       "      <td>0.749634</td>\n",
       "    </tr>\n",
       "  </tbody>\n",
       "</table>\n",
       "</div>"
      ],
      "text/plain": [
       "      winner_name  matches_won  matches_lost  total_matches  winning_perc\n",
       "0   Roger Federer          847           137            984      0.860772\n",
       "1    Rafael Nadal          712           141            853      0.834701\n",
       "2  Novak Djokovic          612           141            753      0.812749\n",
       "3    David Ferrer          597           289            886      0.673815\n",
       "4    Andy Roddick          512           171            683      0.749634"
      ]
     },
     "execution_count": 16,
     "metadata": {},
     "output_type": "execute_result"
    }
   ],
   "source": [
    "df.head(5)"
   ]
  },
  {
   "cell_type": "markdown",
   "metadata": {},
   "source": [
    "### Calculating the average match statistics for each winning player\n",
    "* In the \"df\" dataframe, we have 5 columns filled with values that we have calculated. \n",
    "* In addition to this we need to include their average statistics per match played."
   ]
  },
  {
   "cell_type": "code",
   "execution_count": 17,
   "metadata": {
    "collapsed": true
   },
   "outputs": [],
   "source": [
    "#getting mean of columns 31-39 (winners match statistics)\n",
    "a = atp_small[(atp_small['winner_name'] == 'Roger Federer')].iloc[:,31:40].mean()\n",
    "#converting to a dataframe, reseting the index and transposing the index column to create columns\n",
    "a = pd.DataFrame(a).reset_index().set_index('index').T"
   ]
  },
  {
   "cell_type": "code",
   "execution_count": 18,
   "metadata": {
    "collapsed": true
   },
   "outputs": [],
   "source": [
    "b = atp_small[(atp_small['winner_name'] == 'Rafael Nadal')].iloc[:,31:40].mean()\n",
    "b = pd.DataFrame(b).reset_index().set_index('index').T"
   ]
  },
  {
   "cell_type": "code",
   "execution_count": 19,
   "metadata": {
    "collapsed": true
   },
   "outputs": [],
   "source": [
    "c = atp_small[(atp_small['winner_name'] == 'Novak Djokovic')].iloc[:,31:40].mean()\n",
    "c = pd.DataFrame(c).reset_index().set_index('index').T"
   ]
  },
  {
   "cell_type": "code",
   "execution_count": 20,
   "metadata": {
    "collapsed": true
   },
   "outputs": [],
   "source": [
    "d = atp_small[(atp_small['winner_name'] == 'David Ferrer')].iloc[:,31:40].mean()\n",
    "d = pd.DataFrame(d).reset_index().set_index('index').T"
   ]
  },
  {
   "cell_type": "code",
   "execution_count": 21,
   "metadata": {
    "collapsed": true
   },
   "outputs": [],
   "source": [
    "e = atp_small[(atp_small['winner_name'] == 'Andy Roddick')].iloc[:,31:40].mean()\n",
    "e = pd.DataFrame(e).reset_index().set_index('index').T"
   ]
  },
  {
   "cell_type": "code",
   "execution_count": 22,
   "metadata": {
    "collapsed": true
   },
   "outputs": [],
   "source": [
    "f = atp_small[(atp_small['winner_name'] == 'Andy Murray')].iloc[:,31:40].mean()\n",
    "f = pd.DataFrame(f).reset_index().set_index('index').T"
   ]
  },
  {
   "cell_type": "code",
   "execution_count": 23,
   "metadata": {
    "collapsed": true
   },
   "outputs": [],
   "source": [
    "g = atp_small[(atp_small['winner_name'] == 'Tomas Berdych')].iloc[:,31:40].mean()\n",
    "g = pd.DataFrame(g).reset_index().set_index('index').T"
   ]
  },
  {
   "cell_type": "code",
   "execution_count": 24,
   "metadata": {
    "collapsed": true
   },
   "outputs": [],
   "source": [
    "h = atp_small[(atp_small['winner_name'] == 'Nikolay Davydenko')].iloc[:,31:40].mean()\n",
    "h = pd.DataFrame(h).reset_index().set_index('index').T"
   ]
  },
  {
   "cell_type": "code",
   "execution_count": 25,
   "metadata": {
    "collapsed": true
   },
   "outputs": [],
   "source": [
    "i = atp_small[(atp_small['winner_name'] == 'Tommy Robredo')].iloc[:,31:40].mean()\n",
    "i = pd.DataFrame(i).reset_index().set_index('index').T"
   ]
  },
  {
   "cell_type": "code",
   "execution_count": 26,
   "metadata": {
    "collapsed": true
   },
   "outputs": [],
   "source": [
    "j = atp_small[(atp_small['winner_name'] == 'Fernando Verdasco')].iloc[:,31:40].mean()\n",
    "j = pd.DataFrame(j).reset_index().set_index('index').T"
   ]
  },
  {
   "cell_type": "code",
   "execution_count": 27,
   "metadata": {
    "collapsed": true
   },
   "outputs": [],
   "source": [
    "k = wta_dataset[(wta_dataset['winner_name'] == 'Maria Sharapova')].iloc[:,31:40].mean()\n",
    "k = pd.DataFrame(k).reset_index().set_index('index').T"
   ]
  },
  {
   "cell_type": "code",
   "execution_count": 28,
   "metadata": {
    "collapsed": true
   },
   "outputs": [],
   "source": [
    "l = wta_dataset[(wta_dataset['winner_name'] == 'Jelena Jankovic')].iloc[:,31:40].mean()\n",
    "l = pd.DataFrame(l).reset_index().set_index('index').T"
   ]
  },
  {
   "cell_type": "code",
   "execution_count": 29,
   "metadata": {
    "collapsed": true
   },
   "outputs": [],
   "source": [
    "m = wta_dataset[(wta_dataset['winner_name'] == 'Serena Williams')].iloc[:,31:40].mean()\n",
    "m = pd.DataFrame(m).reset_index().set_index('index').T"
   ]
  },
  {
   "cell_type": "code",
   "execution_count": 30,
   "metadata": {
    "collapsed": true
   },
   "outputs": [],
   "source": [
    "n = wta_dataset[(wta_dataset['winner_name'] == 'Svetlana Kuznetsova')].iloc[:,31:40].mean()\n",
    "n = pd.DataFrame(n).reset_index().set_index('index').T"
   ]
  },
  {
   "cell_type": "code",
   "execution_count": 31,
   "metadata": {
    "collapsed": true
   },
   "outputs": [],
   "source": [
    "o = wta_dataset[(wta_dataset['winner_name'] == 'Caroline Wozniacki')].iloc[:,31:40].mean()\n",
    "o = pd.DataFrame(o).reset_index().set_index('index').T"
   ]
  },
  {
   "cell_type": "code",
   "execution_count": 32,
   "metadata": {
    "collapsed": true
   },
   "outputs": [],
   "source": [
    "p = wta_dataset[(wta_dataset['winner_name'] == 'Flavia Pennetta')].iloc[:,31:40].mean()\n",
    "p = pd.DataFrame(p).reset_index().set_index('index').T"
   ]
  },
  {
   "cell_type": "code",
   "execution_count": 33,
   "metadata": {
    "collapsed": true
   },
   "outputs": [],
   "source": [
    "q = wta_dataset[(wta_dataset['winner_name'] == 'Vera Zvonareva')].iloc[:,31:40].mean()\n",
    "q = pd.DataFrame(q).reset_index().set_index('index').T"
   ]
  },
  {
   "cell_type": "code",
   "execution_count": 34,
   "metadata": {
    "collapsed": true
   },
   "outputs": [],
   "source": [
    "r = wta_dataset[(wta_dataset['winner_name'] == 'Marion Bartoli')].iloc[:,31:40].mean()\n",
    "r = pd.DataFrame(r).reset_index().set_index('index').T"
   ]
  },
  {
   "cell_type": "code",
   "execution_count": 35,
   "metadata": {
    "collapsed": true
   },
   "outputs": [],
   "source": [
    "s = wta_dataset[(wta_dataset['winner_name'] == 'Nadia Petrova')].iloc[:,31:40].mean()\n",
    "s = pd.DataFrame(s).reset_index().set_index('index').T"
   ]
  },
  {
   "cell_type": "code",
   "execution_count": 36,
   "metadata": {
    "collapsed": true
   },
   "outputs": [],
   "source": [
    "t = wta_dataset[(wta_dataset['winner_name'] == 'Agnieszka Radwanska')].iloc[:,31:40].mean()\n",
    "t = pd.DataFrame(t).reset_index().set_index('index').T"
   ]
  },
  {
   "cell_type": "code",
   "execution_count": 37,
   "metadata": {},
   "outputs": [
    {
     "data": {
      "text/html": [
       "<div>\n",
       "<style>\n",
       "    .dataframe thead tr:only-child th {\n",
       "        text-align: right;\n",
       "    }\n",
       "\n",
       "    .dataframe thead th {\n",
       "        text-align: left;\n",
       "    }\n",
       "\n",
       "    .dataframe tbody tr th {\n",
       "        vertical-align: top;\n",
       "    }\n",
       "</style>\n",
       "<table border=\"1\" class=\"dataframe\">\n",
       "  <thead>\n",
       "    <tr style=\"text-align: right;\">\n",
       "      <th>index</th>\n",
       "      <th>w_ace</th>\n",
       "      <th>w_df</th>\n",
       "      <th>w_svpt</th>\n",
       "      <th>w_1stIn</th>\n",
       "      <th>w_1stWon</th>\n",
       "      <th>w_2ndWon</th>\n",
       "      <th>w_SvGms</th>\n",
       "      <th>w_bpSaved</th>\n",
       "      <th>w_bpFaced</th>\n",
       "    </tr>\n",
       "  </thead>\n",
       "  <tbody>\n",
       "    <tr>\n",
       "      <th>0</th>\n",
       "      <td>7.775434</td>\n",
       "      <td>1.496278</td>\n",
       "      <td>73.713400</td>\n",
       "      <td>46.308933</td>\n",
       "      <td>36.566998</td>\n",
       "      <td>16.404467</td>\n",
       "      <td>12.477667</td>\n",
       "      <td>2.470223</td>\n",
       "      <td>3.429280</td>\n",
       "    </tr>\n",
       "    <tr>\n",
       "      <th>1</th>\n",
       "      <td>3.057018</td>\n",
       "      <td>1.394737</td>\n",
       "      <td>70.706140</td>\n",
       "      <td>48.704678</td>\n",
       "      <td>35.869883</td>\n",
       "      <td>13.017544</td>\n",
       "      <td>11.698830</td>\n",
       "      <td>3.038012</td>\n",
       "      <td>4.308480</td>\n",
       "    </tr>\n",
       "    <tr>\n",
       "      <th>2</th>\n",
       "      <td>5.762565</td>\n",
       "      <td>2.124783</td>\n",
       "      <td>75.376083</td>\n",
       "      <td>48.790295</td>\n",
       "      <td>36.603120</td>\n",
       "      <td>15.126516</td>\n",
       "      <td>12.343154</td>\n",
       "      <td>3.150780</td>\n",
       "      <td>4.592721</td>\n",
       "    </tr>\n",
       "    <tr>\n",
       "      <th>3</th>\n",
       "      <td>3.095238</td>\n",
       "      <td>2.142857</td>\n",
       "      <td>74.359788</td>\n",
       "      <td>47.696649</td>\n",
       "      <td>34.405644</td>\n",
       "      <td>14.977072</td>\n",
       "      <td>11.869489</td>\n",
       "      <td>3.518519</td>\n",
       "      <td>5.250441</td>\n",
       "    </tr>\n",
       "    <tr>\n",
       "      <th>4</th>\n",
       "      <td>12.588358</td>\n",
       "      <td>1.659044</td>\n",
       "      <td>72.862786</td>\n",
       "      <td>48.399168</td>\n",
       "      <td>39.432432</td>\n",
       "      <td>14.563410</td>\n",
       "      <td>12.503119</td>\n",
       "      <td>2.087318</td>\n",
       "      <td>2.794179</td>\n",
       "    </tr>\n",
       "  </tbody>\n",
       "</table>\n",
       "</div>"
      ],
      "text/plain": [
       "index      w_ace      w_df     w_svpt    w_1stIn   w_1stWon   w_2ndWon  \\\n",
       "0       7.775434  1.496278  73.713400  46.308933  36.566998  16.404467   \n",
       "1       3.057018  1.394737  70.706140  48.704678  35.869883  13.017544   \n",
       "2       5.762565  2.124783  75.376083  48.790295  36.603120  15.126516   \n",
       "3       3.095238  2.142857  74.359788  47.696649  34.405644  14.977072   \n",
       "4      12.588358  1.659044  72.862786  48.399168  39.432432  14.563410   \n",
       "\n",
       "index    w_SvGms  w_bpSaved  w_bpFaced  \n",
       "0      12.477667   2.470223   3.429280  \n",
       "1      11.698830   3.038012   4.308480  \n",
       "2      12.343154   3.150780   4.592721  \n",
       "3      11.869489   3.518519   5.250441  \n",
       "4      12.503119   2.087318   2.794179  "
      ]
     },
     "execution_count": 37,
     "metadata": {},
     "output_type": "execute_result"
    }
   ],
   "source": [
    "#joining all the average statistics to create a master dataframe\n",
    "stats = pd.concat([a,b,c,d,e,f,g,h,i,j,k,l,m,n,o,p,q,r,s,t]).reset_index().drop('index', 1)\n",
    "stats.head()"
   ]
  },
  {
   "cell_type": "markdown",
   "metadata": {},
   "source": [
    "## Dataframes\n",
    "We have 2 dataframes which we will now join;\n",
    "<br>df -> top 10 Men and Women players where we added the \"matches_won\", \"matches_lost\", \"total_matches\" and \t\"winning_perc\" columns.\n",
    "<br>stats -> the average statistics for each player in the df dataframe."
   ]
  },
  {
   "cell_type": "code",
   "execution_count": 38,
   "metadata": {},
   "outputs": [
    {
     "data": {
      "text/html": [
       "<div>\n",
       "<style>\n",
       "    .dataframe thead tr:only-child th {\n",
       "        text-align: right;\n",
       "    }\n",
       "\n",
       "    .dataframe thead th {\n",
       "        text-align: left;\n",
       "    }\n",
       "\n",
       "    .dataframe tbody tr th {\n",
       "        vertical-align: top;\n",
       "    }\n",
       "</style>\n",
       "<table border=\"1\" class=\"dataframe\">\n",
       "  <thead>\n",
       "    <tr style=\"text-align: right;\">\n",
       "      <th></th>\n",
       "      <th>winner_name</th>\n",
       "      <th>matches_won</th>\n",
       "      <th>matches_lost</th>\n",
       "      <th>total_matches</th>\n",
       "      <th>winning_perc</th>\n",
       "      <th>w_ace</th>\n",
       "      <th>w_df</th>\n",
       "      <th>w_svpt</th>\n",
       "      <th>w_1stIn</th>\n",
       "      <th>w_1stWon</th>\n",
       "      <th>w_2ndWon</th>\n",
       "      <th>w_SvGms</th>\n",
       "      <th>w_bpSaved</th>\n",
       "      <th>w_bpFaced</th>\n",
       "    </tr>\n",
       "  </thead>\n",
       "  <tbody>\n",
       "    <tr>\n",
       "      <th>0</th>\n",
       "      <td>Roger Federer</td>\n",
       "      <td>847</td>\n",
       "      <td>137</td>\n",
       "      <td>984</td>\n",
       "      <td>0.860772</td>\n",
       "      <td>7.775434</td>\n",
       "      <td>1.496278</td>\n",
       "      <td>73.713400</td>\n",
       "      <td>46.308933</td>\n",
       "      <td>36.566998</td>\n",
       "      <td>16.404467</td>\n",
       "      <td>12.477667</td>\n",
       "      <td>2.470223</td>\n",
       "      <td>3.429280</td>\n",
       "    </tr>\n",
       "    <tr>\n",
       "      <th>1</th>\n",
       "      <td>Rafael Nadal</td>\n",
       "      <td>712</td>\n",
       "      <td>141</td>\n",
       "      <td>853</td>\n",
       "      <td>0.834701</td>\n",
       "      <td>3.057018</td>\n",
       "      <td>1.394737</td>\n",
       "      <td>70.706140</td>\n",
       "      <td>48.704678</td>\n",
       "      <td>35.869883</td>\n",
       "      <td>13.017544</td>\n",
       "      <td>11.698830</td>\n",
       "      <td>3.038012</td>\n",
       "      <td>4.308480</td>\n",
       "    </tr>\n",
       "    <tr>\n",
       "      <th>2</th>\n",
       "      <td>Novak Djokovic</td>\n",
       "      <td>612</td>\n",
       "      <td>141</td>\n",
       "      <td>753</td>\n",
       "      <td>0.812749</td>\n",
       "      <td>5.762565</td>\n",
       "      <td>2.124783</td>\n",
       "      <td>75.376083</td>\n",
       "      <td>48.790295</td>\n",
       "      <td>36.603120</td>\n",
       "      <td>15.126516</td>\n",
       "      <td>12.343154</td>\n",
       "      <td>3.150780</td>\n",
       "      <td>4.592721</td>\n",
       "    </tr>\n",
       "    <tr>\n",
       "      <th>3</th>\n",
       "      <td>David Ferrer</td>\n",
       "      <td>597</td>\n",
       "      <td>289</td>\n",
       "      <td>886</td>\n",
       "      <td>0.673815</td>\n",
       "      <td>3.095238</td>\n",
       "      <td>2.142857</td>\n",
       "      <td>74.359788</td>\n",
       "      <td>47.696649</td>\n",
       "      <td>34.405644</td>\n",
       "      <td>14.977072</td>\n",
       "      <td>11.869489</td>\n",
       "      <td>3.518519</td>\n",
       "      <td>5.250441</td>\n",
       "    </tr>\n",
       "    <tr>\n",
       "      <th>4</th>\n",
       "      <td>Andy Roddick</td>\n",
       "      <td>512</td>\n",
       "      <td>171</td>\n",
       "      <td>683</td>\n",
       "      <td>0.749634</td>\n",
       "      <td>12.588358</td>\n",
       "      <td>1.659044</td>\n",
       "      <td>72.862786</td>\n",
       "      <td>48.399168</td>\n",
       "      <td>39.432432</td>\n",
       "      <td>14.563410</td>\n",
       "      <td>12.503119</td>\n",
       "      <td>2.087318</td>\n",
       "      <td>2.794179</td>\n",
       "    </tr>\n",
       "    <tr>\n",
       "      <th>5</th>\n",
       "      <td>Andy Murray</td>\n",
       "      <td>487</td>\n",
       "      <td>154</td>\n",
       "      <td>641</td>\n",
       "      <td>0.759750</td>\n",
       "      <td>7.134199</td>\n",
       "      <td>2.313853</td>\n",
       "      <td>75.510823</td>\n",
       "      <td>43.852814</td>\n",
       "      <td>33.679654</td>\n",
       "      <td>17.199134</td>\n",
       "      <td>12.287879</td>\n",
       "      <td>3.229437</td>\n",
       "      <td>4.911255</td>\n",
       "    </tr>\n",
       "    <tr>\n",
       "      <th>6</th>\n",
       "      <td>Tomas Berdych</td>\n",
       "      <td>485</td>\n",
       "      <td>263</td>\n",
       "      <td>748</td>\n",
       "      <td>0.648396</td>\n",
       "      <td>8.473451</td>\n",
       "      <td>2.203540</td>\n",
       "      <td>73.090708</td>\n",
       "      <td>42.988938</td>\n",
       "      <td>34.495575</td>\n",
       "      <td>16.893805</td>\n",
       "      <td>12.050885</td>\n",
       "      <td>2.942478</td>\n",
       "      <td>4.017699</td>\n",
       "    </tr>\n",
       "    <tr>\n",
       "      <th>7</th>\n",
       "      <td>Nikolay Davydenko</td>\n",
       "      <td>463</td>\n",
       "      <td>298</td>\n",
       "      <td>761</td>\n",
       "      <td>0.608410</td>\n",
       "      <td>3.550336</td>\n",
       "      <td>2.322148</td>\n",
       "      <td>71.626398</td>\n",
       "      <td>48.445190</td>\n",
       "      <td>34.888143</td>\n",
       "      <td>12.747204</td>\n",
       "      <td>11.458613</td>\n",
       "      <td>3.579418</td>\n",
       "      <td>5.263982</td>\n",
       "    </tr>\n",
       "    <tr>\n",
       "      <th>8</th>\n",
       "      <td>Tommy Robredo</td>\n",
       "      <td>429</td>\n",
       "      <td>270</td>\n",
       "      <td>699</td>\n",
       "      <td>0.613734</td>\n",
       "      <td>4.353081</td>\n",
       "      <td>2.139810</td>\n",
       "      <td>78.277251</td>\n",
       "      <td>51.094787</td>\n",
       "      <td>37.260664</td>\n",
       "      <td>15.116114</td>\n",
       "      <td>12.492891</td>\n",
       "      <td>3.642180</td>\n",
       "      <td>5.414692</td>\n",
       "    </tr>\n",
       "    <tr>\n",
       "      <th>9</th>\n",
       "      <td>Fernando Verdasco</td>\n",
       "      <td>404</td>\n",
       "      <td>282</td>\n",
       "      <td>686</td>\n",
       "      <td>0.588921</td>\n",
       "      <td>5.445570</td>\n",
       "      <td>3.564557</td>\n",
       "      <td>75.903797</td>\n",
       "      <td>52.473418</td>\n",
       "      <td>38.675949</td>\n",
       "      <td>12.929114</td>\n",
       "      <td>12.303797</td>\n",
       "      <td>3.592405</td>\n",
       "      <td>5.174684</td>\n",
       "    </tr>\n",
       "    <tr>\n",
       "      <th>10</th>\n",
       "      <td>Maria Sharapova</td>\n",
       "      <td>519</td>\n",
       "      <td>135</td>\n",
       "      <td>654</td>\n",
       "      <td>0.793578</td>\n",
       "      <td>3.890306</td>\n",
       "      <td>4.933673</td>\n",
       "      <td>65.359694</td>\n",
       "      <td>41.946429</td>\n",
       "      <td>29.522959</td>\n",
       "      <td>11.227041</td>\n",
       "      <td>NaN</td>\n",
       "      <td>3.573980</td>\n",
       "      <td>5.772959</td>\n",
       "    </tr>\n",
       "    <tr>\n",
       "      <th>11</th>\n",
       "      <td>Jelena Jankovic</td>\n",
       "      <td>506</td>\n",
       "      <td>278</td>\n",
       "      <td>784</td>\n",
       "      <td>0.645408</td>\n",
       "      <td>2.554622</td>\n",
       "      <td>3.222535</td>\n",
       "      <td>66.327731</td>\n",
       "      <td>43.745098</td>\n",
       "      <td>29.596639</td>\n",
       "      <td>11.025210</td>\n",
       "      <td>9.000000</td>\n",
       "      <td>3.743662</td>\n",
       "      <td>6.163380</td>\n",
       "    </tr>\n",
       "    <tr>\n",
       "      <th>12</th>\n",
       "      <td>Serena Williams</td>\n",
       "      <td>475</td>\n",
       "      <td>88</td>\n",
       "      <td>563</td>\n",
       "      <td>0.843694</td>\n",
       "      <td>7.139535</td>\n",
       "      <td>2.489583</td>\n",
       "      <td>59.764858</td>\n",
       "      <td>36.369509</td>\n",
       "      <td>27.573643</td>\n",
       "      <td>12.033592</td>\n",
       "      <td>8.666667</td>\n",
       "      <td>2.855297</td>\n",
       "      <td>4.372093</td>\n",
       "    </tr>\n",
       "    <tr>\n",
       "      <th>13</th>\n",
       "      <td>Svetlana Kuznetsova</td>\n",
       "      <td>447</td>\n",
       "      <td>221</td>\n",
       "      <td>668</td>\n",
       "      <td>0.669162</td>\n",
       "      <td>3.906061</td>\n",
       "      <td>2.376900</td>\n",
       "      <td>68.218182</td>\n",
       "      <td>41.809091</td>\n",
       "      <td>28.915152</td>\n",
       "      <td>13.793939</td>\n",
       "      <td>NaN</td>\n",
       "      <td>3.536364</td>\n",
       "      <td>5.781818</td>\n",
       "    </tr>\n",
       "    <tr>\n",
       "      <th>14</th>\n",
       "      <td>Caroline Wozniacki</td>\n",
       "      <td>415</td>\n",
       "      <td>167</td>\n",
       "      <td>582</td>\n",
       "      <td>0.713058</td>\n",
       "      <td>2.051136</td>\n",
       "      <td>1.778409</td>\n",
       "      <td>65.548295</td>\n",
       "      <td>45.238636</td>\n",
       "      <td>30.113636</td>\n",
       "      <td>10.460227</td>\n",
       "      <td>NaN</td>\n",
       "      <td>3.798295</td>\n",
       "      <td>5.994318</td>\n",
       "    </tr>\n",
       "    <tr>\n",
       "      <th>15</th>\n",
       "      <td>Flavia Pennetta</td>\n",
       "      <td>412</td>\n",
       "      <td>255</td>\n",
       "      <td>667</td>\n",
       "      <td>0.617691</td>\n",
       "      <td>3.548507</td>\n",
       "      <td>2.973881</td>\n",
       "      <td>64.708955</td>\n",
       "      <td>36.171642</td>\n",
       "      <td>25.305970</td>\n",
       "      <td>14.623134</td>\n",
       "      <td>NaN</td>\n",
       "      <td>3.682836</td>\n",
       "      <td>5.925373</td>\n",
       "    </tr>\n",
       "    <tr>\n",
       "      <th>16</th>\n",
       "      <td>Vera Zvonareva</td>\n",
       "      <td>407</td>\n",
       "      <td>200</td>\n",
       "      <td>607</td>\n",
       "      <td>0.670511</td>\n",
       "      <td>2.648649</td>\n",
       "      <td>3.656371</td>\n",
       "      <td>65.034749</td>\n",
       "      <td>39.671815</td>\n",
       "      <td>28.030888</td>\n",
       "      <td>12.610039</td>\n",
       "      <td>NaN</td>\n",
       "      <td>3.501931</td>\n",
       "      <td>5.629344</td>\n",
       "    </tr>\n",
       "    <tr>\n",
       "      <th>17</th>\n",
       "      <td>Marion Bartoli</td>\n",
       "      <td>402</td>\n",
       "      <td>263</td>\n",
       "      <td>665</td>\n",
       "      <td>0.604511</td>\n",
       "      <td>2.939502</td>\n",
       "      <td>4.250000</td>\n",
       "      <td>62.718861</td>\n",
       "      <td>38.220641</td>\n",
       "      <td>27.003559</td>\n",
       "      <td>11.992883</td>\n",
       "      <td>NaN</td>\n",
       "      <td>3.487544</td>\n",
       "      <td>5.658363</td>\n",
       "    </tr>\n",
       "    <tr>\n",
       "      <th>18</th>\n",
       "      <td>Nadia Petrova</td>\n",
       "      <td>402</td>\n",
       "      <td>233</td>\n",
       "      <td>635</td>\n",
       "      <td>0.633071</td>\n",
       "      <td>5.498069</td>\n",
       "      <td>2.996139</td>\n",
       "      <td>65.598456</td>\n",
       "      <td>39.135135</td>\n",
       "      <td>28.837838</td>\n",
       "      <td>13.277992</td>\n",
       "      <td>NaN</td>\n",
       "      <td>3.494208</td>\n",
       "      <td>5.301158</td>\n",
       "    </tr>\n",
       "    <tr>\n",
       "      <th>19</th>\n",
       "      <td>Agnieszka Radwanska</td>\n",
       "      <td>401</td>\n",
       "      <td>174</td>\n",
       "      <td>575</td>\n",
       "      <td>0.697391</td>\n",
       "      <td>2.191045</td>\n",
       "      <td>1.171687</td>\n",
       "      <td>64.576119</td>\n",
       "      <td>42.659701</td>\n",
       "      <td>28.465672</td>\n",
       "      <td>11.188060</td>\n",
       "      <td>NaN</td>\n",
       "      <td>3.773134</td>\n",
       "      <td>6.095522</td>\n",
       "    </tr>\n",
       "  </tbody>\n",
       "</table>\n",
       "</div>"
      ],
      "text/plain": [
       "            winner_name  matches_won  matches_lost  total_matches  \\\n",
       "0         Roger Federer          847           137            984   \n",
       "1          Rafael Nadal          712           141            853   \n",
       "2        Novak Djokovic          612           141            753   \n",
       "3          David Ferrer          597           289            886   \n",
       "4          Andy Roddick          512           171            683   \n",
       "5           Andy Murray          487           154            641   \n",
       "6         Tomas Berdych          485           263            748   \n",
       "7     Nikolay Davydenko          463           298            761   \n",
       "8         Tommy Robredo          429           270            699   \n",
       "9     Fernando Verdasco          404           282            686   \n",
       "10      Maria Sharapova          519           135            654   \n",
       "11      Jelena Jankovic          506           278            784   \n",
       "12      Serena Williams          475            88            563   \n",
       "13  Svetlana Kuznetsova          447           221            668   \n",
       "14   Caroline Wozniacki          415           167            582   \n",
       "15      Flavia Pennetta          412           255            667   \n",
       "16       Vera Zvonareva          407           200            607   \n",
       "17       Marion Bartoli          402           263            665   \n",
       "18        Nadia Petrova          402           233            635   \n",
       "19  Agnieszka Radwanska          401           174            575   \n",
       "\n",
       "    winning_perc      w_ace      w_df     w_svpt    w_1stIn   w_1stWon  \\\n",
       "0       0.860772   7.775434  1.496278  73.713400  46.308933  36.566998   \n",
       "1       0.834701   3.057018  1.394737  70.706140  48.704678  35.869883   \n",
       "2       0.812749   5.762565  2.124783  75.376083  48.790295  36.603120   \n",
       "3       0.673815   3.095238  2.142857  74.359788  47.696649  34.405644   \n",
       "4       0.749634  12.588358  1.659044  72.862786  48.399168  39.432432   \n",
       "5       0.759750   7.134199  2.313853  75.510823  43.852814  33.679654   \n",
       "6       0.648396   8.473451  2.203540  73.090708  42.988938  34.495575   \n",
       "7       0.608410   3.550336  2.322148  71.626398  48.445190  34.888143   \n",
       "8       0.613734   4.353081  2.139810  78.277251  51.094787  37.260664   \n",
       "9       0.588921   5.445570  3.564557  75.903797  52.473418  38.675949   \n",
       "10      0.793578   3.890306  4.933673  65.359694  41.946429  29.522959   \n",
       "11      0.645408   2.554622  3.222535  66.327731  43.745098  29.596639   \n",
       "12      0.843694   7.139535  2.489583  59.764858  36.369509  27.573643   \n",
       "13      0.669162   3.906061  2.376900  68.218182  41.809091  28.915152   \n",
       "14      0.713058   2.051136  1.778409  65.548295  45.238636  30.113636   \n",
       "15      0.617691   3.548507  2.973881  64.708955  36.171642  25.305970   \n",
       "16      0.670511   2.648649  3.656371  65.034749  39.671815  28.030888   \n",
       "17      0.604511   2.939502  4.250000  62.718861  38.220641  27.003559   \n",
       "18      0.633071   5.498069  2.996139  65.598456  39.135135  28.837838   \n",
       "19      0.697391   2.191045  1.171687  64.576119  42.659701  28.465672   \n",
       "\n",
       "     w_2ndWon    w_SvGms  w_bpSaved  w_bpFaced  \n",
       "0   16.404467  12.477667   2.470223   3.429280  \n",
       "1   13.017544  11.698830   3.038012   4.308480  \n",
       "2   15.126516  12.343154   3.150780   4.592721  \n",
       "3   14.977072  11.869489   3.518519   5.250441  \n",
       "4   14.563410  12.503119   2.087318   2.794179  \n",
       "5   17.199134  12.287879   3.229437   4.911255  \n",
       "6   16.893805  12.050885   2.942478   4.017699  \n",
       "7   12.747204  11.458613   3.579418   5.263982  \n",
       "8   15.116114  12.492891   3.642180   5.414692  \n",
       "9   12.929114  12.303797   3.592405   5.174684  \n",
       "10  11.227041        NaN   3.573980   5.772959  \n",
       "11  11.025210   9.000000   3.743662   6.163380  \n",
       "12  12.033592   8.666667   2.855297   4.372093  \n",
       "13  13.793939        NaN   3.536364   5.781818  \n",
       "14  10.460227        NaN   3.798295   5.994318  \n",
       "15  14.623134        NaN   3.682836   5.925373  \n",
       "16  12.610039        NaN   3.501931   5.629344  \n",
       "17  11.992883        NaN   3.487544   5.658363  \n",
       "18  13.277992        NaN   3.494208   5.301158  \n",
       "19  11.188060        NaN   3.773134   6.095522  "
      ]
     },
     "execution_count": 38,
     "metadata": {},
     "output_type": "execute_result"
    }
   ],
   "source": [
    "#Joining the 2 dataframes now containing names of players, number of matches and the players average match statistics\n",
    "RQ2_winners = pd.concat([df, stats], axis = 1)\n",
    "RQ2_winners#.head()"
   ]
  },
  {
   "cell_type": "markdown",
   "metadata": {
    "collapsed": true
   },
   "source": [
    "## Saving the new dataframes as csv files"
   ]
  },
  {
   "cell_type": "code",
   "execution_count": 39,
   "metadata": {
    "collapsed": true
   },
   "outputs": [],
   "source": [
    "RQ2_winners.to_csv('../data/winners_df', index = False, encoding='utf-8')"
   ]
  },
  {
   "cell_type": "code",
   "execution_count": null,
   "metadata": {
    "collapsed": true
   },
   "outputs": [],
   "source": []
  }
 ],
 "metadata": {
  "kernelspec": {
   "display_name": "Python 3",
   "language": "python",
   "name": "python3"
  },
  "language_info": {
   "codemirror_mode": {
    "name": "ipython",
    "version": 3
   },
   "file_extension": ".py",
   "mimetype": "text/x-python",
   "name": "python",
   "nbconvert_exporter": "python",
   "pygments_lexer": "ipython3",
   "version": "3.6.3"
  }
 },
 "nbformat": 4,
 "nbformat_minor": 2
}
