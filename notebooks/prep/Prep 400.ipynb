{
 "cells": [
  {
   "cell_type": "markdown",
   "metadata": {},
   "source": [
    "# Prep 400\n",
    "\n",
    "## Purpose\n",
    "In this notebook we will begin our prep for research question 2 - 'What factors impact the success of a top player?'. Primarily, we will focus on creating 2 master dataframes containing the top winners and their average match statistics and the same with the top losers. This notebook will prep the losers dataframe. \n",
    "\n",
    "## Datasets\n",
    "* The data in this notebook;\n",
    "    * Men's Singles Matches from 1968 to 2017.\n",
    "    * Women's Singles matches from 2000 to 2016.\n",
    "    * Men's Singles Matches from 2003 to 2014.\n",
    "* These datasets have been cleaned and are now in appropriate dataframes. They are used in this notebook to create the question-specific dataframes for Research Question 2; \"What factors impact the success of a top player?\"."
   ]
  },
  {
   "cell_type": "code",
   "execution_count": 1,
   "metadata": {
    "collapsed": true
   },
   "outputs": [],
   "source": [
    "#Importing relevant librarys\n",
    "import os\n",
    "import sys\n",
    "import hashlib\n",
    "import numpy as np\n",
    "import pandas as pd\n",
    "from datetime import datetime\n",
    "    \n",
    "%matplotlib inline"
   ]
  },
  {
   "cell_type": "code",
   "execution_count": 2,
   "metadata": {
    "collapsed": true
   },
   "outputs": [],
   "source": [
    "atp_main = pd.read_csv(\"../data/atp_main\", low_memory = False, index_col = 'tourney_date')"
   ]
  },
  {
   "cell_type": "code",
   "execution_count": 3,
   "metadata": {
    "collapsed": true
   },
   "outputs": [],
   "source": [
    "#converting atp_main to time series\n",
    "atp_main.index = pd.to_datetime(atp_main.index, format=\"%Y-%m-%d\", errors='coerce')"
   ]
  },
  {
   "cell_type": "code",
   "execution_count": 4,
   "metadata": {
    "collapsed": true
   },
   "outputs": [],
   "source": [
    "atp_small = pd.read_csv(\"../data/atp_small\", low_memory = False)"
   ]
  },
  {
   "cell_type": "code",
   "execution_count": 5,
   "metadata": {
    "collapsed": true
   },
   "outputs": [],
   "source": [
    "wta_dataset = pd.read_csv(\"../data/wta_dataset\", low_memory = False)"
   ]
  },
  {
   "cell_type": "code",
   "execution_count": 6,
   "metadata": {
    "collapsed": true
   },
   "outputs": [],
   "source": [
    "men_women = pd.read_csv(\"../data/men_women\", low_memory = False)"
   ]
  },
  {
   "cell_type": "markdown",
   "metadata": {},
   "source": [
    "## Creating the master losers table"
   ]
  },
  {
   "cell_type": "markdown",
   "metadata": {},
   "source": [
    "Counting the players who have lost the most matches in the respective men and womens dataframe.\n",
    "Used atp_small and wta_dataset as both dataframes are from 2003-2016 allowing for fair and comparable results."
   ]
  },
  {
   "cell_type": "markdown",
   "metadata": {},
   "source": [
    "Just because some players lost the most matches it does not mean they are necessarily a bad player. To combat this, we got the top 30 players who lost the most matches from both the mens and womens datasets. We then calculated the losing percentage for each of these players and picked the players who had the largest losing percentage."
   ]
  },
  {
   "cell_type": "code",
   "execution_count": 7,
   "metadata": {
    "collapsed": true
   },
   "outputs": [],
   "source": [
    "mens01 = atp_small['loser_name'].value_counts().head(30)\n",
    "womens01 = wta_dataset['loser_name'].value_counts().head(30)"
   ]
  },
  {
   "cell_type": "code",
   "execution_count": 8,
   "metadata": {
    "collapsed": true
   },
   "outputs": [],
   "source": [
    "#Joining the list to create list of 60 names\n",
    "both2 = [mens01, womens01]\n",
    "rq21 = pd.concat(both2)"
   ]
  },
  {
   "cell_type": "code",
   "execution_count": 9,
   "metadata": {},
   "outputs": [
    {
     "data": {
      "text/html": [
       "<div>\n",
       "<style>\n",
       "    .dataframe thead tr:only-child th {\n",
       "        text-align: right;\n",
       "    }\n",
       "\n",
       "    .dataframe thead th {\n",
       "        text-align: left;\n",
       "    }\n",
       "\n",
       "    .dataframe tbody tr th {\n",
       "        vertical-align: top;\n",
       "    }\n",
       "</style>\n",
       "<table border=\"1\" class=\"dataframe\">\n",
       "  <thead>\n",
       "    <tr style=\"text-align: right;\">\n",
       "      <th></th>\n",
       "      <th>index</th>\n",
       "      <th>col</th>\n",
       "    </tr>\n",
       "  </thead>\n",
       "  <tbody>\n",
       "    <tr>\n",
       "      <th>0</th>\n",
       "      <td>Feliciano Lopez</td>\n",
       "      <td>311</td>\n",
       "    </tr>\n",
       "    <tr>\n",
       "      <th>1</th>\n",
       "      <td>Jarkko Nieminen</td>\n",
       "      <td>301</td>\n",
       "    </tr>\n",
       "    <tr>\n",
       "      <th>2</th>\n",
       "      <td>Jurgen Melzer</td>\n",
       "      <td>300</td>\n",
       "    </tr>\n",
       "    <tr>\n",
       "      <th>3</th>\n",
       "      <td>Nikolay Davydenko</td>\n",
       "      <td>298</td>\n",
       "    </tr>\n",
       "    <tr>\n",
       "      <th>4</th>\n",
       "      <td>David Ferrer</td>\n",
       "      <td>289</td>\n",
       "    </tr>\n",
       "  </tbody>\n",
       "</table>\n",
       "</div>"
      ],
      "text/plain": [
       "               index  col\n",
       "0    Feliciano Lopez  311\n",
       "1    Jarkko Nieminen  301\n",
       "2      Jurgen Melzer  300\n",
       "3  Nikolay Davydenko  298\n",
       "4       David Ferrer  289"
      ]
     },
     "execution_count": 9,
     "metadata": {},
     "output_type": "execute_result"
    }
   ],
   "source": [
    "#converting to a dataframe\n",
    "loser1 = pd.DataFrame({'col':rq21}).reset_index()\n",
    "loser1.head()"
   ]
  },
  {
   "cell_type": "code",
   "execution_count": 10,
   "metadata": {
    "collapsed": true
   },
   "outputs": [],
   "source": [
    "#renaming columns\n",
    "loser1.columns = ['loser_name', 'matches_lost']"
   ]
  },
  {
   "cell_type": "markdown",
   "metadata": {},
   "source": [
    "Used this line of code to count the amount of matches won by each player in the table"
   ]
  },
  {
   "cell_type": "code",
   "execution_count": 11,
   "metadata": {},
   "outputs": [
    {
     "data": {
      "text/plain": [
       "401"
      ]
     },
     "execution_count": 11,
     "metadata": {},
     "output_type": "execute_result"
    }
   ],
   "source": [
    "men_women[(men_women['winner_name'] == 'Agnieszka Radwanska')]['tourney_id'].count()"
   ]
  },
  {
   "cell_type": "code",
   "execution_count": 12,
   "metadata": {
    "collapsed": true
   },
   "outputs": [],
   "source": [
    "#adding a matches won column\n",
    "loser1['matches_won']=(348, 359, 326, 463, 597, 399, 404, 264, 429, 330, 485, 347, 218, 243, 223, 197, 305, 210, 260, 333,\n",
    "                       236, 200, 380, 349, 263, 180, 341, 252, 320, 217,   \n",
    "                   391, 380, 506, 295, 402, 257, 412, 365, 402, 288, 174, 135, 447, 294, 249, 275, 247, 314, 230, 407,\n",
    "                      257, 189, 147, 393, 177, 275, 204, 159, 189, 401)"
   ]
  },
  {
   "cell_type": "code",
   "execution_count": 13,
   "metadata": {
    "collapsed": true
   },
   "outputs": [],
   "source": [
    "#adding a total matches column by summing the matches lost and the matches won\n",
    "loser1['total_matches'] = loser1['matches_lost'] + loser1['matches_won']"
   ]
  },
  {
   "cell_type": "code",
   "execution_count": 14,
   "metadata": {
    "collapsed": true
   },
   "outputs": [],
   "source": [
    "#calculating a players losing percentage\n",
    "loser1['losing_perc'] = loser1['matches_lost'] / loser1['total_matches'] "
   ]
  },
  {
   "cell_type": "code",
   "execution_count": 15,
   "metadata": {
    "collapsed": true
   },
   "outputs": [],
   "source": [
    "#only taking players with a losing percentage over 47.2%\n",
    "loser1 = loser1[(loser1['losing_perc'] > .472)]"
   ]
  },
  {
   "cell_type": "code",
   "execution_count": 16,
   "metadata": {
    "collapsed": true
   },
   "outputs": [],
   "source": [
    "#dropping 'Jurgen Melzer' (lowest losing percentage) so there are 10 men and 10 women in the table\n",
    "loser1 = loser1[loser1.loser_name != 'Jurgen Melzer'].reset_index().drop('index', axis=1)"
   ]
  },
  {
   "cell_type": "code",
   "execution_count": 17,
   "metadata": {},
   "outputs": [
    {
     "data": {
      "text/html": [
       "<div>\n",
       "<style>\n",
       "    .dataframe thead tr:only-child th {\n",
       "        text-align: right;\n",
       "    }\n",
       "\n",
       "    .dataframe thead th {\n",
       "        text-align: left;\n",
       "    }\n",
       "\n",
       "    .dataframe tbody tr th {\n",
       "        vertical-align: top;\n",
       "    }\n",
       "</style>\n",
       "<table border=\"1\" class=\"dataframe\">\n",
       "  <thead>\n",
       "    <tr style=\"text-align: right;\">\n",
       "      <th></th>\n",
       "      <th>loser_name</th>\n",
       "      <th>matches_lost</th>\n",
       "      <th>matches_won</th>\n",
       "      <th>total_matches</th>\n",
       "      <th>losing_perc</th>\n",
       "    </tr>\n",
       "  </thead>\n",
       "  <tbody>\n",
       "    <tr>\n",
       "      <th>0</th>\n",
       "      <td>Fernando Verdasco</td>\n",
       "      <td>282</td>\n",
       "      <td>264</td>\n",
       "      <td>546</td>\n",
       "      <td>0.516484</td>\n",
       "    </tr>\n",
       "    <tr>\n",
       "      <th>1</th>\n",
       "      <td>Guillermo Garcia Lopez</td>\n",
       "      <td>250</td>\n",
       "      <td>218</td>\n",
       "      <td>468</td>\n",
       "      <td>0.534188</td>\n",
       "    </tr>\n",
       "    <tr>\n",
       "      <th>2</th>\n",
       "      <td>Julien Benneteau</td>\n",
       "      <td>249</td>\n",
       "      <td>243</td>\n",
       "      <td>492</td>\n",
       "      <td>0.506098</td>\n",
       "    </tr>\n",
       "    <tr>\n",
       "      <th>3</th>\n",
       "      <td>Paul Henri Mathieu</td>\n",
       "      <td>244</td>\n",
       "      <td>223</td>\n",
       "      <td>467</td>\n",
       "      <td>0.522484</td>\n",
       "    </tr>\n",
       "    <tr>\n",
       "      <th>4</th>\n",
       "      <td>Victor Hanescu</td>\n",
       "      <td>241</td>\n",
       "      <td>197</td>\n",
       "      <td>438</td>\n",
       "      <td>0.550228</td>\n",
       "    </tr>\n",
       "  </tbody>\n",
       "</table>\n",
       "</div>"
      ],
      "text/plain": [
       "               loser_name  matches_lost  matches_won  total_matches  \\\n",
       "0       Fernando Verdasco           282          264            546   \n",
       "1  Guillermo Garcia Lopez           250          218            468   \n",
       "2        Julien Benneteau           249          243            492   \n",
       "3      Paul Henri Mathieu           244          223            467   \n",
       "4          Victor Hanescu           241          197            438   \n",
       "\n",
       "   losing_perc  \n",
       "0     0.516484  \n",
       "1     0.534188  \n",
       "2     0.506098  \n",
       "3     0.522484  \n",
       "4     0.550228  "
      ]
     },
     "execution_count": 17,
     "metadata": {},
     "output_type": "execute_result"
    }
   ],
   "source": [
    "loser1.head()"
   ]
  },
  {
   "cell_type": "code",
   "execution_count": 18,
   "metadata": {
    "collapsed": true
   },
   "outputs": [],
   "source": [
    "#getting mean of columns 40-49 (losers match statistics)\n",
    "a1 = atp_small[(atp_small['loser_name'] == 'Andreas Seppi')].iloc[:,40:49].mean()\n",
    "#converting to a dataframe, reseting the index and transposing the index column to create columns\n",
    "a1 = pd.DataFrame(a1).reset_index().set_index('index').T"
   ]
  },
  {
   "cell_type": "code",
   "execution_count": 19,
   "metadata": {
    "collapsed": true
   },
   "outputs": [],
   "source": [
    "b1 = atp_small[(atp_small['loser_name'] == 'Guillermo Garcia Lopez')].iloc[:,40:49].mean()\n",
    "b1 = pd.DataFrame(b1).reset_index().set_index('index').T"
   ]
  },
  {
   "cell_type": "code",
   "execution_count": 20,
   "metadata": {
    "collapsed": true
   },
   "outputs": [],
   "source": [
    "c1 = atp_small[(atp_small['loser_name'] == 'Julien Benneteau')].iloc[:,40:49].mean()\n",
    "c1 = pd.DataFrame(c1).reset_index().set_index('index').T"
   ]
  },
  {
   "cell_type": "code",
   "execution_count": 21,
   "metadata": {
    "collapsed": true
   },
   "outputs": [],
   "source": [
    "d1 = atp_small[(atp_small['loser_name'] == 'Paul Henri Mathieu')].iloc[:,40:49].mean()\n",
    "d1 = pd.DataFrame(d1).reset_index().set_index('index').T"
   ]
  },
  {
   "cell_type": "code",
   "execution_count": 22,
   "metadata": {
    "collapsed": true
   },
   "outputs": [],
   "source": [
    "e1 = atp_small[(atp_small['loser_name'] == 'Victor Hanescu')].iloc[:,40:49].mean()\n",
    "e1 = pd.DataFrame(e1).reset_index().set_index('index').T"
   ]
  },
  {
   "cell_type": "code",
   "execution_count": 23,
   "metadata": {
    "collapsed": true
   },
   "outputs": [],
   "source": [
    "f1 = atp_small[(atp_small['loser_name'] == 'Albert Montanes')].iloc[:,40:49].mean()\n",
    "f1 = pd.DataFrame(f1).reset_index().set_index('index').T"
   ]
  },
  {
   "cell_type": "code",
   "execution_count": 24,
   "metadata": {
    "collapsed": true
   },
   "outputs": [],
   "source": [
    "g1 = atp_small[(atp_small['loser_name'] == 'Olivier Rochus')].iloc[:,40:49].mean()\n",
    "g1 = pd.DataFrame(g1).reset_index().set_index('index').T"
   ]
  },
  {
   "cell_type": "code",
   "execution_count": 25,
   "metadata": {
    "collapsed": true
   },
   "outputs": [],
   "source": [
    "h1 = atp_small[(atp_small['loser_name'] == 'Gilles Simon')].iloc[:,40:49].mean()\n",
    "h1 = pd.DataFrame(h1).reset_index().set_index('index').T"
   ]
  },
  {
   "cell_type": "code",
   "execution_count": 26,
   "metadata": {
    "collapsed": true
   },
   "outputs": [],
   "source": [
    "i1 = atp_small[(atp_small['loser_name'] == 'Janko Tipsarevic')].iloc[:,40:49].mean()\n",
    "i1 = pd.DataFrame(i1).reset_index().set_index('index').T"
   ]
  },
  {
   "cell_type": "code",
   "execution_count": 27,
   "metadata": {
    "collapsed": true
   },
   "outputs": [],
   "source": [
    "j1 = atp_small[(atp_small['loser_name'] == 'Florian Mayer')].iloc[:,40:49].mean()\n",
    "j1 = pd.DataFrame(j1).reset_index().set_index('index').T"
   ]
  },
  {
   "cell_type": "code",
   "execution_count": 28,
   "metadata": {
    "collapsed": true
   },
   "outputs": [],
   "source": [
    "k1 = wta_dataset[(wta_dataset['loser_name'] == 'Anabel Medina Garrigues')].iloc[:,40:49].mean()\n",
    "k1 = pd.DataFrame(k1).reset_index().set_index('index').T"
   ]
  },
  {
   "cell_type": "code",
   "execution_count": 29,
   "metadata": {
    "collapsed": true
   },
   "outputs": [],
   "source": [
    "l1 = wta_dataset[(wta_dataset['loser_name'] == 'Klara Koukalova')].iloc[:,40:49].mean()\n",
    "l1 = pd.DataFrame(l1).reset_index().set_index('index').T"
   ]
  },
  {
   "cell_type": "code",
   "execution_count": 30,
   "metadata": {
    "collapsed": true
   },
   "outputs": [],
   "source": [
    "m1 = wta_dataset[(wta_dataset['loser_name'] == 'Iveta Benesova')].iloc[:,40:49].mean()\n",
    "m1 = pd.DataFrame(m1).reset_index().set_index('index').T"
   ]
  },
  {
   "cell_type": "code",
   "execution_count": 31,
   "metadata": {
    "collapsed": true
   },
   "outputs": [],
   "source": [
    "n1 = wta_dataset[(wta_dataset['loser_name'] == 'Svetlana Kuznetsova')].iloc[:,40:49].mean()\n",
    "n1 = pd.DataFrame(n1).reset_index().set_index('index').T"
   ]
  },
  {
   "cell_type": "code",
   "execution_count": 32,
   "metadata": {
    "collapsed": true
   },
   "outputs": [],
   "source": [
    "o1 = wta_dataset[(wta_dataset['loser_name'] == 'Elena Vesnina')].iloc[:,40:49].mean()\n",
    "o1 = pd.DataFrame(o1).reset_index().set_index('index').T"
   ]
  },
  {
   "cell_type": "code",
   "execution_count": 33,
   "metadata": {
    "collapsed": true
   },
   "outputs": [],
   "source": [
    "p1 = wta_dataset[(wta_dataset['loser_name'] == 'Tsvetana Pironkova')].iloc[:,40:49].mean()\n",
    "p1 = pd.DataFrame(p1).reset_index().set_index('index').T"
   ]
  },
  {
   "cell_type": "code",
   "execution_count": 34,
   "metadata": {
    "collapsed": true
   },
   "outputs": [],
   "source": [
    "q1 = wta_dataset[(wta_dataset['loser_name'] == 'Virginie Razzano')].iloc[:,40:49].mean()\n",
    "q1 = pd.DataFrame(q1).reset_index().set_index('index').T"
   ]
  },
  {
   "cell_type": "code",
   "execution_count": 35,
   "metadata": {
    "collapsed": true
   },
   "outputs": [],
   "source": [
    "r1 = wta_dataset[(wta_dataset['loser_name'] == 'Gisela Dulko')].iloc[:,40:49].mean()\n",
    "r1 = pd.DataFrame(r1).reset_index().set_index('index').T"
   ]
  },
  {
   "cell_type": "code",
   "execution_count": 36,
   "metadata": {
    "collapsed": true
   },
   "outputs": [],
   "source": [
    "s1 = wta_dataset[(wta_dataset['loser_name'] == 'Eleni Daniilidou')].iloc[:,40:49].mean()\n",
    "s1 = pd.DataFrame(s1).reset_index().set_index('index').T"
   ]
  },
  {
   "cell_type": "code",
   "execution_count": 37,
   "metadata": {
    "collapsed": true
   },
   "outputs": [],
   "source": [
    "t1 = wta_dataset[(wta_dataset['loser_name'] == 'Alize Cornet')].iloc[:,40:49].mean()\n",
    "t1 = pd.DataFrame(t1).reset_index().set_index('index').T"
   ]
  },
  {
   "cell_type": "code",
   "execution_count": 38,
   "metadata": {},
   "outputs": [
    {
     "data": {
      "text/html": [
       "<div>\n",
       "<style>\n",
       "    .dataframe thead tr:only-child th {\n",
       "        text-align: right;\n",
       "    }\n",
       "\n",
       "    .dataframe thead th {\n",
       "        text-align: left;\n",
       "    }\n",
       "\n",
       "    .dataframe tbody tr th {\n",
       "        vertical-align: top;\n",
       "    }\n",
       "</style>\n",
       "<table border=\"1\" class=\"dataframe\">\n",
       "  <thead>\n",
       "    <tr style=\"text-align: right;\">\n",
       "      <th>index</th>\n",
       "      <th>l_ace</th>\n",
       "      <th>l_df</th>\n",
       "      <th>l_svpt</th>\n",
       "      <th>l_1stIn</th>\n",
       "      <th>l_1stWon</th>\n",
       "      <th>l_2ndWon</th>\n",
       "      <th>l_SvGms</th>\n",
       "      <th>l_bpSaved</th>\n",
       "      <th>l_bpFaced</th>\n",
       "    </tr>\n",
       "  </thead>\n",
       "  <tbody>\n",
       "    <tr>\n",
       "      <th>0</th>\n",
       "      <td>3.847015</td>\n",
       "      <td>3.052239</td>\n",
       "      <td>78.940299</td>\n",
       "      <td>45.085821</td>\n",
       "      <td>29.843284</td>\n",
       "      <td>15.873134</td>\n",
       "      <td>11.944030</td>\n",
       "      <td>4.757463</td>\n",
       "      <td>8.593284</td>\n",
       "    </tr>\n",
       "    <tr>\n",
       "      <th>1</th>\n",
       "      <td>2.955823</td>\n",
       "      <td>4.188755</td>\n",
       "      <td>78.634538</td>\n",
       "      <td>46.698795</td>\n",
       "      <td>30.064257</td>\n",
       "      <td>14.293173</td>\n",
       "      <td>11.839357</td>\n",
       "      <td>4.891566</td>\n",
       "      <td>9.056225</td>\n",
       "    </tr>\n",
       "    <tr>\n",
       "      <th>2</th>\n",
       "      <td>4.788618</td>\n",
       "      <td>3.552846</td>\n",
       "      <td>79.853659</td>\n",
       "      <td>51.215447</td>\n",
       "      <td>33.353659</td>\n",
       "      <td>12.516260</td>\n",
       "      <td>12.170732</td>\n",
       "      <td>4.605691</td>\n",
       "      <td>8.638211</td>\n",
       "    </tr>\n",
       "    <tr>\n",
       "      <th>3</th>\n",
       "      <td>4.021097</td>\n",
       "      <td>3.362869</td>\n",
       "      <td>78.341772</td>\n",
       "      <td>42.696203</td>\n",
       "      <td>28.784810</td>\n",
       "      <td>17.168776</td>\n",
       "      <td>11.881857</td>\n",
       "      <td>4.472574</td>\n",
       "      <td>8.067511</td>\n",
       "    </tr>\n",
       "    <tr>\n",
       "      <th>4</th>\n",
       "      <td>4.276018</td>\n",
       "      <td>1.805430</td>\n",
       "      <td>81.642534</td>\n",
       "      <td>56.402715</td>\n",
       "      <td>37.022624</td>\n",
       "      <td>11.638009</td>\n",
       "      <td>12.425339</td>\n",
       "      <td>4.628959</td>\n",
       "      <td>8.244344</td>\n",
       "    </tr>\n",
       "  </tbody>\n",
       "</table>\n",
       "</div>"
      ],
      "text/plain": [
       "index     l_ace      l_df     l_svpt    l_1stIn   l_1stWon   l_2ndWon  \\\n",
       "0      3.847015  3.052239  78.940299  45.085821  29.843284  15.873134   \n",
       "1      2.955823  4.188755  78.634538  46.698795  30.064257  14.293173   \n",
       "2      4.788618  3.552846  79.853659  51.215447  33.353659  12.516260   \n",
       "3      4.021097  3.362869  78.341772  42.696203  28.784810  17.168776   \n",
       "4      4.276018  1.805430  81.642534  56.402715  37.022624  11.638009   \n",
       "\n",
       "index    l_SvGms  l_bpSaved  l_bpFaced  \n",
       "0      11.944030   4.757463   8.593284  \n",
       "1      11.839357   4.891566   9.056225  \n",
       "2      12.170732   4.605691   8.638211  \n",
       "3      11.881857   4.472574   8.067511  \n",
       "4      12.425339   4.628959   8.244344  "
      ]
     },
     "execution_count": 38,
     "metadata": {},
     "output_type": "execute_result"
    }
   ],
   "source": [
    "#Joining all the individual match statistics dataframes\n",
    "stats1 = pd.concat([a1,b1,c1,d1,e1,f1,g1,h1,i1,j1,k1,l1,m1,n1,o1,p1,q1,r1,s1,t1]).reset_index().drop('index', 1)\n",
    "stats1.head()"
   ]
  },
  {
   "cell_type": "code",
   "execution_count": 39,
   "metadata": {},
   "outputs": [
    {
     "data": {
      "text/html": [
       "<div>\n",
       "<style>\n",
       "    .dataframe thead tr:only-child th {\n",
       "        text-align: right;\n",
       "    }\n",
       "\n",
       "    .dataframe thead th {\n",
       "        text-align: left;\n",
       "    }\n",
       "\n",
       "    .dataframe tbody tr th {\n",
       "        vertical-align: top;\n",
       "    }\n",
       "</style>\n",
       "<table border=\"1\" class=\"dataframe\">\n",
       "  <thead>\n",
       "    <tr style=\"text-align: right;\">\n",
       "      <th></th>\n",
       "      <th>loser_name</th>\n",
       "      <th>matches_lost</th>\n",
       "      <th>matches_won</th>\n",
       "      <th>total_matches</th>\n",
       "      <th>losing_perc</th>\n",
       "      <th>l_ace</th>\n",
       "      <th>l_df</th>\n",
       "      <th>l_svpt</th>\n",
       "      <th>l_1stIn</th>\n",
       "      <th>l_1stWon</th>\n",
       "      <th>l_2ndWon</th>\n",
       "      <th>l_SvGms</th>\n",
       "      <th>l_bpSaved</th>\n",
       "      <th>l_bpFaced</th>\n",
       "    </tr>\n",
       "  </thead>\n",
       "  <tbody>\n",
       "    <tr>\n",
       "      <th>0</th>\n",
       "      <td>Fernando Verdasco</td>\n",
       "      <td>282</td>\n",
       "      <td>264</td>\n",
       "      <td>546</td>\n",
       "      <td>0.516484</td>\n",
       "      <td>3.847015</td>\n",
       "      <td>3.052239</td>\n",
       "      <td>78.940299</td>\n",
       "      <td>45.085821</td>\n",
       "      <td>29.843284</td>\n",
       "      <td>15.873134</td>\n",
       "      <td>11.944030</td>\n",
       "      <td>4.757463</td>\n",
       "      <td>8.593284</td>\n",
       "    </tr>\n",
       "    <tr>\n",
       "      <th>1</th>\n",
       "      <td>Guillermo Garcia Lopez</td>\n",
       "      <td>250</td>\n",
       "      <td>218</td>\n",
       "      <td>468</td>\n",
       "      <td>0.534188</td>\n",
       "      <td>2.955823</td>\n",
       "      <td>4.188755</td>\n",
       "      <td>78.634538</td>\n",
       "      <td>46.698795</td>\n",
       "      <td>30.064257</td>\n",
       "      <td>14.293173</td>\n",
       "      <td>11.839357</td>\n",
       "      <td>4.891566</td>\n",
       "      <td>9.056225</td>\n",
       "    </tr>\n",
       "    <tr>\n",
       "      <th>2</th>\n",
       "      <td>Julien Benneteau</td>\n",
       "      <td>249</td>\n",
       "      <td>243</td>\n",
       "      <td>492</td>\n",
       "      <td>0.506098</td>\n",
       "      <td>4.788618</td>\n",
       "      <td>3.552846</td>\n",
       "      <td>79.853659</td>\n",
       "      <td>51.215447</td>\n",
       "      <td>33.353659</td>\n",
       "      <td>12.516260</td>\n",
       "      <td>12.170732</td>\n",
       "      <td>4.605691</td>\n",
       "      <td>8.638211</td>\n",
       "    </tr>\n",
       "    <tr>\n",
       "      <th>3</th>\n",
       "      <td>Paul Henri Mathieu</td>\n",
       "      <td>244</td>\n",
       "      <td>223</td>\n",
       "      <td>467</td>\n",
       "      <td>0.522484</td>\n",
       "      <td>4.021097</td>\n",
       "      <td>3.362869</td>\n",
       "      <td>78.341772</td>\n",
       "      <td>42.696203</td>\n",
       "      <td>28.784810</td>\n",
       "      <td>17.168776</td>\n",
       "      <td>11.881857</td>\n",
       "      <td>4.472574</td>\n",
       "      <td>8.067511</td>\n",
       "    </tr>\n",
       "    <tr>\n",
       "      <th>4</th>\n",
       "      <td>Victor Hanescu</td>\n",
       "      <td>241</td>\n",
       "      <td>197</td>\n",
       "      <td>438</td>\n",
       "      <td>0.550228</td>\n",
       "      <td>4.276018</td>\n",
       "      <td>1.805430</td>\n",
       "      <td>81.642534</td>\n",
       "      <td>56.402715</td>\n",
       "      <td>37.022624</td>\n",
       "      <td>11.638009</td>\n",
       "      <td>12.425339</td>\n",
       "      <td>4.628959</td>\n",
       "      <td>8.244344</td>\n",
       "    </tr>\n",
       "    <tr>\n",
       "      <th>5</th>\n",
       "      <td>Albert Montanes</td>\n",
       "      <td>237</td>\n",
       "      <td>210</td>\n",
       "      <td>447</td>\n",
       "      <td>0.530201</td>\n",
       "      <td>2.729958</td>\n",
       "      <td>3.679325</td>\n",
       "      <td>74.177215</td>\n",
       "      <td>43.856540</td>\n",
       "      <td>28.122363</td>\n",
       "      <td>13.603376</td>\n",
       "      <td>11.270042</td>\n",
       "      <td>4.573840</td>\n",
       "      <td>8.658228</td>\n",
       "    </tr>\n",
       "    <tr>\n",
       "      <th>6</th>\n",
       "      <td>Igor Andreev</td>\n",
       "      <td>229</td>\n",
       "      <td>236</td>\n",
       "      <td>465</td>\n",
       "      <td>0.492473</td>\n",
       "      <td>1.411215</td>\n",
       "      <td>2.724299</td>\n",
       "      <td>80.042056</td>\n",
       "      <td>48.962617</td>\n",
       "      <td>30.200935</td>\n",
       "      <td>14.691589</td>\n",
       "      <td>11.855140</td>\n",
       "      <td>5.158879</td>\n",
       "      <td>9.317757</td>\n",
       "    </tr>\n",
       "    <tr>\n",
       "      <th>7</th>\n",
       "      <td>Gilles Simon</td>\n",
       "      <td>229</td>\n",
       "      <td>200</td>\n",
       "      <td>429</td>\n",
       "      <td>0.533800</td>\n",
       "      <td>3.841629</td>\n",
       "      <td>2.303167</td>\n",
       "      <td>78.701357</td>\n",
       "      <td>43.981900</td>\n",
       "      <td>28.438914</td>\n",
       "      <td>16.398190</td>\n",
       "      <td>11.936652</td>\n",
       "      <td>4.904977</td>\n",
       "      <td>9.067873</td>\n",
       "    </tr>\n",
       "    <tr>\n",
       "      <th>8</th>\n",
       "      <td>Janko Tipsarevic</td>\n",
       "      <td>218</td>\n",
       "      <td>180</td>\n",
       "      <td>398</td>\n",
       "      <td>0.547739</td>\n",
       "      <td>5.916256</td>\n",
       "      <td>2.812808</td>\n",
       "      <td>79.871921</td>\n",
       "      <td>44.758621</td>\n",
       "      <td>31.064039</td>\n",
       "      <td>16.354680</td>\n",
       "      <td>12.054187</td>\n",
       "      <td>4.596059</td>\n",
       "      <td>8.108374</td>\n",
       "    </tr>\n",
       "    <tr>\n",
       "      <th>9</th>\n",
       "      <td>Florian Mayer</td>\n",
       "      <td>211</td>\n",
       "      <td>217</td>\n",
       "      <td>428</td>\n",
       "      <td>0.492991</td>\n",
       "      <td>3.291457</td>\n",
       "      <td>2.045226</td>\n",
       "      <td>72.618090</td>\n",
       "      <td>43.929648</td>\n",
       "      <td>28.020101</td>\n",
       "      <td>12.793970</td>\n",
       "      <td>11.115578</td>\n",
       "      <td>4.050251</td>\n",
       "      <td>8.050251</td>\n",
       "    </tr>\n",
       "    <tr>\n",
       "      <th>10</th>\n",
       "      <td>Anabel Medina Garrigues</td>\n",
       "      <td>264</td>\n",
       "      <td>295</td>\n",
       "      <td>559</td>\n",
       "      <td>0.472272</td>\n",
       "      <td>1.101911</td>\n",
       "      <td>1.917197</td>\n",
       "      <td>72.140127</td>\n",
       "      <td>46.031847</td>\n",
       "      <td>25.751592</td>\n",
       "      <td>10.891720</td>\n",
       "      <td>NaN</td>\n",
       "      <td>4.866242</td>\n",
       "      <td>10.070064</td>\n",
       "    </tr>\n",
       "    <tr>\n",
       "      <th>11</th>\n",
       "      <td>Klara Koukalova</td>\n",
       "      <td>258</td>\n",
       "      <td>257</td>\n",
       "      <td>515</td>\n",
       "      <td>0.500971</td>\n",
       "      <td>1.117647</td>\n",
       "      <td>4.176471</td>\n",
       "      <td>66.411765</td>\n",
       "      <td>37.235294</td>\n",
       "      <td>20.411765</td>\n",
       "      <td>11.058824</td>\n",
       "      <td>NaN</td>\n",
       "      <td>5.000000</td>\n",
       "      <td>10.882353</td>\n",
       "    </tr>\n",
       "    <tr>\n",
       "      <th>12</th>\n",
       "      <td>Iveta Benesova</td>\n",
       "      <td>222</td>\n",
       "      <td>174</td>\n",
       "      <td>396</td>\n",
       "      <td>0.560606</td>\n",
       "      <td>0.400000</td>\n",
       "      <td>3.800000</td>\n",
       "      <td>66.000000</td>\n",
       "      <td>36.400000</td>\n",
       "      <td>21.400000</td>\n",
       "      <td>12.200000</td>\n",
       "      <td>NaN</td>\n",
       "      <td>3.800000</td>\n",
       "      <td>8.400000</td>\n",
       "    </tr>\n",
       "    <tr>\n",
       "      <th>13</th>\n",
       "      <td>Svetlana Kuznetsova</td>\n",
       "      <td>221</td>\n",
       "      <td>135</td>\n",
       "      <td>356</td>\n",
       "      <td>0.620787</td>\n",
       "      <td>2.945122</td>\n",
       "      <td>3.214724</td>\n",
       "      <td>76.396341</td>\n",
       "      <td>47.591463</td>\n",
       "      <td>28.250000</td>\n",
       "      <td>11.902439</td>\n",
       "      <td>NaN</td>\n",
       "      <td>5.121951</td>\n",
       "      <td>10.182927</td>\n",
       "    </tr>\n",
       "    <tr>\n",
       "      <th>14</th>\n",
       "      <td>Elena Vesnina</td>\n",
       "      <td>189</td>\n",
       "      <td>189</td>\n",
       "      <td>378</td>\n",
       "      <td>0.500000</td>\n",
       "      <td>1.923567</td>\n",
       "      <td>4.397436</td>\n",
       "      <td>70.522293</td>\n",
       "      <td>43.745223</td>\n",
       "      <td>24.936306</td>\n",
       "      <td>10.713376</td>\n",
       "      <td>NaN</td>\n",
       "      <td>5.019108</td>\n",
       "      <td>10.114650</td>\n",
       "    </tr>\n",
       "    <tr>\n",
       "      <th>15</th>\n",
       "      <td>Ana Ivanovic</td>\n",
       "      <td>188</td>\n",
       "      <td>147</td>\n",
       "      <td>335</td>\n",
       "      <td>0.561194</td>\n",
       "      <td>1.832168</td>\n",
       "      <td>2.394366</td>\n",
       "      <td>72.146853</td>\n",
       "      <td>41.776224</td>\n",
       "      <td>24.216783</td>\n",
       "      <td>12.125874</td>\n",
       "      <td>NaN</td>\n",
       "      <td>4.923077</td>\n",
       "      <td>10.321678</td>\n",
       "    </tr>\n",
       "    <tr>\n",
       "      <th>16</th>\n",
       "      <td>Virginie Razzano</td>\n",
       "      <td>187</td>\n",
       "      <td>177</td>\n",
       "      <td>364</td>\n",
       "      <td>0.513736</td>\n",
       "      <td>1.395161</td>\n",
       "      <td>4.177419</td>\n",
       "      <td>71.959677</td>\n",
       "      <td>46.669355</td>\n",
       "      <td>26.193548</td>\n",
       "      <td>10.258065</td>\n",
       "      <td>NaN</td>\n",
       "      <td>5.540323</td>\n",
       "      <td>10.661290</td>\n",
       "    </tr>\n",
       "    <tr>\n",
       "      <th>17</th>\n",
       "      <td>Gisela Dulko</td>\n",
       "      <td>183</td>\n",
       "      <td>204</td>\n",
       "      <td>387</td>\n",
       "      <td>0.472868</td>\n",
       "      <td>1.307692</td>\n",
       "      <td>4.324786</td>\n",
       "      <td>68.470085</td>\n",
       "      <td>41.376068</td>\n",
       "      <td>23.085470</td>\n",
       "      <td>11.042735</td>\n",
       "      <td>NaN</td>\n",
       "      <td>4.803419</td>\n",
       "      <td>9.923077</td>\n",
       "    </tr>\n",
       "    <tr>\n",
       "      <th>18</th>\n",
       "      <td>Eleni Daniilidou</td>\n",
       "      <td>180</td>\n",
       "      <td>159</td>\n",
       "      <td>339</td>\n",
       "      <td>0.530973</td>\n",
       "      <td>0.898990</td>\n",
       "      <td>6.232323</td>\n",
       "      <td>68.535354</td>\n",
       "      <td>45.858586</td>\n",
       "      <td>25.868687</td>\n",
       "      <td>7.979798</td>\n",
       "      <td>NaN</td>\n",
       "      <td>4.626263</td>\n",
       "      <td>9.888889</td>\n",
       "    </tr>\n",
       "    <tr>\n",
       "      <th>19</th>\n",
       "      <td>Alize Cornet</td>\n",
       "      <td>176</td>\n",
       "      <td>189</td>\n",
       "      <td>365</td>\n",
       "      <td>0.482192</td>\n",
       "      <td>1.463087</td>\n",
       "      <td>4.744966</td>\n",
       "      <td>71.832215</td>\n",
       "      <td>42.362416</td>\n",
       "      <td>23.953020</td>\n",
       "      <td>11.463087</td>\n",
       "      <td>NaN</td>\n",
       "      <td>5.342282</td>\n",
       "      <td>10.845638</td>\n",
       "    </tr>\n",
       "  </tbody>\n",
       "</table>\n",
       "</div>"
      ],
      "text/plain": [
       "                 loser_name  matches_lost  matches_won  total_matches  \\\n",
       "0         Fernando Verdasco           282          264            546   \n",
       "1    Guillermo Garcia Lopez           250          218            468   \n",
       "2          Julien Benneteau           249          243            492   \n",
       "3        Paul Henri Mathieu           244          223            467   \n",
       "4            Victor Hanescu           241          197            438   \n",
       "5           Albert Montanes           237          210            447   \n",
       "6              Igor Andreev           229          236            465   \n",
       "7              Gilles Simon           229          200            429   \n",
       "8          Janko Tipsarevic           218          180            398   \n",
       "9             Florian Mayer           211          217            428   \n",
       "10  Anabel Medina Garrigues           264          295            559   \n",
       "11          Klara Koukalova           258          257            515   \n",
       "12           Iveta Benesova           222          174            396   \n",
       "13      Svetlana Kuznetsova           221          135            356   \n",
       "14            Elena Vesnina           189          189            378   \n",
       "15             Ana Ivanovic           188          147            335   \n",
       "16         Virginie Razzano           187          177            364   \n",
       "17             Gisela Dulko           183          204            387   \n",
       "18         Eleni Daniilidou           180          159            339   \n",
       "19             Alize Cornet           176          189            365   \n",
       "\n",
       "    losing_perc     l_ace      l_df     l_svpt    l_1stIn   l_1stWon  \\\n",
       "0      0.516484  3.847015  3.052239  78.940299  45.085821  29.843284   \n",
       "1      0.534188  2.955823  4.188755  78.634538  46.698795  30.064257   \n",
       "2      0.506098  4.788618  3.552846  79.853659  51.215447  33.353659   \n",
       "3      0.522484  4.021097  3.362869  78.341772  42.696203  28.784810   \n",
       "4      0.550228  4.276018  1.805430  81.642534  56.402715  37.022624   \n",
       "5      0.530201  2.729958  3.679325  74.177215  43.856540  28.122363   \n",
       "6      0.492473  1.411215  2.724299  80.042056  48.962617  30.200935   \n",
       "7      0.533800  3.841629  2.303167  78.701357  43.981900  28.438914   \n",
       "8      0.547739  5.916256  2.812808  79.871921  44.758621  31.064039   \n",
       "9      0.492991  3.291457  2.045226  72.618090  43.929648  28.020101   \n",
       "10     0.472272  1.101911  1.917197  72.140127  46.031847  25.751592   \n",
       "11     0.500971  1.117647  4.176471  66.411765  37.235294  20.411765   \n",
       "12     0.560606  0.400000  3.800000  66.000000  36.400000  21.400000   \n",
       "13     0.620787  2.945122  3.214724  76.396341  47.591463  28.250000   \n",
       "14     0.500000  1.923567  4.397436  70.522293  43.745223  24.936306   \n",
       "15     0.561194  1.832168  2.394366  72.146853  41.776224  24.216783   \n",
       "16     0.513736  1.395161  4.177419  71.959677  46.669355  26.193548   \n",
       "17     0.472868  1.307692  4.324786  68.470085  41.376068  23.085470   \n",
       "18     0.530973  0.898990  6.232323  68.535354  45.858586  25.868687   \n",
       "19     0.482192  1.463087  4.744966  71.832215  42.362416  23.953020   \n",
       "\n",
       "     l_2ndWon    l_SvGms  l_bpSaved  l_bpFaced  \n",
       "0   15.873134  11.944030   4.757463   8.593284  \n",
       "1   14.293173  11.839357   4.891566   9.056225  \n",
       "2   12.516260  12.170732   4.605691   8.638211  \n",
       "3   17.168776  11.881857   4.472574   8.067511  \n",
       "4   11.638009  12.425339   4.628959   8.244344  \n",
       "5   13.603376  11.270042   4.573840   8.658228  \n",
       "6   14.691589  11.855140   5.158879   9.317757  \n",
       "7   16.398190  11.936652   4.904977   9.067873  \n",
       "8   16.354680  12.054187   4.596059   8.108374  \n",
       "9   12.793970  11.115578   4.050251   8.050251  \n",
       "10  10.891720        NaN   4.866242  10.070064  \n",
       "11  11.058824        NaN   5.000000  10.882353  \n",
       "12  12.200000        NaN   3.800000   8.400000  \n",
       "13  11.902439        NaN   5.121951  10.182927  \n",
       "14  10.713376        NaN   5.019108  10.114650  \n",
       "15  12.125874        NaN   4.923077  10.321678  \n",
       "16  10.258065        NaN   5.540323  10.661290  \n",
       "17  11.042735        NaN   4.803419   9.923077  \n",
       "18   7.979798        NaN   4.626263   9.888889  \n",
       "19  11.463087        NaN   5.342282  10.845638  "
      ]
     },
     "execution_count": 39,
     "metadata": {},
     "output_type": "execute_result"
    }
   ],
   "source": [
    "#Joining the 2 dataframes\n",
    "RQ2_losers = pd.concat([loser1, stats1], axis = 1)\n",
    "RQ2_losers#.head()"
   ]
  },
  {
   "cell_type": "markdown",
   "metadata": {},
   "source": [
    "## Saving the new dataframe as csv file"
   ]
  },
  {
   "cell_type": "code",
   "execution_count": 40,
   "metadata": {
    "collapsed": true
   },
   "outputs": [],
   "source": [
    "RQ2_losers.to_csv('../data/losers_df', index = False, encoding='utf-8')"
   ]
  },
  {
   "cell_type": "code",
   "execution_count": null,
   "metadata": {
    "collapsed": true
   },
   "outputs": [],
   "source": []
  }
 ],
 "metadata": {
  "kernelspec": {
   "display_name": "Python 3",
   "language": "python",
   "name": "python3"
  },
  "language_info": {
   "codemirror_mode": {
    "name": "ipython",
    "version": 3
   },
   "file_extension": ".py",
   "mimetype": "text/x-python",
   "name": "python",
   "nbconvert_exporter": "python",
   "pygments_lexer": "ipython3",
   "version": "3.6.3"
  }
 },
 "nbformat": 4,
 "nbformat_minor": 2
}
